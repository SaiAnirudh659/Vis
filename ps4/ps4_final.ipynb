{
  "nbformat": 4,
  "nbformat_minor": 0,
  "metadata": {
    "colab": {
      "provenance": [],
      "toc_visible": true
    },
    "kernelspec": {
      "name": "python3",
      "display_name": "Python 3"
    },
    "language_info": {
      "name": "python"
    }
  },
  "cells": [
    {
      "cell_type": "markdown",
      "source": [
        "# Step 1: Introduction + Research Question"
      ],
      "metadata": {
        "id": "ii3IUqqE7AMz"
      }
    },
    {
      "cell_type": "markdown",
      "source": [
        "# Does Economic Growth Hurt the Environment?\n",
        "\n",
        "* This project investigates how GDP correlates with environmental metrics like air pollution and temperature anomalies, using regression and forecasting techniques to understand trends globally and regionally.\n"
      ],
      "metadata": {
        "id": "DMlynbVr7Fb8"
      }
    },
    {
      "cell_type": "markdown",
      "source": [
        "# Step 2: Data Collection & Cleaning"
      ],
      "metadata": {
        "id": "_xyQb0Qs8Ey4"
      }
    },
    {
      "cell_type": "markdown",
      "source": [
        "# Datasets:\n",
        "\n",
        "* World Bank GDP\n",
        "* WHO/OWID Air Pollution\n",
        "* NASA Temperature Anomalies"
      ],
      "metadata": {
        "id": "8ZGt5ePU8JUc"
      }
    },
    {
      "cell_type": "code",
      "source": [
        "import pandas as pd\n",
        "\n",
        "# Load datasets\n",
        "gdp_url = \"https://raw.githubusercontent.com/SaiAnirudh659/Vis/refs/heads/main/ps4/gdp_data.csv\"\n",
        "pollution_url = \"https://raw.githubusercontent.com/SaiAnirudh659/Vis/refs/heads/main/ps4/air_pollution.csv\"\n",
        "temp_url = \"https://raw.githubusercontent.com/SaiAnirudh659/Vis/refs/heads/main/ps4/temperature_anomalies.csv\"\n",
        "\n",
        "gdp = pd.read_csv(gdp_url)\n",
        "pollution = pd.read_csv(pollution_url)\n",
        "temperature = pd.read_csv(temp_url)\n",
        "\n",
        "# Rename for consistency\n",
        "gdp = gdp.rename(columns={'Country Name': 'Country', 'Value': 'GDP'})\n",
        "pollution = pollution.rename(columns={\n",
        "    'Entity': 'Country',\n",
        "    'PM2.5 air pollution (µg/m³)': 'Pollution'\n",
        "})\n",
        "temperature = temperature.rename(columns={'TemperatureAnomaly': 'Temp_Anomaly'})"
      ],
      "metadata": {
        "id": "Do-gvA169WGV"
      },
      "execution_count": 1,
      "outputs": []
    },
    {
      "cell_type": "markdown",
      "source": [
        "# Step 3: Data Merging & Cleaning"
      ],
      "metadata": {
        "id": "Bx5aeaVu9wuw"
      }
    },
    {
      "cell_type": "code",
      "source": [
        "pollution = pollution.rename(columns={'PollutionIndex': 'Pollution'})"
      ],
      "metadata": {
        "id": "RsbARzyO_Eqb"
      },
      "execution_count": 2,
      "outputs": []
    },
    {
      "cell_type": "code",
      "source": [
        "# Merge GDP and Pollution\n",
        "df = pd.merge(gdp, pollution, on=[\"Country\", \"Year\"], how=\"inner\")\n",
        "\n",
        "# Merge with Temperature Anomalies\n",
        "df = pd.merge(df, temperature, on=[\"Country\", \"Year\"], how=\"left\")\n",
        "\n",
        "# Final columns cleanup\n",
        "df = df[['Country', 'Year', 'GDP', 'Pollution', 'Temp_Anomaly']].dropna()\n",
        "df.head()"
      ],
      "metadata": {
        "colab": {
          "base_uri": "https://localhost:8080/",
          "height": 201
        },
        "id": "R36M7IcL-CGb",
        "outputId": "31d2027c-d11b-4590-a0b5-c208f33d439c"
      },
      "execution_count": 3,
      "outputs": [
        {
          "output_type": "execute_result",
          "data": {
            "text/plain": [
              "         Country  Year           GDP  Pollution  Temp_Anomaly\n",
              "0  United States  2010  3.577771e+12  15.222024      1.377048\n",
              "1  United States  2011  4.546423e+12  38.644959      1.251963\n",
              "2  United States  2012  9.087469e+12  80.118787      0.724579\n",
              "3  United States  2013  1.393573e+13  43.927663      1.222565\n",
              "4  United States  2014  9.677496e+12  81.627678      1.416284"
            ],
            "text/html": [
              "\n",
              "  <div id=\"df-af2e2941-0e7a-4d35-b020-214648df4e59\" class=\"colab-df-container\">\n",
              "    <div>\n",
              "<style scoped>\n",
              "    .dataframe tbody tr th:only-of-type {\n",
              "        vertical-align: middle;\n",
              "    }\n",
              "\n",
              "    .dataframe tbody tr th {\n",
              "        vertical-align: top;\n",
              "    }\n",
              "\n",
              "    .dataframe thead th {\n",
              "        text-align: right;\n",
              "    }\n",
              "</style>\n",
              "<table border=\"1\" class=\"dataframe\">\n",
              "  <thead>\n",
              "    <tr style=\"text-align: right;\">\n",
              "      <th></th>\n",
              "      <th>Country</th>\n",
              "      <th>Year</th>\n",
              "      <th>GDP</th>\n",
              "      <th>Pollution</th>\n",
              "      <th>Temp_Anomaly</th>\n",
              "    </tr>\n",
              "  </thead>\n",
              "  <tbody>\n",
              "    <tr>\n",
              "      <th>0</th>\n",
              "      <td>United States</td>\n",
              "      <td>2010</td>\n",
              "      <td>3.577771e+12</td>\n",
              "      <td>15.222024</td>\n",
              "      <td>1.377048</td>\n",
              "    </tr>\n",
              "    <tr>\n",
              "      <th>1</th>\n",
              "      <td>United States</td>\n",
              "      <td>2011</td>\n",
              "      <td>4.546423e+12</td>\n",
              "      <td>38.644959</td>\n",
              "      <td>1.251963</td>\n",
              "    </tr>\n",
              "    <tr>\n",
              "      <th>2</th>\n",
              "      <td>United States</td>\n",
              "      <td>2012</td>\n",
              "      <td>9.087469e+12</td>\n",
              "      <td>80.118787</td>\n",
              "      <td>0.724579</td>\n",
              "    </tr>\n",
              "    <tr>\n",
              "      <th>3</th>\n",
              "      <td>United States</td>\n",
              "      <td>2013</td>\n",
              "      <td>1.393573e+13</td>\n",
              "      <td>43.927663</td>\n",
              "      <td>1.222565</td>\n",
              "    </tr>\n",
              "    <tr>\n",
              "      <th>4</th>\n",
              "      <td>United States</td>\n",
              "      <td>2014</td>\n",
              "      <td>9.677496e+12</td>\n",
              "      <td>81.627678</td>\n",
              "      <td>1.416284</td>\n",
              "    </tr>\n",
              "  </tbody>\n",
              "</table>\n",
              "</div>\n",
              "    <div class=\"colab-df-buttons\">\n",
              "\n",
              "  <div class=\"colab-df-container\">\n",
              "    <button class=\"colab-df-convert\" onclick=\"convertToInteractive('df-af2e2941-0e7a-4d35-b020-214648df4e59')\"\n",
              "            title=\"Convert this dataframe to an interactive table.\"\n",
              "            style=\"display:none;\">\n",
              "\n",
              "  <svg xmlns=\"http://www.w3.org/2000/svg\" height=\"24px\" viewBox=\"0 -960 960 960\">\n",
              "    <path d=\"M120-120v-720h720v720H120Zm60-500h600v-160H180v160Zm220 220h160v-160H400v160Zm0 220h160v-160H400v160ZM180-400h160v-160H180v160Zm440 0h160v-160H620v160ZM180-180h160v-160H180v160Zm440 0h160v-160H620v160Z\"/>\n",
              "  </svg>\n",
              "    </button>\n",
              "\n",
              "  <style>\n",
              "    .colab-df-container {\n",
              "      display:flex;\n",
              "      gap: 12px;\n",
              "    }\n",
              "\n",
              "    .colab-df-convert {\n",
              "      background-color: #E8F0FE;\n",
              "      border: none;\n",
              "      border-radius: 50%;\n",
              "      cursor: pointer;\n",
              "      display: none;\n",
              "      fill: #1967D2;\n",
              "      height: 32px;\n",
              "      padding: 0 0 0 0;\n",
              "      width: 32px;\n",
              "    }\n",
              "\n",
              "    .colab-df-convert:hover {\n",
              "      background-color: #E2EBFA;\n",
              "      box-shadow: 0px 1px 2px rgba(60, 64, 67, 0.3), 0px 1px 3px 1px rgba(60, 64, 67, 0.15);\n",
              "      fill: #174EA6;\n",
              "    }\n",
              "\n",
              "    .colab-df-buttons div {\n",
              "      margin-bottom: 4px;\n",
              "    }\n",
              "\n",
              "    [theme=dark] .colab-df-convert {\n",
              "      background-color: #3B4455;\n",
              "      fill: #D2E3FC;\n",
              "    }\n",
              "\n",
              "    [theme=dark] .colab-df-convert:hover {\n",
              "      background-color: #434B5C;\n",
              "      box-shadow: 0px 1px 3px 1px rgba(0, 0, 0, 0.15);\n",
              "      filter: drop-shadow(0px 1px 2px rgba(0, 0, 0, 0.3));\n",
              "      fill: #FFFFFF;\n",
              "    }\n",
              "  </style>\n",
              "\n",
              "    <script>\n",
              "      const buttonEl =\n",
              "        document.querySelector('#df-af2e2941-0e7a-4d35-b020-214648df4e59 button.colab-df-convert');\n",
              "      buttonEl.style.display =\n",
              "        google.colab.kernel.accessAllowed ? 'block' : 'none';\n",
              "\n",
              "      async function convertToInteractive(key) {\n",
              "        const element = document.querySelector('#df-af2e2941-0e7a-4d35-b020-214648df4e59');\n",
              "        const dataTable =\n",
              "          await google.colab.kernel.invokeFunction('convertToInteractive',\n",
              "                                                    [key], {});\n",
              "        if (!dataTable) return;\n",
              "\n",
              "        const docLinkHtml = 'Like what you see? Visit the ' +\n",
              "          '<a target=\"_blank\" href=https://colab.research.google.com/notebooks/data_table.ipynb>data table notebook</a>'\n",
              "          + ' to learn more about interactive tables.';\n",
              "        element.innerHTML = '';\n",
              "        dataTable['output_type'] = 'display_data';\n",
              "        await google.colab.output.renderOutput(dataTable, element);\n",
              "        const docLink = document.createElement('div');\n",
              "        docLink.innerHTML = docLinkHtml;\n",
              "        element.appendChild(docLink);\n",
              "      }\n",
              "    </script>\n",
              "  </div>\n",
              "\n",
              "\n",
              "<div id=\"df-0f1b200f-8746-45f7-91ae-764de1e52318\">\n",
              "  <button class=\"colab-df-quickchart\" onclick=\"quickchart('df-0f1b200f-8746-45f7-91ae-764de1e52318')\"\n",
              "            title=\"Suggest charts\"\n",
              "            style=\"display:none;\">\n",
              "\n",
              "<svg xmlns=\"http://www.w3.org/2000/svg\" height=\"24px\"viewBox=\"0 0 24 24\"\n",
              "     width=\"24px\">\n",
              "    <g>\n",
              "        <path d=\"M19 3H5c-1.1 0-2 .9-2 2v14c0 1.1.9 2 2 2h14c1.1 0 2-.9 2-2V5c0-1.1-.9-2-2-2zM9 17H7v-7h2v7zm4 0h-2V7h2v10zm4 0h-2v-4h2v4z\"/>\n",
              "    </g>\n",
              "</svg>\n",
              "  </button>\n",
              "\n",
              "<style>\n",
              "  .colab-df-quickchart {\n",
              "      --bg-color: #E8F0FE;\n",
              "      --fill-color: #1967D2;\n",
              "      --hover-bg-color: #E2EBFA;\n",
              "      --hover-fill-color: #174EA6;\n",
              "      --disabled-fill-color: #AAA;\n",
              "      --disabled-bg-color: #DDD;\n",
              "  }\n",
              "\n",
              "  [theme=dark] .colab-df-quickchart {\n",
              "      --bg-color: #3B4455;\n",
              "      --fill-color: #D2E3FC;\n",
              "      --hover-bg-color: #434B5C;\n",
              "      --hover-fill-color: #FFFFFF;\n",
              "      --disabled-bg-color: #3B4455;\n",
              "      --disabled-fill-color: #666;\n",
              "  }\n",
              "\n",
              "  .colab-df-quickchart {\n",
              "    background-color: var(--bg-color);\n",
              "    border: none;\n",
              "    border-radius: 50%;\n",
              "    cursor: pointer;\n",
              "    display: none;\n",
              "    fill: var(--fill-color);\n",
              "    height: 32px;\n",
              "    padding: 0;\n",
              "    width: 32px;\n",
              "  }\n",
              "\n",
              "  .colab-df-quickchart:hover {\n",
              "    background-color: var(--hover-bg-color);\n",
              "    box-shadow: 0 1px 2px rgba(60, 64, 67, 0.3), 0 1px 3px 1px rgba(60, 64, 67, 0.15);\n",
              "    fill: var(--button-hover-fill-color);\n",
              "  }\n",
              "\n",
              "  .colab-df-quickchart-complete:disabled,\n",
              "  .colab-df-quickchart-complete:disabled:hover {\n",
              "    background-color: var(--disabled-bg-color);\n",
              "    fill: var(--disabled-fill-color);\n",
              "    box-shadow: none;\n",
              "  }\n",
              "\n",
              "  .colab-df-spinner {\n",
              "    border: 2px solid var(--fill-color);\n",
              "    border-color: transparent;\n",
              "    border-bottom-color: var(--fill-color);\n",
              "    animation:\n",
              "      spin 1s steps(1) infinite;\n",
              "  }\n",
              "\n",
              "  @keyframes spin {\n",
              "    0% {\n",
              "      border-color: transparent;\n",
              "      border-bottom-color: var(--fill-color);\n",
              "      border-left-color: var(--fill-color);\n",
              "    }\n",
              "    20% {\n",
              "      border-color: transparent;\n",
              "      border-left-color: var(--fill-color);\n",
              "      border-top-color: var(--fill-color);\n",
              "    }\n",
              "    30% {\n",
              "      border-color: transparent;\n",
              "      border-left-color: var(--fill-color);\n",
              "      border-top-color: var(--fill-color);\n",
              "      border-right-color: var(--fill-color);\n",
              "    }\n",
              "    40% {\n",
              "      border-color: transparent;\n",
              "      border-right-color: var(--fill-color);\n",
              "      border-top-color: var(--fill-color);\n",
              "    }\n",
              "    60% {\n",
              "      border-color: transparent;\n",
              "      border-right-color: var(--fill-color);\n",
              "    }\n",
              "    80% {\n",
              "      border-color: transparent;\n",
              "      border-right-color: var(--fill-color);\n",
              "      border-bottom-color: var(--fill-color);\n",
              "    }\n",
              "    90% {\n",
              "      border-color: transparent;\n",
              "      border-bottom-color: var(--fill-color);\n",
              "    }\n",
              "  }\n",
              "</style>\n",
              "\n",
              "  <script>\n",
              "    async function quickchart(key) {\n",
              "      const quickchartButtonEl =\n",
              "        document.querySelector('#' + key + ' button');\n",
              "      quickchartButtonEl.disabled = true;  // To prevent multiple clicks.\n",
              "      quickchartButtonEl.classList.add('colab-df-spinner');\n",
              "      try {\n",
              "        const charts = await google.colab.kernel.invokeFunction(\n",
              "            'suggestCharts', [key], {});\n",
              "      } catch (error) {\n",
              "        console.error('Error during call to suggestCharts:', error);\n",
              "      }\n",
              "      quickchartButtonEl.classList.remove('colab-df-spinner');\n",
              "      quickchartButtonEl.classList.add('colab-df-quickchart-complete');\n",
              "    }\n",
              "    (() => {\n",
              "      let quickchartButtonEl =\n",
              "        document.querySelector('#df-0f1b200f-8746-45f7-91ae-764de1e52318 button');\n",
              "      quickchartButtonEl.style.display =\n",
              "        google.colab.kernel.accessAllowed ? 'block' : 'none';\n",
              "    })();\n",
              "  </script>\n",
              "</div>\n",
              "\n",
              "    </div>\n",
              "  </div>\n"
            ],
            "application/vnd.google.colaboratory.intrinsic+json": {
              "type": "dataframe",
              "variable_name": "df",
              "summary": "{\n  \"name\": \"df\",\n  \"rows\": 55,\n  \"fields\": [\n    {\n      \"column\": \"Country\",\n      \"properties\": {\n        \"dtype\": \"category\",\n        \"num_unique_values\": 5,\n        \"samples\": [\n          \"India\",\n          \"Brazil\",\n          \"China\"\n        ],\n        \"semantic_type\": \"\",\n        \"description\": \"\"\n      }\n    },\n    {\n      \"column\": \"Year\",\n      \"properties\": {\n        \"dtype\": \"number\",\n        \"std\": 3,\n        \"min\": 2010,\n        \"max\": 2020,\n        \"num_unique_values\": 11,\n        \"samples\": [\n          2015,\n          2010,\n          2019\n        ],\n        \"semantic_type\": \"\",\n        \"description\": \"\"\n      }\n    },\n    {\n      \"column\": \"GDP\",\n      \"properties\": {\n        \"dtype\": \"number\",\n        \"std\": 3232769418227.475,\n        \"min\": 443731417798.9176,\n        \"max\": 13935727891776.822,\n        \"num_unique_values\": 55,\n        \"samples\": [\n          4052114009250.3286,\n          1982725476854.0808,\n          3356213793189.253\n        ],\n        \"semantic_type\": \"\",\n        \"description\": \"\"\n      }\n    },\n    {\n      \"column\": \"Pollution\",\n      \"properties\": {\n        \"dtype\": \"number\",\n        \"std\": 24.973333265031492,\n        \"min\": 5.562223529323084,\n        \"max\": 85.5634745355348,\n        \"num_unique_values\": 55,\n        \"samples\": [\n          33.32663619221549,\n          85.5634745355348,\n          23.55338447859484\n        ],\n        \"semantic_type\": \"\",\n        \"description\": \"\"\n      }\n    },\n    {\n      \"column\": \"Temp_Anomaly\",\n      \"properties\": {\n        \"dtype\": \"number\",\n        \"std\": 0.3975446641148471,\n        \"min\": 0.2280995435885862,\n        \"max\": 1.494213538816118,\n        \"num_unique_values\": 55,\n        \"samples\": [\n          0.8492672813896065,\n          1.3908989174588453,\n          1.3382610511820592\n        ],\n        \"semantic_type\": \"\",\n        \"description\": \"\"\n      }\n    }\n  ]\n}"
            }
          },
          "metadata": {},
          "execution_count": 3
        }
      ]
    },
    {
      "cell_type": "markdown",
      "source": [
        "# Step 4: Exploratory Data Analysis (EDA)"
      ],
      "metadata": {
        "id": "AMrwqCCF_gDO"
      }
    },
    {
      "cell_type": "code",
      "source": [
        "import plotly.express as px\n",
        "\n",
        "fig = px.scatter(\n",
        "    df,\n",
        "    x='Pollution',\n",
        "    y='GDP',\n",
        "    color='Temp_Anomaly',\n",
        "    hover_name='Country',\n",
        "    title='🌍 GDP vs Pollution (Colored by Temperature Anomaly)',\n",
        "    width=1000,     # 🔍 Wider\n",
        "    height=600      # 📏 Taller\n",
        ")\n",
        "\n",
        "fig.update_traces(marker=dict(size=8, opacity=0.7))\n",
        "fig.update_layout(title_font_size=20)\n",
        "\n",
        "fig.show()"
      ],
      "metadata": {
        "colab": {
          "base_uri": "https://localhost:8080/",
          "height": 616
        },
        "id": "n5rponKC_mo5",
        "outputId": "5bd534af-308b-45ac-9a13-c03dd0a0ba80"
      },
      "execution_count": 4,
      "outputs": [
        {
          "output_type": "display_data",
          "data": {
            "text/html": [
              "<html>\n",
              "<head><meta charset=\"utf-8\" /></head>\n",
              "<body>\n",
              "    <div>            <script src=\"https://cdnjs.cloudflare.com/ajax/libs/mathjax/2.7.5/MathJax.js?config=TeX-AMS-MML_SVG\"></script><script type=\"text/javascript\">if (window.MathJax && window.MathJax.Hub && window.MathJax.Hub.Config) {window.MathJax.Hub.Config({SVG: {font: \"STIX-Web\"}});}</script>                <script type=\"text/javascript\">window.PlotlyConfig = {MathJaxConfig: 'local'};</script>\n",
              "        <script charset=\"utf-8\" src=\"https://cdn.plot.ly/plotly-2.35.2.min.js\"></script>                <div id=\"49850b20-cd87-4a59-8d58-44c29a4186e0\" class=\"plotly-graph-div\" style=\"height:600px; width:1000px;\"></div>            <script type=\"text/javascript\">                                    window.PLOTLYENV=window.PLOTLYENV || {};                                    if (document.getElementById(\"49850b20-cd87-4a59-8d58-44c29a4186e0\")) {                    Plotly.newPlot(                        \"49850b20-cd87-4a59-8d58-44c29a4186e0\",                        [{\"hovertemplate\":\"\\u003cb\\u003e%{hovertext}\\u003c\\u002fb\\u003e\\u003cbr\\u003e\\u003cbr\\u003ePollution=%{x}\\u003cbr\\u003eGDP=%{y}\\u003cbr\\u003eTemp_Anomaly=%{marker.color}\\u003cextra\\u003e\\u003c\\u002fextra\\u003e\",\"hovertext\":[\"United States\",\"United States\",\"United States\",\"United States\",\"United States\",\"United States\",\"United States\",\"United States\",\"United States\",\"United States\",\"United States\",\"India\",\"India\",\"India\",\"India\",\"India\",\"India\",\"India\",\"India\",\"India\",\"India\",\"India\",\"China\",\"China\",\"China\",\"China\",\"China\",\"China\",\"China\",\"China\",\"China\",\"China\",\"China\",\"Germany\",\"Germany\",\"Germany\",\"Germany\",\"Germany\",\"Germany\",\"Germany\",\"Germany\",\"Germany\",\"Germany\",\"Germany\",\"Brazil\",\"Brazil\",\"Brazil\",\"Brazil\",\"Brazil\",\"Brazil\",\"Brazil\",\"Brazil\",\"Brazil\",\"Brazil\",\"Brazil\"],\"legendgroup\":\"\",\"marker\":{\"color\":[1.3770484814212285,1.2519625439346291,0.7245791346134138,1.2225649648362666,1.4162835283659818,1.3908989174588453,0.4042553428933259,1.2523762260220788,0.2730959078043962,0.3881125134104917,0.6272769547731867,1.494213538816118,1.216198114290638,0.7413016098805343,1.2590043308187415,1.1334394540204458,0.579840383401421,0.7159103540184064,0.5830246038446958,1.4514731603713196,0.5366210681122215,0.585077430174555,1.1852759484741255,1.2026553995585805,1.1679960620722547,0.58420341863476,0.9144638701902056,0.7714660724180549,1.3492384738569636,0.2280995435885862,0.3661879465679504,0.8492672813896065,1.3382610511820592,0.3515514840510726,1.1161683403814897,1.3489503555927456,0.9075606544997334,1.0269382400183251,0.8949814698512277,1.405253426523586,1.0856371392201514,1.1539323001628523,0.5753037730035855,0.814820817417871,0.3814363837477852,0.3242745939144613,1.1230812309701488,0.4521068245659189,1.4126387015036923,0.2398775715378197,0.3599839308017458,1.4439217007390404,0.8470741577897789,0.4764082023501734,0.4869737779580891],\"coloraxis\":\"coloraxis\",\"symbol\":\"circle\",\"opacity\":0.7,\"size\":8},\"mode\":\"markers\",\"name\":\"\",\"orientation\":\"v\",\"showlegend\":false,\"x\":[15.222024046889588,38.64495908699613,80.11878685039439,43.92766283506581,81.62767808062324,85.5634745355348,77.72810923833231,65.53876551250862,42.33717799112685,25.160445448741715,70.28059389517603,55.80977787835223,44.7120755250722,78.86251428835182,37.27977624599166,81.40368003201533,79.67471186214007,72.06602418495712,73.44555911537043,24.683037145919428,67.57353183034557,25.834748396019517,11.83737423100939,33.05065492806395,29.096785259702557,44.2138525656226,10.997540551302212,54.95911314133498,24.694868436913744,81.57794613236783,29.896845813430808,33.32663619221549,23.55338447859484,9.369264569056178,5.562223529323084,17.247382279773007,17.51435849487153,12.858875206650568,23.466869868929567,38.029591247710144,5.770828194112736,31.925882674557744,15.84373105151861,34.54991505591011,38.84998957606079,42.3320826298366,27.24689928629689,68.55733304614404,70.73314001778344,55.148132086265775,16.946974739517266,84.39028141505246,69.2383193044951,38.49954257704012,14.54056901500164],\"xaxis\":\"x\",\"y\":[3577771100885.762,4546422958270.197,9087468777415.562,13935727891776.822,9677496017445.271,1982725476854.0808,5823612923521.893,4851871357749.108,10386965700819.443,2551909244650.1777,12532326587308.549,7824156942675.842,2939420107622.8467,790540053981.9282,1092888147068.4587,3041594245192.6704,443731417798.9176,3216381054877.226,779787384012.6542,9581877922443.834,792209569554.5533,1991493969379.295,3598161178835.2544,3505151534574.17,9283394785665.47,9957872123693.54,2198810165335.8303,9142759247278.146,2378561952955.156,5882400440514.48,4849406576920.183,4052114009250.3286,3356213793189.253,8988116613378.328,4314886970302.174,6155530626974.89,2964852180231.3584,3952286866575.822,3141487274333.34,6872034671823.967,9099426515163.568,6133290411249.311,6410453786960.73,3956978997471.001,8508151286704.097,5955826316269.283,2672883312755.749,5141666993117.628,9781548137130.84,4012406272215.807,919611708810.1588,6669449799139.621,8600397893271.133,4492203360066.785,5808254149226.115],\"yaxis\":\"y\",\"type\":\"scatter\"}],                        {\"template\":{\"data\":{\"histogram2dcontour\":[{\"type\":\"histogram2dcontour\",\"colorbar\":{\"outlinewidth\":0,\"ticks\":\"\"},\"colorscale\":[[0.0,\"#0d0887\"],[0.1111111111111111,\"#46039f\"],[0.2222222222222222,\"#7201a8\"],[0.3333333333333333,\"#9c179e\"],[0.4444444444444444,\"#bd3786\"],[0.5555555555555556,\"#d8576b\"],[0.6666666666666666,\"#ed7953\"],[0.7777777777777778,\"#fb9f3a\"],[0.8888888888888888,\"#fdca26\"],[1.0,\"#f0f921\"]]}],\"choropleth\":[{\"type\":\"choropleth\",\"colorbar\":{\"outlinewidth\":0,\"ticks\":\"\"}}],\"histogram2d\":[{\"type\":\"histogram2d\",\"colorbar\":{\"outlinewidth\":0,\"ticks\":\"\"},\"colorscale\":[[0.0,\"#0d0887\"],[0.1111111111111111,\"#46039f\"],[0.2222222222222222,\"#7201a8\"],[0.3333333333333333,\"#9c179e\"],[0.4444444444444444,\"#bd3786\"],[0.5555555555555556,\"#d8576b\"],[0.6666666666666666,\"#ed7953\"],[0.7777777777777778,\"#fb9f3a\"],[0.8888888888888888,\"#fdca26\"],[1.0,\"#f0f921\"]]}],\"heatmap\":[{\"type\":\"heatmap\",\"colorbar\":{\"outlinewidth\":0,\"ticks\":\"\"},\"colorscale\":[[0.0,\"#0d0887\"],[0.1111111111111111,\"#46039f\"],[0.2222222222222222,\"#7201a8\"],[0.3333333333333333,\"#9c179e\"],[0.4444444444444444,\"#bd3786\"],[0.5555555555555556,\"#d8576b\"],[0.6666666666666666,\"#ed7953\"],[0.7777777777777778,\"#fb9f3a\"],[0.8888888888888888,\"#fdca26\"],[1.0,\"#f0f921\"]]}],\"heatmapgl\":[{\"type\":\"heatmapgl\",\"colorbar\":{\"outlinewidth\":0,\"ticks\":\"\"},\"colorscale\":[[0.0,\"#0d0887\"],[0.1111111111111111,\"#46039f\"],[0.2222222222222222,\"#7201a8\"],[0.3333333333333333,\"#9c179e\"],[0.4444444444444444,\"#bd3786\"],[0.5555555555555556,\"#d8576b\"],[0.6666666666666666,\"#ed7953\"],[0.7777777777777778,\"#fb9f3a\"],[0.8888888888888888,\"#fdca26\"],[1.0,\"#f0f921\"]]}],\"contourcarpet\":[{\"type\":\"contourcarpet\",\"colorbar\":{\"outlinewidth\":0,\"ticks\":\"\"}}],\"contour\":[{\"type\":\"contour\",\"colorbar\":{\"outlinewidth\":0,\"ticks\":\"\"},\"colorscale\":[[0.0,\"#0d0887\"],[0.1111111111111111,\"#46039f\"],[0.2222222222222222,\"#7201a8\"],[0.3333333333333333,\"#9c179e\"],[0.4444444444444444,\"#bd3786\"],[0.5555555555555556,\"#d8576b\"],[0.6666666666666666,\"#ed7953\"],[0.7777777777777778,\"#fb9f3a\"],[0.8888888888888888,\"#fdca26\"],[1.0,\"#f0f921\"]]}],\"surface\":[{\"type\":\"surface\",\"colorbar\":{\"outlinewidth\":0,\"ticks\":\"\"},\"colorscale\":[[0.0,\"#0d0887\"],[0.1111111111111111,\"#46039f\"],[0.2222222222222222,\"#7201a8\"],[0.3333333333333333,\"#9c179e\"],[0.4444444444444444,\"#bd3786\"],[0.5555555555555556,\"#d8576b\"],[0.6666666666666666,\"#ed7953\"],[0.7777777777777778,\"#fb9f3a\"],[0.8888888888888888,\"#fdca26\"],[1.0,\"#f0f921\"]]}],\"mesh3d\":[{\"type\":\"mesh3d\",\"colorbar\":{\"outlinewidth\":0,\"ticks\":\"\"}}],\"scatter\":[{\"fillpattern\":{\"fillmode\":\"overlay\",\"size\":10,\"solidity\":0.2},\"type\":\"scatter\"}],\"parcoords\":[{\"type\":\"parcoords\",\"line\":{\"colorbar\":{\"outlinewidth\":0,\"ticks\":\"\"}}}],\"scatterpolargl\":[{\"type\":\"scatterpolargl\",\"marker\":{\"colorbar\":{\"outlinewidth\":0,\"ticks\":\"\"}}}],\"bar\":[{\"error_x\":{\"color\":\"#2a3f5f\"},\"error_y\":{\"color\":\"#2a3f5f\"},\"marker\":{\"line\":{\"color\":\"#E5ECF6\",\"width\":0.5},\"pattern\":{\"fillmode\":\"overlay\",\"size\":10,\"solidity\":0.2}},\"type\":\"bar\"}],\"scattergeo\":[{\"type\":\"scattergeo\",\"marker\":{\"colorbar\":{\"outlinewidth\":0,\"ticks\":\"\"}}}],\"scatterpolar\":[{\"type\":\"scatterpolar\",\"marker\":{\"colorbar\":{\"outlinewidth\":0,\"ticks\":\"\"}}}],\"histogram\":[{\"marker\":{\"pattern\":{\"fillmode\":\"overlay\",\"size\":10,\"solidity\":0.2}},\"type\":\"histogram\"}],\"scattergl\":[{\"type\":\"scattergl\",\"marker\":{\"colorbar\":{\"outlinewidth\":0,\"ticks\":\"\"}}}],\"scatter3d\":[{\"type\":\"scatter3d\",\"line\":{\"colorbar\":{\"outlinewidth\":0,\"ticks\":\"\"}},\"marker\":{\"colorbar\":{\"outlinewidth\":0,\"ticks\":\"\"}}}],\"scattermapbox\":[{\"type\":\"scattermapbox\",\"marker\":{\"colorbar\":{\"outlinewidth\":0,\"ticks\":\"\"}}}],\"scatterternary\":[{\"type\":\"scatterternary\",\"marker\":{\"colorbar\":{\"outlinewidth\":0,\"ticks\":\"\"}}}],\"scattercarpet\":[{\"type\":\"scattercarpet\",\"marker\":{\"colorbar\":{\"outlinewidth\":0,\"ticks\":\"\"}}}],\"carpet\":[{\"aaxis\":{\"endlinecolor\":\"#2a3f5f\",\"gridcolor\":\"white\",\"linecolor\":\"white\",\"minorgridcolor\":\"white\",\"startlinecolor\":\"#2a3f5f\"},\"baxis\":{\"endlinecolor\":\"#2a3f5f\",\"gridcolor\":\"white\",\"linecolor\":\"white\",\"minorgridcolor\":\"white\",\"startlinecolor\":\"#2a3f5f\"},\"type\":\"carpet\"}],\"table\":[{\"cells\":{\"fill\":{\"color\":\"#EBF0F8\"},\"line\":{\"color\":\"white\"}},\"header\":{\"fill\":{\"color\":\"#C8D4E3\"},\"line\":{\"color\":\"white\"}},\"type\":\"table\"}],\"barpolar\":[{\"marker\":{\"line\":{\"color\":\"#E5ECF6\",\"width\":0.5},\"pattern\":{\"fillmode\":\"overlay\",\"size\":10,\"solidity\":0.2}},\"type\":\"barpolar\"}],\"pie\":[{\"automargin\":true,\"type\":\"pie\"}]},\"layout\":{\"autotypenumbers\":\"strict\",\"colorway\":[\"#636efa\",\"#EF553B\",\"#00cc96\",\"#ab63fa\",\"#FFA15A\",\"#19d3f3\",\"#FF6692\",\"#B6E880\",\"#FF97FF\",\"#FECB52\"],\"font\":{\"color\":\"#2a3f5f\"},\"hovermode\":\"closest\",\"hoverlabel\":{\"align\":\"left\"},\"paper_bgcolor\":\"white\",\"plot_bgcolor\":\"#E5ECF6\",\"polar\":{\"bgcolor\":\"#E5ECF6\",\"angularaxis\":{\"gridcolor\":\"white\",\"linecolor\":\"white\",\"ticks\":\"\"},\"radialaxis\":{\"gridcolor\":\"white\",\"linecolor\":\"white\",\"ticks\":\"\"}},\"ternary\":{\"bgcolor\":\"#E5ECF6\",\"aaxis\":{\"gridcolor\":\"white\",\"linecolor\":\"white\",\"ticks\":\"\"},\"baxis\":{\"gridcolor\":\"white\",\"linecolor\":\"white\",\"ticks\":\"\"},\"caxis\":{\"gridcolor\":\"white\",\"linecolor\":\"white\",\"ticks\":\"\"}},\"coloraxis\":{\"colorbar\":{\"outlinewidth\":0,\"ticks\":\"\"}},\"colorscale\":{\"sequential\":[[0.0,\"#0d0887\"],[0.1111111111111111,\"#46039f\"],[0.2222222222222222,\"#7201a8\"],[0.3333333333333333,\"#9c179e\"],[0.4444444444444444,\"#bd3786\"],[0.5555555555555556,\"#d8576b\"],[0.6666666666666666,\"#ed7953\"],[0.7777777777777778,\"#fb9f3a\"],[0.8888888888888888,\"#fdca26\"],[1.0,\"#f0f921\"]],\"sequentialminus\":[[0.0,\"#0d0887\"],[0.1111111111111111,\"#46039f\"],[0.2222222222222222,\"#7201a8\"],[0.3333333333333333,\"#9c179e\"],[0.4444444444444444,\"#bd3786\"],[0.5555555555555556,\"#d8576b\"],[0.6666666666666666,\"#ed7953\"],[0.7777777777777778,\"#fb9f3a\"],[0.8888888888888888,\"#fdca26\"],[1.0,\"#f0f921\"]],\"diverging\":[[0,\"#8e0152\"],[0.1,\"#c51b7d\"],[0.2,\"#de77ae\"],[0.3,\"#f1b6da\"],[0.4,\"#fde0ef\"],[0.5,\"#f7f7f7\"],[0.6,\"#e6f5d0\"],[0.7,\"#b8e186\"],[0.8,\"#7fbc41\"],[0.9,\"#4d9221\"],[1,\"#276419\"]]},\"xaxis\":{\"gridcolor\":\"white\",\"linecolor\":\"white\",\"ticks\":\"\",\"title\":{\"standoff\":15},\"zerolinecolor\":\"white\",\"automargin\":true,\"zerolinewidth\":2},\"yaxis\":{\"gridcolor\":\"white\",\"linecolor\":\"white\",\"ticks\":\"\",\"title\":{\"standoff\":15},\"zerolinecolor\":\"white\",\"automargin\":true,\"zerolinewidth\":2},\"scene\":{\"xaxis\":{\"backgroundcolor\":\"#E5ECF6\",\"gridcolor\":\"white\",\"linecolor\":\"white\",\"showbackground\":true,\"ticks\":\"\",\"zerolinecolor\":\"white\",\"gridwidth\":2},\"yaxis\":{\"backgroundcolor\":\"#E5ECF6\",\"gridcolor\":\"white\",\"linecolor\":\"white\",\"showbackground\":true,\"ticks\":\"\",\"zerolinecolor\":\"white\",\"gridwidth\":2},\"zaxis\":{\"backgroundcolor\":\"#E5ECF6\",\"gridcolor\":\"white\",\"linecolor\":\"white\",\"showbackground\":true,\"ticks\":\"\",\"zerolinecolor\":\"white\",\"gridwidth\":2}},\"shapedefaults\":{\"line\":{\"color\":\"#2a3f5f\"}},\"annotationdefaults\":{\"arrowcolor\":\"#2a3f5f\",\"arrowhead\":0,\"arrowwidth\":1},\"geo\":{\"bgcolor\":\"white\",\"landcolor\":\"#E5ECF6\",\"subunitcolor\":\"white\",\"showland\":true,\"showlakes\":true,\"lakecolor\":\"white\"},\"title\":{\"x\":0.05},\"mapbox\":{\"style\":\"light\"}}},\"xaxis\":{\"anchor\":\"y\",\"domain\":[0.0,1.0],\"title\":{\"text\":\"Pollution\"}},\"yaxis\":{\"anchor\":\"x\",\"domain\":[0.0,1.0],\"title\":{\"text\":\"GDP\"}},\"coloraxis\":{\"colorbar\":{\"title\":{\"text\":\"Temp_Anomaly\"}},\"colorscale\":[[0.0,\"#0d0887\"],[0.1111111111111111,\"#46039f\"],[0.2222222222222222,\"#7201a8\"],[0.3333333333333333,\"#9c179e\"],[0.4444444444444444,\"#bd3786\"],[0.5555555555555556,\"#d8576b\"],[0.6666666666666666,\"#ed7953\"],[0.7777777777777778,\"#fb9f3a\"],[0.8888888888888888,\"#fdca26\"],[1.0,\"#f0f921\"]]},\"legend\":{\"tracegroupgap\":0},\"title\":{\"text\":\"🌍 GDP vs Pollution (Colored by Temperature Anomaly)\",\"font\":{\"size\":20}},\"height\":600,\"width\":1000},                        {\"responsive\": true}                    ).then(function(){\n",
              "                            \n",
              "var gd = document.getElementById('49850b20-cd87-4a59-8d58-44c29a4186e0');\n",
              "var x = new MutationObserver(function (mutations, observer) {{\n",
              "        var display = window.getComputedStyle(gd).display;\n",
              "        if (!display || display === 'none') {{\n",
              "            console.log([gd, 'removed!']);\n",
              "            Plotly.purge(gd);\n",
              "            observer.disconnect();\n",
              "        }}\n",
              "}});\n",
              "\n",
              "// Listen for the removal of the full notebook cells\n",
              "var notebookContainer = gd.closest('#notebook-container');\n",
              "if (notebookContainer) {{\n",
              "    x.observe(notebookContainer, {childList: true});\n",
              "}}\n",
              "\n",
              "// Listen for the clearing of the current output cell\n",
              "var outputEl = gd.closest('.output');\n",
              "if (outputEl) {{\n",
              "    x.observe(outputEl, {childList: true});\n",
              "}}\n",
              "\n",
              "                        })                };                            </script>        </div>\n",
              "</body>\n",
              "</html>"
            ]
          },
          "metadata": {}
        }
      ]
    },
    {
      "cell_type": "markdown",
      "source": [
        "# My Interpretation's by this plot:\n",
        "1. Relationship between GDP and Pollution\n",
        "* If dots cluster upward to the right, higher GDP tends to correlate with higher pollution (positive correlation).\n",
        "* If GDP increases but pollution stays flat or decreases, it might show cleaner economic growth.\n",
        "2. Color = Temp Anomaly Insight\n",
        "* Red/orange points indicate countries/years with higher temperature anomalies.\n",
        "* If those red points are also high in GDP and Pollution, this suggests a possible climate impact of growth.\n",
        "3. Outliers\n",
        "* A low GDP but high pollution country = likely underdeveloped with weak regulations.\n",
        "* A high GDP but low pollution point (e.g. Sweden) = example of sustainable policy."
      ],
      "metadata": {
        "id": "D5MK34H3AM1p"
      }
    },
    {
      "cell_type": "markdown",
      "source": [
        "## Animated Scatter Plot Over Years\n",
        "* Tracks how each country moves over time (GDP vs Pollution)"
      ],
      "metadata": {
        "id": "7QoSH7vEBMBL"
      }
    },
    {
      "cell_type": "code",
      "source": [
        "import plotly.express as px\n",
        "\n",
        "fig = px.scatter(\n",
        "    df,\n",
        "    x='Pollution',\n",
        "    y='GDP',\n",
        "    animation_frame='Year',\n",
        "    animation_group='Country',\n",
        "    color='Temp_Anomaly',\n",
        "    hover_name='Country',\n",
        "    size_max=55,\n",
        "    title='GDP vs Pollution Over Years (Animated)',\n",
        "    width=1000,\n",
        "    height=600\n",
        ")\n",
        "\n",
        "fig.update_traces(marker=dict(size=8, opacity=0.7))\n",
        "fig.update_layout(title_font_size=20)\n",
        "fig.show()"
      ],
      "metadata": {
        "colab": {
          "base_uri": "https://localhost:8080/",
          "height": 616
        },
        "id": "66V5EueWBfrw",
        "outputId": "a6cec59f-98e5-4b21-f0ac-21139b6c028d"
      },
      "execution_count": 5,
      "outputs": [
        {
          "output_type": "display_data",
          "data": {
            "text/html": [
              "<html>\n",
              "<head><meta charset=\"utf-8\" /></head>\n",
              "<body>\n",
              "    <div>            <script src=\"https://cdnjs.cloudflare.com/ajax/libs/mathjax/2.7.5/MathJax.js?config=TeX-AMS-MML_SVG\"></script><script type=\"text/javascript\">if (window.MathJax && window.MathJax.Hub && window.MathJax.Hub.Config) {window.MathJax.Hub.Config({SVG: {font: \"STIX-Web\"}});}</script>                <script type=\"text/javascript\">window.PlotlyConfig = {MathJaxConfig: 'local'};</script>\n",
              "        <script charset=\"utf-8\" src=\"https://cdn.plot.ly/plotly-2.35.2.min.js\"></script>                <div id=\"07af6839-0700-46fa-aa92-8d989691ebc0\" class=\"plotly-graph-div\" style=\"height:600px; width:1000px;\"></div>            <script type=\"text/javascript\">                                    window.PLOTLYENV=window.PLOTLYENV || {};                                    if (document.getElementById(\"07af6839-0700-46fa-aa92-8d989691ebc0\")) {                    Plotly.newPlot(                        \"07af6839-0700-46fa-aa92-8d989691ebc0\",                        [{\"hovertemplate\":\"\\u003cb\\u003e%{hovertext}\\u003c\\u002fb\\u003e\\u003cbr\\u003e\\u003cbr\\u003eYear=2010\\u003cbr\\u003ePollution=%{x}\\u003cbr\\u003eGDP=%{y}\\u003cbr\\u003eTemp_Anomaly=%{marker.color}\\u003cextra\\u003e\\u003c\\u002fextra\\u003e\",\"hovertext\":[\"United States\",\"India\",\"China\",\"Germany\",\"Brazil\"],\"ids\":[\"United States\",\"India\",\"China\",\"Germany\",\"Brazil\"],\"legendgroup\":\"\",\"marker\":{\"color\":[1.3770484814212285,1.494213538816118,1.1852759484741255,0.3515514840510726,0.3814363837477852],\"coloraxis\":\"coloraxis\",\"symbol\":\"circle\",\"opacity\":0.7,\"size\":8},\"mode\":\"markers\",\"name\":\"\",\"orientation\":\"v\",\"showlegend\":false,\"x\":[15.222024046889588,55.80977787835223,11.83737423100939,9.369264569056178,38.84998957606079],\"xaxis\":\"x\",\"y\":[3577771100885.762,7824156942675.842,3598161178835.2544,8988116613378.328,8508151286704.097],\"yaxis\":\"y\",\"type\":\"scatter\"}],                        {\"template\":{\"data\":{\"histogram2dcontour\":[{\"type\":\"histogram2dcontour\",\"colorbar\":{\"outlinewidth\":0,\"ticks\":\"\"},\"colorscale\":[[0.0,\"#0d0887\"],[0.1111111111111111,\"#46039f\"],[0.2222222222222222,\"#7201a8\"],[0.3333333333333333,\"#9c179e\"],[0.4444444444444444,\"#bd3786\"],[0.5555555555555556,\"#d8576b\"],[0.6666666666666666,\"#ed7953\"],[0.7777777777777778,\"#fb9f3a\"],[0.8888888888888888,\"#fdca26\"],[1.0,\"#f0f921\"]]}],\"choropleth\":[{\"type\":\"choropleth\",\"colorbar\":{\"outlinewidth\":0,\"ticks\":\"\"}}],\"histogram2d\":[{\"type\":\"histogram2d\",\"colorbar\":{\"outlinewidth\":0,\"ticks\":\"\"},\"colorscale\":[[0.0,\"#0d0887\"],[0.1111111111111111,\"#46039f\"],[0.2222222222222222,\"#7201a8\"],[0.3333333333333333,\"#9c179e\"],[0.4444444444444444,\"#bd3786\"],[0.5555555555555556,\"#d8576b\"],[0.6666666666666666,\"#ed7953\"],[0.7777777777777778,\"#fb9f3a\"],[0.8888888888888888,\"#fdca26\"],[1.0,\"#f0f921\"]]}],\"heatmap\":[{\"type\":\"heatmap\",\"colorbar\":{\"outlinewidth\":0,\"ticks\":\"\"},\"colorscale\":[[0.0,\"#0d0887\"],[0.1111111111111111,\"#46039f\"],[0.2222222222222222,\"#7201a8\"],[0.3333333333333333,\"#9c179e\"],[0.4444444444444444,\"#bd3786\"],[0.5555555555555556,\"#d8576b\"],[0.6666666666666666,\"#ed7953\"],[0.7777777777777778,\"#fb9f3a\"],[0.8888888888888888,\"#fdca26\"],[1.0,\"#f0f921\"]]}],\"heatmapgl\":[{\"type\":\"heatmapgl\",\"colorbar\":{\"outlinewidth\":0,\"ticks\":\"\"},\"colorscale\":[[0.0,\"#0d0887\"],[0.1111111111111111,\"#46039f\"],[0.2222222222222222,\"#7201a8\"],[0.3333333333333333,\"#9c179e\"],[0.4444444444444444,\"#bd3786\"],[0.5555555555555556,\"#d8576b\"],[0.6666666666666666,\"#ed7953\"],[0.7777777777777778,\"#fb9f3a\"],[0.8888888888888888,\"#fdca26\"],[1.0,\"#f0f921\"]]}],\"contourcarpet\":[{\"type\":\"contourcarpet\",\"colorbar\":{\"outlinewidth\":0,\"ticks\":\"\"}}],\"contour\":[{\"type\":\"contour\",\"colorbar\":{\"outlinewidth\":0,\"ticks\":\"\"},\"colorscale\":[[0.0,\"#0d0887\"],[0.1111111111111111,\"#46039f\"],[0.2222222222222222,\"#7201a8\"],[0.3333333333333333,\"#9c179e\"],[0.4444444444444444,\"#bd3786\"],[0.5555555555555556,\"#d8576b\"],[0.6666666666666666,\"#ed7953\"],[0.7777777777777778,\"#fb9f3a\"],[0.8888888888888888,\"#fdca26\"],[1.0,\"#f0f921\"]]}],\"surface\":[{\"type\":\"surface\",\"colorbar\":{\"outlinewidth\":0,\"ticks\":\"\"},\"colorscale\":[[0.0,\"#0d0887\"],[0.1111111111111111,\"#46039f\"],[0.2222222222222222,\"#7201a8\"],[0.3333333333333333,\"#9c179e\"],[0.4444444444444444,\"#bd3786\"],[0.5555555555555556,\"#d8576b\"],[0.6666666666666666,\"#ed7953\"],[0.7777777777777778,\"#fb9f3a\"],[0.8888888888888888,\"#fdca26\"],[1.0,\"#f0f921\"]]}],\"mesh3d\":[{\"type\":\"mesh3d\",\"colorbar\":{\"outlinewidth\":0,\"ticks\":\"\"}}],\"scatter\":[{\"fillpattern\":{\"fillmode\":\"overlay\",\"size\":10,\"solidity\":0.2},\"type\":\"scatter\"}],\"parcoords\":[{\"type\":\"parcoords\",\"line\":{\"colorbar\":{\"outlinewidth\":0,\"ticks\":\"\"}}}],\"scatterpolargl\":[{\"type\":\"scatterpolargl\",\"marker\":{\"colorbar\":{\"outlinewidth\":0,\"ticks\":\"\"}}}],\"bar\":[{\"error_x\":{\"color\":\"#2a3f5f\"},\"error_y\":{\"color\":\"#2a3f5f\"},\"marker\":{\"line\":{\"color\":\"#E5ECF6\",\"width\":0.5},\"pattern\":{\"fillmode\":\"overlay\",\"size\":10,\"solidity\":0.2}},\"type\":\"bar\"}],\"scattergeo\":[{\"type\":\"scattergeo\",\"marker\":{\"colorbar\":{\"outlinewidth\":0,\"ticks\":\"\"}}}],\"scatterpolar\":[{\"type\":\"scatterpolar\",\"marker\":{\"colorbar\":{\"outlinewidth\":0,\"ticks\":\"\"}}}],\"histogram\":[{\"marker\":{\"pattern\":{\"fillmode\":\"overlay\",\"size\":10,\"solidity\":0.2}},\"type\":\"histogram\"}],\"scattergl\":[{\"type\":\"scattergl\",\"marker\":{\"colorbar\":{\"outlinewidth\":0,\"ticks\":\"\"}}}],\"scatter3d\":[{\"type\":\"scatter3d\",\"line\":{\"colorbar\":{\"outlinewidth\":0,\"ticks\":\"\"}},\"marker\":{\"colorbar\":{\"outlinewidth\":0,\"ticks\":\"\"}}}],\"scattermapbox\":[{\"type\":\"scattermapbox\",\"marker\":{\"colorbar\":{\"outlinewidth\":0,\"ticks\":\"\"}}}],\"scatterternary\":[{\"type\":\"scatterternary\",\"marker\":{\"colorbar\":{\"outlinewidth\":0,\"ticks\":\"\"}}}],\"scattercarpet\":[{\"type\":\"scattercarpet\",\"marker\":{\"colorbar\":{\"outlinewidth\":0,\"ticks\":\"\"}}}],\"carpet\":[{\"aaxis\":{\"endlinecolor\":\"#2a3f5f\",\"gridcolor\":\"white\",\"linecolor\":\"white\",\"minorgridcolor\":\"white\",\"startlinecolor\":\"#2a3f5f\"},\"baxis\":{\"endlinecolor\":\"#2a3f5f\",\"gridcolor\":\"white\",\"linecolor\":\"white\",\"minorgridcolor\":\"white\",\"startlinecolor\":\"#2a3f5f\"},\"type\":\"carpet\"}],\"table\":[{\"cells\":{\"fill\":{\"color\":\"#EBF0F8\"},\"line\":{\"color\":\"white\"}},\"header\":{\"fill\":{\"color\":\"#C8D4E3\"},\"line\":{\"color\":\"white\"}},\"type\":\"table\"}],\"barpolar\":[{\"marker\":{\"line\":{\"color\":\"#E5ECF6\",\"width\":0.5},\"pattern\":{\"fillmode\":\"overlay\",\"size\":10,\"solidity\":0.2}},\"type\":\"barpolar\"}],\"pie\":[{\"automargin\":true,\"type\":\"pie\"}]},\"layout\":{\"autotypenumbers\":\"strict\",\"colorway\":[\"#636efa\",\"#EF553B\",\"#00cc96\",\"#ab63fa\",\"#FFA15A\",\"#19d3f3\",\"#FF6692\",\"#B6E880\",\"#FF97FF\",\"#FECB52\"],\"font\":{\"color\":\"#2a3f5f\"},\"hovermode\":\"closest\",\"hoverlabel\":{\"align\":\"left\"},\"paper_bgcolor\":\"white\",\"plot_bgcolor\":\"#E5ECF6\",\"polar\":{\"bgcolor\":\"#E5ECF6\",\"angularaxis\":{\"gridcolor\":\"white\",\"linecolor\":\"white\",\"ticks\":\"\"},\"radialaxis\":{\"gridcolor\":\"white\",\"linecolor\":\"white\",\"ticks\":\"\"}},\"ternary\":{\"bgcolor\":\"#E5ECF6\",\"aaxis\":{\"gridcolor\":\"white\",\"linecolor\":\"white\",\"ticks\":\"\"},\"baxis\":{\"gridcolor\":\"white\",\"linecolor\":\"white\",\"ticks\":\"\"},\"caxis\":{\"gridcolor\":\"white\",\"linecolor\":\"white\",\"ticks\":\"\"}},\"coloraxis\":{\"colorbar\":{\"outlinewidth\":0,\"ticks\":\"\"}},\"colorscale\":{\"sequential\":[[0.0,\"#0d0887\"],[0.1111111111111111,\"#46039f\"],[0.2222222222222222,\"#7201a8\"],[0.3333333333333333,\"#9c179e\"],[0.4444444444444444,\"#bd3786\"],[0.5555555555555556,\"#d8576b\"],[0.6666666666666666,\"#ed7953\"],[0.7777777777777778,\"#fb9f3a\"],[0.8888888888888888,\"#fdca26\"],[1.0,\"#f0f921\"]],\"sequentialminus\":[[0.0,\"#0d0887\"],[0.1111111111111111,\"#46039f\"],[0.2222222222222222,\"#7201a8\"],[0.3333333333333333,\"#9c179e\"],[0.4444444444444444,\"#bd3786\"],[0.5555555555555556,\"#d8576b\"],[0.6666666666666666,\"#ed7953\"],[0.7777777777777778,\"#fb9f3a\"],[0.8888888888888888,\"#fdca26\"],[1.0,\"#f0f921\"]],\"diverging\":[[0,\"#8e0152\"],[0.1,\"#c51b7d\"],[0.2,\"#de77ae\"],[0.3,\"#f1b6da\"],[0.4,\"#fde0ef\"],[0.5,\"#f7f7f7\"],[0.6,\"#e6f5d0\"],[0.7,\"#b8e186\"],[0.8,\"#7fbc41\"],[0.9,\"#4d9221\"],[1,\"#276419\"]]},\"xaxis\":{\"gridcolor\":\"white\",\"linecolor\":\"white\",\"ticks\":\"\",\"title\":{\"standoff\":15},\"zerolinecolor\":\"white\",\"automargin\":true,\"zerolinewidth\":2},\"yaxis\":{\"gridcolor\":\"white\",\"linecolor\":\"white\",\"ticks\":\"\",\"title\":{\"standoff\":15},\"zerolinecolor\":\"white\",\"automargin\":true,\"zerolinewidth\":2},\"scene\":{\"xaxis\":{\"backgroundcolor\":\"#E5ECF6\",\"gridcolor\":\"white\",\"linecolor\":\"white\",\"showbackground\":true,\"ticks\":\"\",\"zerolinecolor\":\"white\",\"gridwidth\":2},\"yaxis\":{\"backgroundcolor\":\"#E5ECF6\",\"gridcolor\":\"white\",\"linecolor\":\"white\",\"showbackground\":true,\"ticks\":\"\",\"zerolinecolor\":\"white\",\"gridwidth\":2},\"zaxis\":{\"backgroundcolor\":\"#E5ECF6\",\"gridcolor\":\"white\",\"linecolor\":\"white\",\"showbackground\":true,\"ticks\":\"\",\"zerolinecolor\":\"white\",\"gridwidth\":2}},\"shapedefaults\":{\"line\":{\"color\":\"#2a3f5f\"}},\"annotationdefaults\":{\"arrowcolor\":\"#2a3f5f\",\"arrowhead\":0,\"arrowwidth\":1},\"geo\":{\"bgcolor\":\"white\",\"landcolor\":\"#E5ECF6\",\"subunitcolor\":\"white\",\"showland\":true,\"showlakes\":true,\"lakecolor\":\"white\"},\"title\":{\"x\":0.05},\"mapbox\":{\"style\":\"light\"}}},\"xaxis\":{\"anchor\":\"y\",\"domain\":[0.0,1.0],\"title\":{\"text\":\"Pollution\"}},\"yaxis\":{\"anchor\":\"x\",\"domain\":[0.0,1.0],\"title\":{\"text\":\"GDP\"}},\"coloraxis\":{\"colorbar\":{\"title\":{\"text\":\"Temp_Anomaly\"}},\"colorscale\":[[0.0,\"#0d0887\"],[0.1111111111111111,\"#46039f\"],[0.2222222222222222,\"#7201a8\"],[0.3333333333333333,\"#9c179e\"],[0.4444444444444444,\"#bd3786\"],[0.5555555555555556,\"#d8576b\"],[0.6666666666666666,\"#ed7953\"],[0.7777777777777778,\"#fb9f3a\"],[0.8888888888888888,\"#fdca26\"],[1.0,\"#f0f921\"]]},\"legend\":{\"tracegroupgap\":0},\"title\":{\"text\":\"GDP vs Pollution Over Years (Animated)\",\"font\":{\"size\":20}},\"height\":600,\"width\":1000,\"updatemenus\":[{\"buttons\":[{\"args\":[null,{\"frame\":{\"duration\":500,\"redraw\":false},\"mode\":\"immediate\",\"fromcurrent\":true,\"transition\":{\"duration\":500,\"easing\":\"linear\"}}],\"label\":\"&#9654;\",\"method\":\"animate\"},{\"args\":[[null],{\"frame\":{\"duration\":0,\"redraw\":false},\"mode\":\"immediate\",\"fromcurrent\":true,\"transition\":{\"duration\":0,\"easing\":\"linear\"}}],\"label\":\"&#9724;\",\"method\":\"animate\"}],\"direction\":\"left\",\"pad\":{\"r\":10,\"t\":70},\"showactive\":false,\"type\":\"buttons\",\"x\":0.1,\"xanchor\":\"right\",\"y\":0,\"yanchor\":\"top\"}],\"sliders\":[{\"active\":0,\"currentvalue\":{\"prefix\":\"Year=\"},\"len\":0.9,\"pad\":{\"b\":10,\"t\":60},\"steps\":[{\"args\":[[\"2010\"],{\"frame\":{\"duration\":0,\"redraw\":false},\"mode\":\"immediate\",\"fromcurrent\":true,\"transition\":{\"duration\":0,\"easing\":\"linear\"}}],\"label\":\"2010\",\"method\":\"animate\"},{\"args\":[[\"2011\"],{\"frame\":{\"duration\":0,\"redraw\":false},\"mode\":\"immediate\",\"fromcurrent\":true,\"transition\":{\"duration\":0,\"easing\":\"linear\"}}],\"label\":\"2011\",\"method\":\"animate\"},{\"args\":[[\"2012\"],{\"frame\":{\"duration\":0,\"redraw\":false},\"mode\":\"immediate\",\"fromcurrent\":true,\"transition\":{\"duration\":0,\"easing\":\"linear\"}}],\"label\":\"2012\",\"method\":\"animate\"},{\"args\":[[\"2013\"],{\"frame\":{\"duration\":0,\"redraw\":false},\"mode\":\"immediate\",\"fromcurrent\":true,\"transition\":{\"duration\":0,\"easing\":\"linear\"}}],\"label\":\"2013\",\"method\":\"animate\"},{\"args\":[[\"2014\"],{\"frame\":{\"duration\":0,\"redraw\":false},\"mode\":\"immediate\",\"fromcurrent\":true,\"transition\":{\"duration\":0,\"easing\":\"linear\"}}],\"label\":\"2014\",\"method\":\"animate\"},{\"args\":[[\"2015\"],{\"frame\":{\"duration\":0,\"redraw\":false},\"mode\":\"immediate\",\"fromcurrent\":true,\"transition\":{\"duration\":0,\"easing\":\"linear\"}}],\"label\":\"2015\",\"method\":\"animate\"},{\"args\":[[\"2016\"],{\"frame\":{\"duration\":0,\"redraw\":false},\"mode\":\"immediate\",\"fromcurrent\":true,\"transition\":{\"duration\":0,\"easing\":\"linear\"}}],\"label\":\"2016\",\"method\":\"animate\"},{\"args\":[[\"2017\"],{\"frame\":{\"duration\":0,\"redraw\":false},\"mode\":\"immediate\",\"fromcurrent\":true,\"transition\":{\"duration\":0,\"easing\":\"linear\"}}],\"label\":\"2017\",\"method\":\"animate\"},{\"args\":[[\"2018\"],{\"frame\":{\"duration\":0,\"redraw\":false},\"mode\":\"immediate\",\"fromcurrent\":true,\"transition\":{\"duration\":0,\"easing\":\"linear\"}}],\"label\":\"2018\",\"method\":\"animate\"},{\"args\":[[\"2019\"],{\"frame\":{\"duration\":0,\"redraw\":false},\"mode\":\"immediate\",\"fromcurrent\":true,\"transition\":{\"duration\":0,\"easing\":\"linear\"}}],\"label\":\"2019\",\"method\":\"animate\"},{\"args\":[[\"2020\"],{\"frame\":{\"duration\":0,\"redraw\":false},\"mode\":\"immediate\",\"fromcurrent\":true,\"transition\":{\"duration\":0,\"easing\":\"linear\"}}],\"label\":\"2020\",\"method\":\"animate\"}],\"x\":0.1,\"xanchor\":\"left\",\"y\":0,\"yanchor\":\"top\"}]},                        {\"responsive\": true}                    ).then(function(){\n",
              "                            Plotly.addFrames('07af6839-0700-46fa-aa92-8d989691ebc0', [{\"data\":[{\"hovertemplate\":\"\\u003cb\\u003e%{hovertext}\\u003c\\u002fb\\u003e\\u003cbr\\u003e\\u003cbr\\u003eYear=2010\\u003cbr\\u003ePollution=%{x}\\u003cbr\\u003eGDP=%{y}\\u003cbr\\u003eTemp_Anomaly=%{marker.color}\\u003cextra\\u003e\\u003c\\u002fextra\\u003e\",\"hovertext\":[\"United States\",\"India\",\"China\",\"Germany\",\"Brazil\"],\"ids\":[\"United States\",\"India\",\"China\",\"Germany\",\"Brazil\"],\"legendgroup\":\"\",\"marker\":{\"color\":[1.3770484814212285,1.494213538816118,1.1852759484741255,0.3515514840510726,0.3814363837477852],\"coloraxis\":\"coloraxis\",\"symbol\":\"circle\"},\"mode\":\"markers\",\"name\":\"\",\"orientation\":\"v\",\"showlegend\":false,\"x\":[15.222024046889588,55.80977787835223,11.83737423100939,9.369264569056178,38.84998957606079],\"xaxis\":\"x\",\"y\":[3577771100885.762,7824156942675.842,3598161178835.2544,8988116613378.328,8508151286704.097],\"yaxis\":\"y\",\"type\":\"scatter\"}],\"name\":\"2010\"},{\"data\":[{\"hovertemplate\":\"\\u003cb\\u003e%{hovertext}\\u003c\\u002fb\\u003e\\u003cbr\\u003e\\u003cbr\\u003eYear=2011\\u003cbr\\u003ePollution=%{x}\\u003cbr\\u003eGDP=%{y}\\u003cbr\\u003eTemp_Anomaly=%{marker.color}\\u003cextra\\u003e\\u003c\\u002fextra\\u003e\",\"hovertext\":[\"United States\",\"India\",\"China\",\"Germany\",\"Brazil\"],\"ids\":[\"United States\",\"India\",\"China\",\"Germany\",\"Brazil\"],\"legendgroup\":\"\",\"marker\":{\"color\":[1.2519625439346291,1.216198114290638,1.2026553995585805,1.1161683403814897,0.3242745939144613],\"coloraxis\":\"coloraxis\",\"symbol\":\"circle\"},\"mode\":\"markers\",\"name\":\"\",\"orientation\":\"v\",\"showlegend\":false,\"x\":[38.64495908699613,44.7120755250722,33.05065492806395,5.562223529323084,42.3320826298366],\"xaxis\":\"x\",\"y\":[4546422958270.197,2939420107622.8467,3505151534574.17,4314886970302.174,5955826316269.283],\"yaxis\":\"y\",\"type\":\"scatter\"}],\"name\":\"2011\"},{\"data\":[{\"hovertemplate\":\"\\u003cb\\u003e%{hovertext}\\u003c\\u002fb\\u003e\\u003cbr\\u003e\\u003cbr\\u003eYear=2012\\u003cbr\\u003ePollution=%{x}\\u003cbr\\u003eGDP=%{y}\\u003cbr\\u003eTemp_Anomaly=%{marker.color}\\u003cextra\\u003e\\u003c\\u002fextra\\u003e\",\"hovertext\":[\"United States\",\"India\",\"China\",\"Germany\",\"Brazil\"],\"ids\":[\"United States\",\"India\",\"China\",\"Germany\",\"Brazil\"],\"legendgroup\":\"\",\"marker\":{\"color\":[0.7245791346134138,0.7413016098805343,1.1679960620722547,1.3489503555927456,1.1230812309701488],\"coloraxis\":\"coloraxis\",\"symbol\":\"circle\"},\"mode\":\"markers\",\"name\":\"\",\"orientation\":\"v\",\"showlegend\":false,\"x\":[80.11878685039439,78.86251428835182,29.096785259702557,17.247382279773007,27.24689928629689],\"xaxis\":\"x\",\"y\":[9087468777415.562,790540053981.9282,9283394785665.47,6155530626974.89,2672883312755.749],\"yaxis\":\"y\",\"type\":\"scatter\"}],\"name\":\"2012\"},{\"data\":[{\"hovertemplate\":\"\\u003cb\\u003e%{hovertext}\\u003c\\u002fb\\u003e\\u003cbr\\u003e\\u003cbr\\u003eYear=2013\\u003cbr\\u003ePollution=%{x}\\u003cbr\\u003eGDP=%{y}\\u003cbr\\u003eTemp_Anomaly=%{marker.color}\\u003cextra\\u003e\\u003c\\u002fextra\\u003e\",\"hovertext\":[\"United States\",\"India\",\"China\",\"Germany\",\"Brazil\"],\"ids\":[\"United States\",\"India\",\"China\",\"Germany\",\"Brazil\"],\"legendgroup\":\"\",\"marker\":{\"color\":[1.2225649648362666,1.2590043308187415,0.58420341863476,0.9075606544997334,0.4521068245659189],\"coloraxis\":\"coloraxis\",\"symbol\":\"circle\"},\"mode\":\"markers\",\"name\":\"\",\"orientation\":\"v\",\"showlegend\":false,\"x\":[43.92766283506581,37.27977624599166,44.2138525656226,17.51435849487153,68.55733304614404],\"xaxis\":\"x\",\"y\":[13935727891776.822,1092888147068.4587,9957872123693.54,2964852180231.3584,5141666993117.628],\"yaxis\":\"y\",\"type\":\"scatter\"}],\"name\":\"2013\"},{\"data\":[{\"hovertemplate\":\"\\u003cb\\u003e%{hovertext}\\u003c\\u002fb\\u003e\\u003cbr\\u003e\\u003cbr\\u003eYear=2014\\u003cbr\\u003ePollution=%{x}\\u003cbr\\u003eGDP=%{y}\\u003cbr\\u003eTemp_Anomaly=%{marker.color}\\u003cextra\\u003e\\u003c\\u002fextra\\u003e\",\"hovertext\":[\"United States\",\"India\",\"China\",\"Germany\",\"Brazil\"],\"ids\":[\"United States\",\"India\",\"China\",\"Germany\",\"Brazil\"],\"legendgroup\":\"\",\"marker\":{\"color\":[1.4162835283659818,1.1334394540204458,0.9144638701902056,1.0269382400183251,1.4126387015036923],\"coloraxis\":\"coloraxis\",\"symbol\":\"circle\"},\"mode\":\"markers\",\"name\":\"\",\"orientation\":\"v\",\"showlegend\":false,\"x\":[81.62767808062324,81.40368003201533,10.997540551302212,12.858875206650568,70.73314001778344],\"xaxis\":\"x\",\"y\":[9677496017445.271,3041594245192.6704,2198810165335.8303,3952286866575.822,9781548137130.84],\"yaxis\":\"y\",\"type\":\"scatter\"}],\"name\":\"2014\"},{\"data\":[{\"hovertemplate\":\"\\u003cb\\u003e%{hovertext}\\u003c\\u002fb\\u003e\\u003cbr\\u003e\\u003cbr\\u003eYear=2015\\u003cbr\\u003ePollution=%{x}\\u003cbr\\u003eGDP=%{y}\\u003cbr\\u003eTemp_Anomaly=%{marker.color}\\u003cextra\\u003e\\u003c\\u002fextra\\u003e\",\"hovertext\":[\"United States\",\"India\",\"China\",\"Germany\",\"Brazil\"],\"ids\":[\"United States\",\"India\",\"China\",\"Germany\",\"Brazil\"],\"legendgroup\":\"\",\"marker\":{\"color\":[1.3908989174588453,0.579840383401421,0.7714660724180549,0.8949814698512277,0.2398775715378197],\"coloraxis\":\"coloraxis\",\"symbol\":\"circle\"},\"mode\":\"markers\",\"name\":\"\",\"orientation\":\"v\",\"showlegend\":false,\"x\":[85.5634745355348,79.67471186214007,54.95911314133498,23.466869868929567,55.148132086265775],\"xaxis\":\"x\",\"y\":[1982725476854.0808,443731417798.9176,9142759247278.146,3141487274333.34,4012406272215.807],\"yaxis\":\"y\",\"type\":\"scatter\"}],\"name\":\"2015\"},{\"data\":[{\"hovertemplate\":\"\\u003cb\\u003e%{hovertext}\\u003c\\u002fb\\u003e\\u003cbr\\u003e\\u003cbr\\u003eYear=2016\\u003cbr\\u003ePollution=%{x}\\u003cbr\\u003eGDP=%{y}\\u003cbr\\u003eTemp_Anomaly=%{marker.color}\\u003cextra\\u003e\\u003c\\u002fextra\\u003e\",\"hovertext\":[\"United States\",\"India\",\"China\",\"Germany\",\"Brazil\"],\"ids\":[\"United States\",\"India\",\"China\",\"Germany\",\"Brazil\"],\"legendgroup\":\"\",\"marker\":{\"color\":[0.4042553428933259,0.7159103540184064,1.3492384738569636,1.405253426523586,0.3599839308017458],\"coloraxis\":\"coloraxis\",\"symbol\":\"circle\"},\"mode\":\"markers\",\"name\":\"\",\"orientation\":\"v\",\"showlegend\":false,\"x\":[77.72810923833231,72.06602418495712,24.694868436913744,38.029591247710144,16.946974739517266],\"xaxis\":\"x\",\"y\":[5823612923521.893,3216381054877.226,2378561952955.156,6872034671823.967,919611708810.1588],\"yaxis\":\"y\",\"type\":\"scatter\"}],\"name\":\"2016\"},{\"data\":[{\"hovertemplate\":\"\\u003cb\\u003e%{hovertext}\\u003c\\u002fb\\u003e\\u003cbr\\u003e\\u003cbr\\u003eYear=2017\\u003cbr\\u003ePollution=%{x}\\u003cbr\\u003eGDP=%{y}\\u003cbr\\u003eTemp_Anomaly=%{marker.color}\\u003cextra\\u003e\\u003c\\u002fextra\\u003e\",\"hovertext\":[\"United States\",\"India\",\"China\",\"Germany\",\"Brazil\"],\"ids\":[\"United States\",\"India\",\"China\",\"Germany\",\"Brazil\"],\"legendgroup\":\"\",\"marker\":{\"color\":[1.2523762260220788,0.5830246038446958,0.2280995435885862,1.0856371392201514,1.4439217007390404],\"coloraxis\":\"coloraxis\",\"symbol\":\"circle\"},\"mode\":\"markers\",\"name\":\"\",\"orientation\":\"v\",\"showlegend\":false,\"x\":[65.53876551250862,73.44555911537043,81.57794613236783,5.770828194112736,84.39028141505246],\"xaxis\":\"x\",\"y\":[4851871357749.108,779787384012.6542,5882400440514.48,9099426515163.568,6669449799139.621],\"yaxis\":\"y\",\"type\":\"scatter\"}],\"name\":\"2017\"},{\"data\":[{\"hovertemplate\":\"\\u003cb\\u003e%{hovertext}\\u003c\\u002fb\\u003e\\u003cbr\\u003e\\u003cbr\\u003eYear=2018\\u003cbr\\u003ePollution=%{x}\\u003cbr\\u003eGDP=%{y}\\u003cbr\\u003eTemp_Anomaly=%{marker.color}\\u003cextra\\u003e\\u003c\\u002fextra\\u003e\",\"hovertext\":[\"United States\",\"India\",\"China\",\"Germany\",\"Brazil\"],\"ids\":[\"United States\",\"India\",\"China\",\"Germany\",\"Brazil\"],\"legendgroup\":\"\",\"marker\":{\"color\":[0.2730959078043962,1.4514731603713196,0.3661879465679504,1.1539323001628523,0.8470741577897789],\"coloraxis\":\"coloraxis\",\"symbol\":\"circle\"},\"mode\":\"markers\",\"name\":\"\",\"orientation\":\"v\",\"showlegend\":false,\"x\":[42.33717799112685,24.683037145919428,29.896845813430808,31.925882674557744,69.2383193044951],\"xaxis\":\"x\",\"y\":[10386965700819.443,9581877922443.834,4849406576920.183,6133290411249.311,8600397893271.133],\"yaxis\":\"y\",\"type\":\"scatter\"}],\"name\":\"2018\"},{\"data\":[{\"hovertemplate\":\"\\u003cb\\u003e%{hovertext}\\u003c\\u002fb\\u003e\\u003cbr\\u003e\\u003cbr\\u003eYear=2019\\u003cbr\\u003ePollution=%{x}\\u003cbr\\u003eGDP=%{y}\\u003cbr\\u003eTemp_Anomaly=%{marker.color}\\u003cextra\\u003e\\u003c\\u002fextra\\u003e\",\"hovertext\":[\"United States\",\"India\",\"China\",\"Germany\",\"Brazil\"],\"ids\":[\"United States\",\"India\",\"China\",\"Germany\",\"Brazil\"],\"legendgroup\":\"\",\"marker\":{\"color\":[0.3881125134104917,0.5366210681122215,0.8492672813896065,0.5753037730035855,0.4764082023501734],\"coloraxis\":\"coloraxis\",\"symbol\":\"circle\"},\"mode\":\"markers\",\"name\":\"\",\"orientation\":\"v\",\"showlegend\":false,\"x\":[25.160445448741715,67.57353183034557,33.32663619221549,15.84373105151861,38.49954257704012],\"xaxis\":\"x\",\"y\":[2551909244650.1777,792209569554.5533,4052114009250.3286,6410453786960.73,4492203360066.785],\"yaxis\":\"y\",\"type\":\"scatter\"}],\"name\":\"2019\"},{\"data\":[{\"hovertemplate\":\"\\u003cb\\u003e%{hovertext}\\u003c\\u002fb\\u003e\\u003cbr\\u003e\\u003cbr\\u003eYear=2020\\u003cbr\\u003ePollution=%{x}\\u003cbr\\u003eGDP=%{y}\\u003cbr\\u003eTemp_Anomaly=%{marker.color}\\u003cextra\\u003e\\u003c\\u002fextra\\u003e\",\"hovertext\":[\"United States\",\"India\",\"China\",\"Germany\",\"Brazil\"],\"ids\":[\"United States\",\"India\",\"China\",\"Germany\",\"Brazil\"],\"legendgroup\":\"\",\"marker\":{\"color\":[0.6272769547731867,0.585077430174555,1.3382610511820592,0.814820817417871,0.4869737779580891],\"coloraxis\":\"coloraxis\",\"symbol\":\"circle\"},\"mode\":\"markers\",\"name\":\"\",\"orientation\":\"v\",\"showlegend\":false,\"x\":[70.28059389517603,25.834748396019517,23.55338447859484,34.54991505591011,14.54056901500164],\"xaxis\":\"x\",\"y\":[12532326587308.549,1991493969379.295,3356213793189.253,3956978997471.001,5808254149226.115],\"yaxis\":\"y\",\"type\":\"scatter\"}],\"name\":\"2020\"}]);\n",
              "                        }).then(function(){\n",
              "                            \n",
              "var gd = document.getElementById('07af6839-0700-46fa-aa92-8d989691ebc0');\n",
              "var x = new MutationObserver(function (mutations, observer) {{\n",
              "        var display = window.getComputedStyle(gd).display;\n",
              "        if (!display || display === 'none') {{\n",
              "            console.log([gd, 'removed!']);\n",
              "            Plotly.purge(gd);\n",
              "            observer.disconnect();\n",
              "        }}\n",
              "}});\n",
              "\n",
              "// Listen for the removal of the full notebook cells\n",
              "var notebookContainer = gd.closest('#notebook-container');\n",
              "if (notebookContainer) {{\n",
              "    x.observe(notebookContainer, {childList: true});\n",
              "}}\n",
              "\n",
              "// Listen for the clearing of the current output cell\n",
              "var outputEl = gd.closest('.output');\n",
              "if (outputEl) {{\n",
              "    x.observe(outputEl, {childList: true});\n",
              "}}\n",
              "\n",
              "                        })                };                            </script>        </div>\n",
              "</body>\n",
              "</html>"
            ]
          },
          "metadata": {}
        }
      ]
    },
    {
      "cell_type": "markdown",
      "source": [
        "# Separate Plots by Continent (Faceted Scatter Plot)\n",
        "* We can compare continents side by side.\n",
        "* Highlights regional differences in pollution vs GDP relationship."
      ],
      "metadata": {
        "id": "HSayCQA7B1YD"
      }
    },
    {
      "cell_type": "code",
      "source": [
        "!pip install pycountry-convert -q\n",
        "import pycountry_convert as pc\n",
        "\n",
        "def get_continent(country):\n",
        "    try:\n",
        "        country_code = pc.country_name_to_country_alpha2(country)\n",
        "        return pc.country_alpha2_to_continent_code(country_code)\n",
        "    except:\n",
        "        return None\n",
        "\n",
        "# Assign continent codes to each country\n",
        "df['Continent'] = df['Country'].apply(get_continent)\n",
        "\n",
        "# Map to readable names\n",
        "continent_map = {\n",
        "    'AF': 'Africa',\n",
        "    'AS': 'Asia',\n",
        "    'EU': 'Europe',\n",
        "    'NA': 'North America',\n",
        "    'SA': 'South America',\n",
        "    'OC': 'Oceania'\n",
        "}\n",
        "df['Continent'] = df['Continent'].map(continent_map)"
      ],
      "metadata": {
        "id": "idufZ__GBhEm",
        "colab": {
          "base_uri": "https://localhost:8080/"
        },
        "outputId": "f03776bc-1e9c-47fb-bf61-3bffe8c94d2f"
      },
      "execution_count": 6,
      "outputs": [
        {
          "output_type": "stream",
          "name": "stdout",
          "text": [
            "\u001b[2K   \u001b[90m━━━━━━━━━━━━━━━━━━━━━━━━━━━━━━━━━━━━━━━━\u001b[0m \u001b[32m6.3/6.3 MB\u001b[0m \u001b[31m40.1 MB/s\u001b[0m eta \u001b[36m0:00:00\u001b[0m\n",
            "\u001b[2K   \u001b[90m━━━━━━━━━━━━━━━━━━━━━━━━━━━━━━━━━━━━━━━━\u001b[0m \u001b[32m244.0/244.0 kB\u001b[0m \u001b[31m14.1 MB/s\u001b[0m eta \u001b[36m0:00:00\u001b[0m\n",
            "\u001b[?25h"
          ]
        }
      ]
    },
    {
      "cell_type": "code",
      "source": [
        "import plotly.express as px\n",
        "\n",
        "# Unique sorted years for dropdown\n",
        "years = sorted(df['Year'].unique())\n",
        "\n",
        "# Create figure with all years (default)\n",
        "fig = px.scatter(\n",
        "    df,\n",
        "    x='Pollution',\n",
        "    y='GDP',\n",
        "    color='Temp_Anomaly',\n",
        "    facet_col='Continent',\n",
        "    hover_name='Country',\n",
        "    color_continuous_scale='plasma',\n",
        "    trendline='ols',\n",
        "    trendline_color_override='black',\n",
        "    opacity=0.85,\n",
        "    height=700,\n",
        "    width=1200,\n",
        "    title=\"🌍 GDP vs Pollution by Continent (Colored by Temp Anomaly) with Trendlines\"\n",
        ")\n",
        "\n",
        "# Update visuals\n",
        "fig.update_traces(marker=dict(size=12, line=dict(width=1, color='black')))\n",
        "fig.update_layout(title_font_size=20, yaxis_title=\"GDP (in USD)\")\n",
        "\n",
        "# Add dropdown to filter by year\n",
        "dropdown_buttons = [\n",
        "    {\n",
        "        \"label\": str(year),\n",
        "        \"method\": \"update\",\n",
        "        \"args\": [\n",
        "            {\"visible\": [row['Year'] == year for _, row in df.iterrows()]},\n",
        "            {\"title\": f\"GDP vs Pollution by Continent - Year: {year}\"}\n",
        "        ],\n",
        "    } for year in years\n",
        "]\n",
        "\n",
        "fig.update_layout(\n",
        "    updatemenus=[\n",
        "        {\n",
        "            \"buttons\": dropdown_buttons,\n",
        "            \"direction\": \"down\",\n",
        "            \"showactive\": True,\n",
        "            \"x\": 1.1,  # Pushes dropdown to the right side\n",
        "            \"xanchor\": \"left\",  # Anchors from the left of the dropdown\n",
        "            \"y\": 1.05,\n",
        "            \"yanchor\": \"top\"\n",
        "        }\n",
        "    ]\n",
        ")\n",
        "\n",
        "fig.show()"
      ],
      "metadata": {
        "colab": {
          "base_uri": "https://localhost:8080/",
          "height": 716
        },
        "id": "Yy_sFLqbCKUi",
        "outputId": "3f66954d-a466-47ee-8456-6c15ae64175a"
      },
      "execution_count": 7,
      "outputs": [
        {
          "output_type": "display_data",
          "data": {
            "text/html": [
              "<html>\n",
              "<head><meta charset=\"utf-8\" /></head>\n",
              "<body>\n",
              "    <div>            <script src=\"https://cdnjs.cloudflare.com/ajax/libs/mathjax/2.7.5/MathJax.js?config=TeX-AMS-MML_SVG\"></script><script type=\"text/javascript\">if (window.MathJax && window.MathJax.Hub && window.MathJax.Hub.Config) {window.MathJax.Hub.Config({SVG: {font: \"STIX-Web\"}});}</script>                <script type=\"text/javascript\">window.PlotlyConfig = {MathJaxConfig: 'local'};</script>\n",
              "        <script charset=\"utf-8\" src=\"https://cdn.plot.ly/plotly-2.35.2.min.js\"></script>                <div id=\"352ab96e-f324-41bd-98e2-c580611909bc\" class=\"plotly-graph-div\" style=\"height:700px; width:1200px;\"></div>            <script type=\"text/javascript\">                                    window.PLOTLYENV=window.PLOTLYENV || {};                                    if (document.getElementById(\"352ab96e-f324-41bd-98e2-c580611909bc\")) {                    Plotly.newPlot(                        \"352ab96e-f324-41bd-98e2-c580611909bc\",                        [{\"hovertemplate\":\"\\u003cb\\u003e%{hovertext}\\u003c\\u002fb\\u003e\\u003cbr\\u003e\\u003cbr\\u003eContinent=North America\\u003cbr\\u003ePollution=%{x}\\u003cbr\\u003eGDP=%{y}\\u003cbr\\u003eTemp_Anomaly=%{marker.color}\\u003cextra\\u003e\\u003c\\u002fextra\\u003e\",\"hovertext\":[\"United States\",\"United States\",\"United States\",\"United States\",\"United States\",\"United States\",\"United States\",\"United States\",\"United States\",\"United States\",\"United States\"],\"legendgroup\":\"\",\"marker\":{\"color\":[1.3770484814212285,1.2519625439346291,0.7245791346134138,1.2225649648362666,1.4162835283659818,1.3908989174588453,0.4042553428933259,1.2523762260220788,0.2730959078043962,0.3881125134104917,0.6272769547731867],\"coloraxis\":\"coloraxis\",\"opacity\":0.85,\"symbol\":\"circle\",\"line\":{\"color\":\"black\",\"width\":1},\"size\":12},\"mode\":\"markers\",\"name\":\"\",\"orientation\":\"v\",\"showlegend\":false,\"x\":[15.222024046889588,38.64495908699613,80.11878685039439,43.92766283506581,81.62767808062324,85.5634745355348,77.72810923833231,65.53876551250862,42.33717799112685,25.160445448741715,70.28059389517603],\"xaxis\":\"x\",\"y\":[3577771100885.762,4546422958270.197,9087468777415.562,13935727891776.822,9677496017445.271,1982725476854.0808,5823612923521.893,4851871357749.108,10386965700819.443,2551909244650.1777,12532326587308.549],\"yaxis\":\"y\",\"type\":\"scatter\"},{\"hovertemplate\":\"\\u003cb\\u003eOLS trendline\\u003c\\u002fb\\u003e\\u003cbr\\u003eGDP = 3.1236e+10 * Pollution + 5.39963e+12\\u003cbr\\u003eR\\u003csup\\u003e2\\u003c\\u002fsup\\u003e=0.035101\\u003cbr\\u003e\\u003cbr\\u003eContinent=North America\\u003cbr\\u003ePollution=%{x}\\u003cbr\\u003eGDP=%{y} \\u003cb\\u003e(trend)\\u003c\\u002fb\\u003e\\u003cextra\\u003e\\u003c\\u002fextra\\u003e\",\"legendgroup\":\"\",\"line\":{\"color\":\"black\"},\"marker\":{\"symbol\":\"circle\",\"line\":{\"color\":\"black\",\"width\":1},\"size\":12},\"mode\":\"lines\",\"name\":\"\",\"showlegend\":false,\"x\":[15.222024046889588,25.160445448741715,38.64495908699613,42.33717799112685,43.92766283506581,65.53876551250862,70.28059389517603,77.72810923833231,80.11878685039439,81.62767808062324,85.5634745355348],\"xaxis\":\"x\",\"y\":[5875100938868.354,6185537533832.606,6606739888748.71,6722070062235.556,6771750457071.968,7446794999594.377,7594910781517.83,7827541418778.05,7902216640077.029,7949348376269.698,8072286939702.662],\"yaxis\":\"y\",\"type\":\"scatter\"},{\"hovertemplate\":\"\\u003cb\\u003e%{hovertext}\\u003c\\u002fb\\u003e\\u003cbr\\u003e\\u003cbr\\u003eContinent=Asia\\u003cbr\\u003ePollution=%{x}\\u003cbr\\u003eGDP=%{y}\\u003cbr\\u003eTemp_Anomaly=%{marker.color}\\u003cextra\\u003e\\u003c\\u002fextra\\u003e\",\"hovertext\":[\"India\",\"India\",\"India\",\"India\",\"India\",\"India\",\"India\",\"India\",\"India\",\"India\",\"India\",\"China\",\"China\",\"China\",\"China\",\"China\",\"China\",\"China\",\"China\",\"China\",\"China\",\"China\"],\"legendgroup\":\"\",\"marker\":{\"color\":[1.494213538816118,1.216198114290638,0.7413016098805343,1.2590043308187415,1.1334394540204458,0.579840383401421,0.7159103540184064,0.5830246038446958,1.4514731603713196,0.5366210681122215,0.585077430174555,1.1852759484741255,1.2026553995585805,1.1679960620722547,0.58420341863476,0.9144638701902056,0.7714660724180549,1.3492384738569636,0.2280995435885862,0.3661879465679504,0.8492672813896065,1.3382610511820592],\"coloraxis\":\"coloraxis\",\"opacity\":0.85,\"symbol\":\"circle\",\"line\":{\"color\":\"black\",\"width\":1},\"size\":12},\"mode\":\"markers\",\"name\":\"\",\"orientation\":\"v\",\"showlegend\":false,\"x\":[55.80977787835223,44.7120755250722,78.86251428835182,37.27977624599166,81.40368003201533,79.67471186214007,72.06602418495712,73.44555911537043,24.683037145919428,67.57353183034557,25.834748396019517,11.83737423100939,33.05065492806395,29.096785259702557,44.2138525656226,10.997540551302212,54.95911314133498,24.694868436913744,81.57794613236783,29.896845813430808,33.32663619221549,23.55338447859484],\"xaxis\":\"x2\",\"y\":[7824156942675.842,2939420107622.8467,790540053981.9282,1092888147068.4587,3041594245192.6704,443731417798.9176,3216381054877.226,779787384012.6542,9581877922443.834,792209569554.5533,1991493969379.295,3598161178835.2544,3505151534574.17,9283394785665.47,9957872123693.54,2198810165335.8303,9142759247278.146,2378561952955.156,5882400440514.48,4849406576920.183,4052114009250.3286,3356213793189.253],\"yaxis\":\"y2\",\"type\":\"scatter\"},{\"hovertemplate\":\"\\u003cb\\u003eOLS trendline\\u003c\\u002fb\\u003e\\u003cbr\\u003eGDP = -2.68388e+10 * Pollution + 5.36526e+12\\u003cbr\\u003eR\\u003csup\\u003e2\\u003c\\u002fsup\\u003e=0.042059\\u003cbr\\u003e\\u003cbr\\u003eContinent=Asia\\u003cbr\\u003ePollution=%{x}\\u003cbr\\u003eGDP=%{y} \\u003cb\\u003e(trend)\\u003c\\u002fb\\u003e\\u003cextra\\u003e\\u003c\\u002fextra\\u003e\",\"legendgroup\":\"\",\"line\":{\"color\":\"black\"},\"marker\":{\"symbol\":\"circle\",\"line\":{\"color\":\"black\",\"width\":1},\"size\":12},\"mode\":\"lines\",\"name\":\"\",\"showlegend\":false,\"x\":[10.997540551302212,11.83737423100939,23.55338447859484,24.683037145919428,24.694868436913744,25.834748396019517,29.096785259702557,29.896845813430808,33.05065492806395,33.32663619221549,37.27977624599166,44.2138525656226,44.7120755250722,54.95911314133498,55.80977787835223,67.57353183034557,72.06602418495712,73.44555911537043,78.86251428835182,79.67471186214007,81.40368003201533,81.57794613236783],\"xaxis\":\"x2\",\"y\":[5070094471272.316,5047554324018.99,4733110401867.482,4702791854181.365,4702474316259.688,4671881280102.437,4584332050975.508,4562859367599.794,4478214843844.21,4470807831618.522,4364710206483.7393,4178607761336.7666,4165236043647.5,3890217617545.001,3867386777464.538,3551661470493.898,3431088264567.3457,3394063171118.5273,3248678471488.1895,3226880044782.601,3180476574563.4854,3175799477588.0723],\"yaxis\":\"y2\",\"type\":\"scatter\"},{\"hovertemplate\":\"\\u003cb\\u003e%{hovertext}\\u003c\\u002fb\\u003e\\u003cbr\\u003e\\u003cbr\\u003eContinent=Europe\\u003cbr\\u003ePollution=%{x}\\u003cbr\\u003eGDP=%{y}\\u003cbr\\u003eTemp_Anomaly=%{marker.color}\\u003cextra\\u003e\\u003c\\u002fextra\\u003e\",\"hovertext\":[\"Germany\",\"Germany\",\"Germany\",\"Germany\",\"Germany\",\"Germany\",\"Germany\",\"Germany\",\"Germany\",\"Germany\",\"Germany\"],\"legendgroup\":\"\",\"marker\":{\"color\":[0.3515514840510726,1.1161683403814897,1.3489503555927456,0.9075606544997334,1.0269382400183251,0.8949814698512277,1.405253426523586,1.0856371392201514,1.1539323001628523,0.5753037730035855,0.814820817417871],\"coloraxis\":\"coloraxis\",\"opacity\":0.85,\"symbol\":\"circle\",\"line\":{\"color\":\"black\",\"width\":1},\"size\":12},\"mode\":\"markers\",\"name\":\"\",\"orientation\":\"v\",\"showlegend\":false,\"x\":[9.369264569056178,5.562223529323084,17.247382279773007,17.51435849487153,12.858875206650568,23.466869868929567,38.029591247710144,5.770828194112736,31.925882674557744,15.84373105151861,34.54991505591011],\"xaxis\":\"x3\",\"y\":[8988116613378.328,4314886970302.174,6155530626974.89,2964852180231.3584,3952286866575.822,3141487274333.34,6872034671823.967,9099426515163.568,6133290411249.311,6410453786960.73,3956978997471.001],\"yaxis\":\"y3\",\"type\":\"scatter\"},{\"hovertemplate\":\"\\u003cb\\u003eOLS trendline\\u003c\\u002fb\\u003e\\u003cbr\\u003eGDP = -4.39042e+10 * Pollution + 6.4821e+12\\u003cbr\\u003eR\\u003csup\\u003e2\\u003c\\u002fsup\\u003e=0.053377\\u003cbr\\u003e\\u003cbr\\u003eContinent=Europe\\u003cbr\\u003ePollution=%{x}\\u003cbr\\u003eGDP=%{y} \\u003cb\\u003e(trend)\\u003c\\u002fb\\u003e\\u003cextra\\u003e\\u003c\\u002fextra\\u003e\",\"legendgroup\":\"\",\"line\":{\"color\":\"black\"},\"marker\":{\"symbol\":\"circle\",\"line\":{\"color\":\"black\",\"width\":1},\"size\":12},\"mode\":\"lines\",\"name\":\"\",\"showlegend\":false,\"x\":[5.562223529323084,5.770828194112736,9.369264569056178,12.858875206650568,15.84373105151861,17.247382279773007,17.51435849487153,23.466869868929567,31.925882674557744,34.54991505591011,38.029591247710144],\"xaxis\":\"x3\",\"y\":[6237897827199.782,6228739211478.894,6070752830937.48,5917544354619.48,5786496721082.817,5724870571836.839,5713149201352.77,5451809099950.03,5080423120911.935,4965217143882.58,4812444831211.842],\"yaxis\":\"y3\",\"type\":\"scatter\"},{\"hovertemplate\":\"\\u003cb\\u003e%{hovertext}\\u003c\\u002fb\\u003e\\u003cbr\\u003e\\u003cbr\\u003eContinent=South America\\u003cbr\\u003ePollution=%{x}\\u003cbr\\u003eGDP=%{y}\\u003cbr\\u003eTemp_Anomaly=%{marker.color}\\u003cextra\\u003e\\u003c\\u002fextra\\u003e\",\"hovertext\":[\"Brazil\",\"Brazil\",\"Brazil\",\"Brazil\",\"Brazil\",\"Brazil\",\"Brazil\",\"Brazil\",\"Brazil\",\"Brazil\",\"Brazil\"],\"legendgroup\":\"\",\"marker\":{\"color\":[0.3814363837477852,0.3242745939144613,1.1230812309701488,0.4521068245659189,1.4126387015036923,0.2398775715378197,0.3599839308017458,1.4439217007390404,0.8470741577897789,0.4764082023501734,0.4869737779580891],\"coloraxis\":\"coloraxis\",\"opacity\":0.85,\"symbol\":\"circle\",\"line\":{\"color\":\"black\",\"width\":1},\"size\":12},\"mode\":\"markers\",\"name\":\"\",\"orientation\":\"v\",\"showlegend\":false,\"x\":[38.84998957606079,42.3320826298366,27.24689928629689,68.55733304614404,70.73314001778344,55.148132086265775,16.946974739517266,84.39028141505246,69.2383193044951,38.49954257704012,14.54056901500164],\"xaxis\":\"x4\",\"y\":[8508151286704.097,5955826316269.283,2672883312755.749,5141666993117.628,9781548137130.84,4012406272215.807,919611708810.1588,6669449799139.621,8600397893271.133,4492203360066.785,5808254149226.115],\"yaxis\":\"y4\",\"type\":\"scatter\"},{\"hovertemplate\":\"\\u003cb\\u003eOLS trendline\\u003c\\u002fb\\u003e\\u003cbr\\u003eGDP = 6.52689e+10 * Pollution + 2.56358e+12\\u003cbr\\u003eR\\u003csup\\u003e2\\u003c\\u002fsup\\u003e=0.331011\\u003cbr\\u003e\\u003cbr\\u003eContinent=South America\\u003cbr\\u003ePollution=%{x}\\u003cbr\\u003eGDP=%{y} \\u003cb\\u003e(trend)\\u003c\\u002fb\\u003e\\u003cextra\\u003e\\u003c\\u002fextra\\u003e\",\"legendgroup\":\"\",\"line\":{\"color\":\"black\"},\"marker\":{\"symbol\":\"circle\",\"line\":{\"color\":\"black\",\"width\":1},\"size\":12},\"mode\":\"lines\",\"name\":\"\",\"showlegend\":false,\"x\":[14.54056901500164,16.946974739517266,27.24689928629689,38.49954257704012,38.84998957606079,42.3320826298366,55.148132086265775,68.55733304614404,69.2383193044951,70.73314001778344,84.39028141505246],\"xaxis\":\"x4\",\"y\":[3512629895813.592,3669693371939.7095,4341958209357.998,5076405959729.4,5099279252999.692,5326551667476.15,6163041232524.946,7038245149044.918,7082692379136.287,7180257696165.961,8071644414518.596],\"yaxis\":\"y4\",\"type\":\"scatter\"}],                        {\"template\":{\"data\":{\"histogram2dcontour\":[{\"type\":\"histogram2dcontour\",\"colorbar\":{\"outlinewidth\":0,\"ticks\":\"\"},\"colorscale\":[[0.0,\"#0d0887\"],[0.1111111111111111,\"#46039f\"],[0.2222222222222222,\"#7201a8\"],[0.3333333333333333,\"#9c179e\"],[0.4444444444444444,\"#bd3786\"],[0.5555555555555556,\"#d8576b\"],[0.6666666666666666,\"#ed7953\"],[0.7777777777777778,\"#fb9f3a\"],[0.8888888888888888,\"#fdca26\"],[1.0,\"#f0f921\"]]}],\"choropleth\":[{\"type\":\"choropleth\",\"colorbar\":{\"outlinewidth\":0,\"ticks\":\"\"}}],\"histogram2d\":[{\"type\":\"histogram2d\",\"colorbar\":{\"outlinewidth\":0,\"ticks\":\"\"},\"colorscale\":[[0.0,\"#0d0887\"],[0.1111111111111111,\"#46039f\"],[0.2222222222222222,\"#7201a8\"],[0.3333333333333333,\"#9c179e\"],[0.4444444444444444,\"#bd3786\"],[0.5555555555555556,\"#d8576b\"],[0.6666666666666666,\"#ed7953\"],[0.7777777777777778,\"#fb9f3a\"],[0.8888888888888888,\"#fdca26\"],[1.0,\"#f0f921\"]]}],\"heatmap\":[{\"type\":\"heatmap\",\"colorbar\":{\"outlinewidth\":0,\"ticks\":\"\"},\"colorscale\":[[0.0,\"#0d0887\"],[0.1111111111111111,\"#46039f\"],[0.2222222222222222,\"#7201a8\"],[0.3333333333333333,\"#9c179e\"],[0.4444444444444444,\"#bd3786\"],[0.5555555555555556,\"#d8576b\"],[0.6666666666666666,\"#ed7953\"],[0.7777777777777778,\"#fb9f3a\"],[0.8888888888888888,\"#fdca26\"],[1.0,\"#f0f921\"]]}],\"heatmapgl\":[{\"type\":\"heatmapgl\",\"colorbar\":{\"outlinewidth\":0,\"ticks\":\"\"},\"colorscale\":[[0.0,\"#0d0887\"],[0.1111111111111111,\"#46039f\"],[0.2222222222222222,\"#7201a8\"],[0.3333333333333333,\"#9c179e\"],[0.4444444444444444,\"#bd3786\"],[0.5555555555555556,\"#d8576b\"],[0.6666666666666666,\"#ed7953\"],[0.7777777777777778,\"#fb9f3a\"],[0.8888888888888888,\"#fdca26\"],[1.0,\"#f0f921\"]]}],\"contourcarpet\":[{\"type\":\"contourcarpet\",\"colorbar\":{\"outlinewidth\":0,\"ticks\":\"\"}}],\"contour\":[{\"type\":\"contour\",\"colorbar\":{\"outlinewidth\":0,\"ticks\":\"\"},\"colorscale\":[[0.0,\"#0d0887\"],[0.1111111111111111,\"#46039f\"],[0.2222222222222222,\"#7201a8\"],[0.3333333333333333,\"#9c179e\"],[0.4444444444444444,\"#bd3786\"],[0.5555555555555556,\"#d8576b\"],[0.6666666666666666,\"#ed7953\"],[0.7777777777777778,\"#fb9f3a\"],[0.8888888888888888,\"#fdca26\"],[1.0,\"#f0f921\"]]}],\"surface\":[{\"type\":\"surface\",\"colorbar\":{\"outlinewidth\":0,\"ticks\":\"\"},\"colorscale\":[[0.0,\"#0d0887\"],[0.1111111111111111,\"#46039f\"],[0.2222222222222222,\"#7201a8\"],[0.3333333333333333,\"#9c179e\"],[0.4444444444444444,\"#bd3786\"],[0.5555555555555556,\"#d8576b\"],[0.6666666666666666,\"#ed7953\"],[0.7777777777777778,\"#fb9f3a\"],[0.8888888888888888,\"#fdca26\"],[1.0,\"#f0f921\"]]}],\"mesh3d\":[{\"type\":\"mesh3d\",\"colorbar\":{\"outlinewidth\":0,\"ticks\":\"\"}}],\"scatter\":[{\"fillpattern\":{\"fillmode\":\"overlay\",\"size\":10,\"solidity\":0.2},\"type\":\"scatter\"}],\"parcoords\":[{\"type\":\"parcoords\",\"line\":{\"colorbar\":{\"outlinewidth\":0,\"ticks\":\"\"}}}],\"scatterpolargl\":[{\"type\":\"scatterpolargl\",\"marker\":{\"colorbar\":{\"outlinewidth\":0,\"ticks\":\"\"}}}],\"bar\":[{\"error_x\":{\"color\":\"#2a3f5f\"},\"error_y\":{\"color\":\"#2a3f5f\"},\"marker\":{\"line\":{\"color\":\"#E5ECF6\",\"width\":0.5},\"pattern\":{\"fillmode\":\"overlay\",\"size\":10,\"solidity\":0.2}},\"type\":\"bar\"}],\"scattergeo\":[{\"type\":\"scattergeo\",\"marker\":{\"colorbar\":{\"outlinewidth\":0,\"ticks\":\"\"}}}],\"scatterpolar\":[{\"type\":\"scatterpolar\",\"marker\":{\"colorbar\":{\"outlinewidth\":0,\"ticks\":\"\"}}}],\"histogram\":[{\"marker\":{\"pattern\":{\"fillmode\":\"overlay\",\"size\":10,\"solidity\":0.2}},\"type\":\"histogram\"}],\"scattergl\":[{\"type\":\"scattergl\",\"marker\":{\"colorbar\":{\"outlinewidth\":0,\"ticks\":\"\"}}}],\"scatter3d\":[{\"type\":\"scatter3d\",\"line\":{\"colorbar\":{\"outlinewidth\":0,\"ticks\":\"\"}},\"marker\":{\"colorbar\":{\"outlinewidth\":0,\"ticks\":\"\"}}}],\"scattermapbox\":[{\"type\":\"scattermapbox\",\"marker\":{\"colorbar\":{\"outlinewidth\":0,\"ticks\":\"\"}}}],\"scatterternary\":[{\"type\":\"scatterternary\",\"marker\":{\"colorbar\":{\"outlinewidth\":0,\"ticks\":\"\"}}}],\"scattercarpet\":[{\"type\":\"scattercarpet\",\"marker\":{\"colorbar\":{\"outlinewidth\":0,\"ticks\":\"\"}}}],\"carpet\":[{\"aaxis\":{\"endlinecolor\":\"#2a3f5f\",\"gridcolor\":\"white\",\"linecolor\":\"white\",\"minorgridcolor\":\"white\",\"startlinecolor\":\"#2a3f5f\"},\"baxis\":{\"endlinecolor\":\"#2a3f5f\",\"gridcolor\":\"white\",\"linecolor\":\"white\",\"minorgridcolor\":\"white\",\"startlinecolor\":\"#2a3f5f\"},\"type\":\"carpet\"}],\"table\":[{\"cells\":{\"fill\":{\"color\":\"#EBF0F8\"},\"line\":{\"color\":\"white\"}},\"header\":{\"fill\":{\"color\":\"#C8D4E3\"},\"line\":{\"color\":\"white\"}},\"type\":\"table\"}],\"barpolar\":[{\"marker\":{\"line\":{\"color\":\"#E5ECF6\",\"width\":0.5},\"pattern\":{\"fillmode\":\"overlay\",\"size\":10,\"solidity\":0.2}},\"type\":\"barpolar\"}],\"pie\":[{\"automargin\":true,\"type\":\"pie\"}]},\"layout\":{\"autotypenumbers\":\"strict\",\"colorway\":[\"#636efa\",\"#EF553B\",\"#00cc96\",\"#ab63fa\",\"#FFA15A\",\"#19d3f3\",\"#FF6692\",\"#B6E880\",\"#FF97FF\",\"#FECB52\"],\"font\":{\"color\":\"#2a3f5f\"},\"hovermode\":\"closest\",\"hoverlabel\":{\"align\":\"left\"},\"paper_bgcolor\":\"white\",\"plot_bgcolor\":\"#E5ECF6\",\"polar\":{\"bgcolor\":\"#E5ECF6\",\"angularaxis\":{\"gridcolor\":\"white\",\"linecolor\":\"white\",\"ticks\":\"\"},\"radialaxis\":{\"gridcolor\":\"white\",\"linecolor\":\"white\",\"ticks\":\"\"}},\"ternary\":{\"bgcolor\":\"#E5ECF6\",\"aaxis\":{\"gridcolor\":\"white\",\"linecolor\":\"white\",\"ticks\":\"\"},\"baxis\":{\"gridcolor\":\"white\",\"linecolor\":\"white\",\"ticks\":\"\"},\"caxis\":{\"gridcolor\":\"white\",\"linecolor\":\"white\",\"ticks\":\"\"}},\"coloraxis\":{\"colorbar\":{\"outlinewidth\":0,\"ticks\":\"\"}},\"colorscale\":{\"sequential\":[[0.0,\"#0d0887\"],[0.1111111111111111,\"#46039f\"],[0.2222222222222222,\"#7201a8\"],[0.3333333333333333,\"#9c179e\"],[0.4444444444444444,\"#bd3786\"],[0.5555555555555556,\"#d8576b\"],[0.6666666666666666,\"#ed7953\"],[0.7777777777777778,\"#fb9f3a\"],[0.8888888888888888,\"#fdca26\"],[1.0,\"#f0f921\"]],\"sequentialminus\":[[0.0,\"#0d0887\"],[0.1111111111111111,\"#46039f\"],[0.2222222222222222,\"#7201a8\"],[0.3333333333333333,\"#9c179e\"],[0.4444444444444444,\"#bd3786\"],[0.5555555555555556,\"#d8576b\"],[0.6666666666666666,\"#ed7953\"],[0.7777777777777778,\"#fb9f3a\"],[0.8888888888888888,\"#fdca26\"],[1.0,\"#f0f921\"]],\"diverging\":[[0,\"#8e0152\"],[0.1,\"#c51b7d\"],[0.2,\"#de77ae\"],[0.3,\"#f1b6da\"],[0.4,\"#fde0ef\"],[0.5,\"#f7f7f7\"],[0.6,\"#e6f5d0\"],[0.7,\"#b8e186\"],[0.8,\"#7fbc41\"],[0.9,\"#4d9221\"],[1,\"#276419\"]]},\"xaxis\":{\"gridcolor\":\"white\",\"linecolor\":\"white\",\"ticks\":\"\",\"title\":{\"standoff\":15},\"zerolinecolor\":\"white\",\"automargin\":true,\"zerolinewidth\":2},\"yaxis\":{\"gridcolor\":\"white\",\"linecolor\":\"white\",\"ticks\":\"\",\"title\":{\"standoff\":15},\"zerolinecolor\":\"white\",\"automargin\":true,\"zerolinewidth\":2},\"scene\":{\"xaxis\":{\"backgroundcolor\":\"#E5ECF6\",\"gridcolor\":\"white\",\"linecolor\":\"white\",\"showbackground\":true,\"ticks\":\"\",\"zerolinecolor\":\"white\",\"gridwidth\":2},\"yaxis\":{\"backgroundcolor\":\"#E5ECF6\",\"gridcolor\":\"white\",\"linecolor\":\"white\",\"showbackground\":true,\"ticks\":\"\",\"zerolinecolor\":\"white\",\"gridwidth\":2},\"zaxis\":{\"backgroundcolor\":\"#E5ECF6\",\"gridcolor\":\"white\",\"linecolor\":\"white\",\"showbackground\":true,\"ticks\":\"\",\"zerolinecolor\":\"white\",\"gridwidth\":2}},\"shapedefaults\":{\"line\":{\"color\":\"#2a3f5f\"}},\"annotationdefaults\":{\"arrowcolor\":\"#2a3f5f\",\"arrowhead\":0,\"arrowwidth\":1},\"geo\":{\"bgcolor\":\"white\",\"landcolor\":\"#E5ECF6\",\"subunitcolor\":\"white\",\"showland\":true,\"showlakes\":true,\"lakecolor\":\"white\"},\"title\":{\"x\":0.05},\"mapbox\":{\"style\":\"light\"}}},\"xaxis\":{\"anchor\":\"y\",\"domain\":[0.0,0.235],\"title\":{\"text\":\"Pollution\"}},\"yaxis\":{\"anchor\":\"x\",\"domain\":[0.0,1.0],\"title\":{\"text\":\"GDP (in USD)\"}},\"xaxis2\":{\"anchor\":\"y2\",\"domain\":[0.255,0.49],\"matches\":\"x\",\"title\":{\"text\":\"Pollution\"}},\"yaxis2\":{\"anchor\":\"x2\",\"domain\":[0.0,1.0],\"matches\":\"y\",\"showticklabels\":false},\"xaxis3\":{\"anchor\":\"y3\",\"domain\":[0.51,0.745],\"matches\":\"x\",\"title\":{\"text\":\"Pollution\"}},\"yaxis3\":{\"anchor\":\"x3\",\"domain\":[0.0,1.0],\"matches\":\"y\",\"showticklabels\":false},\"xaxis4\":{\"anchor\":\"y4\",\"domain\":[0.7649999999999999,0.9999999999999999],\"matches\":\"x\",\"title\":{\"text\":\"Pollution\"}},\"yaxis4\":{\"anchor\":\"x4\",\"domain\":[0.0,1.0],\"matches\":\"y\",\"showticklabels\":false},\"annotations\":[{\"font\":{},\"showarrow\":false,\"text\":\"Continent=North America\",\"x\":0.1175,\"xanchor\":\"center\",\"xref\":\"paper\",\"y\":1.0,\"yanchor\":\"bottom\",\"yref\":\"paper\"},{\"font\":{},\"showarrow\":false,\"text\":\"Continent=Asia\",\"x\":0.3725,\"xanchor\":\"center\",\"xref\":\"paper\",\"y\":1.0,\"yanchor\":\"bottom\",\"yref\":\"paper\"},{\"font\":{},\"showarrow\":false,\"text\":\"Continent=Europe\",\"x\":0.6275,\"xanchor\":\"center\",\"xref\":\"paper\",\"y\":1.0,\"yanchor\":\"bottom\",\"yref\":\"paper\"},{\"font\":{},\"showarrow\":false,\"text\":\"Continent=South America\",\"x\":0.8824999999999998,\"xanchor\":\"center\",\"xref\":\"paper\",\"y\":1.0,\"yanchor\":\"bottom\",\"yref\":\"paper\"}],\"coloraxis\":{\"colorbar\":{\"title\":{\"text\":\"Temp_Anomaly\"}},\"colorscale\":[[0.0,\"#0d0887\"],[0.1111111111111111,\"#46039f\"],[0.2222222222222222,\"#7201a8\"],[0.3333333333333333,\"#9c179e\"],[0.4444444444444444,\"#bd3786\"],[0.5555555555555556,\"#d8576b\"],[0.6666666666666666,\"#ed7953\"],[0.7777777777777778,\"#fb9f3a\"],[0.8888888888888888,\"#fdca26\"],[1.0,\"#f0f921\"]]},\"legend\":{\"tracegroupgap\":0},\"title\":{\"text\":\"🌍 GDP vs Pollution by Continent (Colored by Temp Anomaly) with Trendlines\",\"font\":{\"size\":20}},\"height\":700,\"width\":1200,\"updatemenus\":[{\"buttons\":[{\"args\":[{\"visible\":[true,false,false,false,false,false,false,false,false,false,false,true,false,false,false,false,false,false,false,false,false,false,true,false,false,false,false,false,false,false,false,false,false,true,false,false,false,false,false,false,false,false,false,false,true,false,false,false,false,false,false,false,false,false,false]},{\"title\":\"GDP vs Pollution by Continent - Year: 2010\"}],\"label\":\"2010\",\"method\":\"update\"},{\"args\":[{\"visible\":[false,true,false,false,false,false,false,false,false,false,false,false,true,false,false,false,false,false,false,false,false,false,false,true,false,false,false,false,false,false,false,false,false,false,true,false,false,false,false,false,false,false,false,false,false,true,false,false,false,false,false,false,false,false,false]},{\"title\":\"GDP vs Pollution by Continent - Year: 2011\"}],\"label\":\"2011\",\"method\":\"update\"},{\"args\":[{\"visible\":[false,false,true,false,false,false,false,false,false,false,false,false,false,true,false,false,false,false,false,false,false,false,false,false,true,false,false,false,false,false,false,false,false,false,false,true,false,false,false,false,false,false,false,false,false,false,true,false,false,false,false,false,false,false,false]},{\"title\":\"GDP vs Pollution by Continent - Year: 2012\"}],\"label\":\"2012\",\"method\":\"update\"},{\"args\":[{\"visible\":[false,false,false,true,false,false,false,false,false,false,false,false,false,false,true,false,false,false,false,false,false,false,false,false,false,true,false,false,false,false,false,false,false,false,false,false,true,false,false,false,false,false,false,false,false,false,false,true,false,false,false,false,false,false,false]},{\"title\":\"GDP vs Pollution by Continent - Year: 2013\"}],\"label\":\"2013\",\"method\":\"update\"},{\"args\":[{\"visible\":[false,false,false,false,true,false,false,false,false,false,false,false,false,false,false,true,false,false,false,false,false,false,false,false,false,false,true,false,false,false,false,false,false,false,false,false,false,true,false,false,false,false,false,false,false,false,false,false,true,false,false,false,false,false,false]},{\"title\":\"GDP vs Pollution by Continent - Year: 2014\"}],\"label\":\"2014\",\"method\":\"update\"},{\"args\":[{\"visible\":[false,false,false,false,false,true,false,false,false,false,false,false,false,false,false,false,true,false,false,false,false,false,false,false,false,false,false,true,false,false,false,false,false,false,false,false,false,false,true,false,false,false,false,false,false,false,false,false,false,true,false,false,false,false,false]},{\"title\":\"GDP vs Pollution by Continent - Year: 2015\"}],\"label\":\"2015\",\"method\":\"update\"},{\"args\":[{\"visible\":[false,false,false,false,false,false,true,false,false,false,false,false,false,false,false,false,false,true,false,false,false,false,false,false,false,false,false,false,true,false,false,false,false,false,false,false,false,false,false,true,false,false,false,false,false,false,false,false,false,false,true,false,false,false,false]},{\"title\":\"GDP vs Pollution by Continent - Year: 2016\"}],\"label\":\"2016\",\"method\":\"update\"},{\"args\":[{\"visible\":[false,false,false,false,false,false,false,true,false,false,false,false,false,false,false,false,false,false,true,false,false,false,false,false,false,false,false,false,false,true,false,false,false,false,false,false,false,false,false,false,true,false,false,false,false,false,false,false,false,false,false,true,false,false,false]},{\"title\":\"GDP vs Pollution by Continent - Year: 2017\"}],\"label\":\"2017\",\"method\":\"update\"},{\"args\":[{\"visible\":[false,false,false,false,false,false,false,false,true,false,false,false,false,false,false,false,false,false,false,true,false,false,false,false,false,false,false,false,false,false,true,false,false,false,false,false,false,false,false,false,false,true,false,false,false,false,false,false,false,false,false,false,true,false,false]},{\"title\":\"GDP vs Pollution by Continent - Year: 2018\"}],\"label\":\"2018\",\"method\":\"update\"},{\"args\":[{\"visible\":[false,false,false,false,false,false,false,false,false,true,false,false,false,false,false,false,false,false,false,false,true,false,false,false,false,false,false,false,false,false,false,true,false,false,false,false,false,false,false,false,false,false,true,false,false,false,false,false,false,false,false,false,false,true,false]},{\"title\":\"GDP vs Pollution by Continent - Year: 2019\"}],\"label\":\"2019\",\"method\":\"update\"},{\"args\":[{\"visible\":[false,false,false,false,false,false,false,false,false,false,true,false,false,false,false,false,false,false,false,false,false,true,false,false,false,false,false,false,false,false,false,false,true,false,false,false,false,false,false,false,false,false,false,true,false,false,false,false,false,false,false,false,false,false,true]},{\"title\":\"GDP vs Pollution by Continent - Year: 2020\"}],\"label\":\"2020\",\"method\":\"update\"}],\"direction\":\"down\",\"showactive\":true,\"x\":1.1,\"xanchor\":\"left\",\"y\":1.05,\"yanchor\":\"top\"}]},                        {\"responsive\": true}                    ).then(function(){\n",
              "                            \n",
              "var gd = document.getElementById('352ab96e-f324-41bd-98e2-c580611909bc');\n",
              "var x = new MutationObserver(function (mutations, observer) {{\n",
              "        var display = window.getComputedStyle(gd).display;\n",
              "        if (!display || display === 'none') {{\n",
              "            console.log([gd, 'removed!']);\n",
              "            Plotly.purge(gd);\n",
              "            observer.disconnect();\n",
              "        }}\n",
              "}});\n",
              "\n",
              "// Listen for the removal of the full notebook cells\n",
              "var notebookContainer = gd.closest('#notebook-container');\n",
              "if (notebookContainer) {{\n",
              "    x.observe(notebookContainer, {childList: true});\n",
              "}}\n",
              "\n",
              "// Listen for the clearing of the current output cell\n",
              "var outputEl = gd.closest('.output');\n",
              "if (outputEl) {{\n",
              "    x.observe(outputEl, {childList: true});\n",
              "}}\n",
              "\n",
              "                        })                };                            </script>        </div>\n",
              "</body>\n",
              "</html>"
            ]
          },
          "metadata": {}
        }
      ]
    },
    {
      "cell_type": "markdown",
      "source": [
        "### Understanding the Chart\n",
        "\n",
        "- **Each dot** represents a **country in a specific year**, showing:\n",
        "  - **X-axis:** Level of Pollution\n",
        "  - **Y-axis:** GDP (in USD)\n",
        "  - **Color of the dot:** Temperature Anomaly (climate variation)\n",
        "  - **Tooltip (on hover):** Country name and exact values\n",
        "\n",
        "- **Each subplot** shows data for one **Continent**.\n",
        "\n",
        "- **The black trendline** in each subplot:\n",
        "  - Is a **regression line** fitted to the dots.\n",
        "  - Only appears if **two or more countries** have data for that year in that continent.\n",
        "  - Its **slope tells the story**:\n",
        "    - **Positive slope:** GDP increases with pollution\n",
        "    - **Negative slope:** GDP decreases with pollution\n",
        "\n",
        "- Use the **dropdown on the right** to switch between years and observe how the relationship between **GDP, Pollution, and Temperature Anomaly** changes over time.\n",
        "\n",
        "> **Note:** No trendline appears in some panels if there's not enough data for that year in that continent."
      ],
      "metadata": {
        "id": "sVNWIrk62QPl"
      }
    },
    {
      "cell_type": "markdown",
      "source": [],
      "metadata": {
        "id": "D9AEg7id2a6a"
      }
    }
  ]
}