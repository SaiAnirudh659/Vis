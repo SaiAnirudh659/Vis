{
  "nbformat": 4,
  "nbformat_minor": 0,
  "metadata": {
    "colab": {
      "provenance": [],
      "authorship_tag": "ABX9TyOsXcxbVbyIQxCxeRGg1sm7",
      "include_colab_link": true
    },
    "kernelspec": {
      "name": "python3",
      "display_name": "Python 3"
    },
    "language_info": {
      "name": "python"
    }
  },
  "cells": [
    {
      "cell_type": "markdown",
      "metadata": {
        "id": "view-in-github",
        "colab_type": "text"
      },
      "source": [
        "<a href=\"https://colab.research.google.com/github/SaiAnirudh659/Vis/blob/main/ps0.ipynb\" target=\"_parent\"><img src=\"https://colab.research.google.com/assets/colab-badge.svg\" alt=\"Open In Colab\"/></a>"
      ]
    },
    {
      "cell_type": "markdown",
      "source": [
        "**Step 1: Load Libraries in Python**"
      ],
      "metadata": {
        "id": "UUpg8WswaW5e"
      }
    },
    {
      "cell_type": "markdown",
      "source": [
        "**1.1 Load Libraries in Python**"
      ],
      "metadata": {
        "id": "LP4Zuznia8p3"
      }
    },
    {
      "cell_type": "code",
      "execution_count": 1,
      "metadata": {
        "id": "OU3pDvbTaTix"
      },
      "outputs": [],
      "source": [
        "import pandas as pd\n",
        "import matplotlib.pyplot as plt\n",
        "import seaborn as sns"
      ]
    },
    {
      "cell_type": "markdown",
      "source": [
        "**1.2 Load Your Datasets**"
      ],
      "metadata": {
        "id": "0HnLQ-P1av1S"
      }
    },
    {
      "cell_type": "code",
      "source": [
        "df1 = pd.read_csv('/content/Billionaires Statistics Dataset.csv')\n",
        "df2 = pd.read_csv('/content/data.csv')"
      ],
      "metadata": {
        "id": "oKzs1aRsabKr"
      },
      "execution_count": 2,
      "outputs": []
    },
    {
      "cell_type": "markdown",
      "source": [
        "**1.3 Explore Data**"
      ],
      "metadata": {
        "id": "wMj6eeSXayEy"
      }
    },
    {
      "cell_type": "code",
      "source": [
        "#for first few rows\n",
        "\n",
        "print(df1.head())\n",
        "print(df2.head())"
      ],
      "metadata": {
        "colab": {
          "base_uri": "https://localhost:8080/"
        },
        "id": "9D4iRDbjar9m",
        "outputId": "3aedabd1-cec5-4ff8-82bf-cbc2c2023433"
      },
      "execution_count": 5,
      "outputs": [
        {
          "output_type": "stream",
          "name": "stdout",
          "text": [
            "   rank  finalWorth               category                personName   age  \\\n",
            "0     1      211000       Fashion & Retail  Bernard Arnault & family  74.0   \n",
            "1     2      180000             Automotive                 Elon Musk  51.0   \n",
            "2     3      114000             Technology                Jeff Bezos  59.0   \n",
            "3     4      107000             Technology             Larry Ellison  78.0   \n",
            "4     5      106000  Finance & Investments            Warren Buffett  92.0   \n",
            "\n",
            "         country    city              source             industries  \\\n",
            "0         France   Paris                LVMH       Fashion & Retail   \n",
            "1  United States  Austin       Tesla, SpaceX             Automotive   \n",
            "2  United States  Medina              Amazon             Technology   \n",
            "3  United States   Lanai              Oracle             Technology   \n",
            "4  United States   Omaha  Berkshire Hathaway  Finance & Investments   \n",
            "\n",
            "  countryOfCitizenship  ... cpi_change_country           gdp_country  \\\n",
            "0               France  ...                1.1   $2,715,518,274,227    \n",
            "1        United States  ...                7.5  $21,427,700,000,000    \n",
            "2        United States  ...                7.5  $21,427,700,000,000    \n",
            "3        United States  ...                7.5  $21,427,700,000,000    \n",
            "4        United States  ...                7.5  $21,427,700,000,000    \n",
            "\n",
            "  gross_tertiary_education_enrollment  \\\n",
            "0                                65.6   \n",
            "1                                88.2   \n",
            "2                                88.2   \n",
            "3                                88.2   \n",
            "4                                88.2   \n",
            "\n",
            "  gross_primary_education_enrollment_country life_expectancy_country  \\\n",
            "0                                      102.5                    82.5   \n",
            "1                                      101.8                    78.5   \n",
            "2                                      101.8                    78.5   \n",
            "3                                      101.8                    78.5   \n",
            "4                                      101.8                    78.5   \n",
            "\n",
            "  tax_revenue_country_country total_tax_rate_country population_country  \\\n",
            "0                        24.2                   60.7         67059887.0   \n",
            "1                         9.6                   36.6        328239523.0   \n",
            "2                         9.6                   36.6        328239523.0   \n",
            "3                         9.6                   36.6        328239523.0   \n",
            "4                         9.6                   36.6        328239523.0   \n",
            "\n",
            "  latitude_country longitude_country  \n",
            "0        46.227638          2.213749  \n",
            "1        37.090240        -95.712891  \n",
            "2        37.090240        -95.712891  \n",
            "3        37.090240        -95.712891  \n",
            "4        37.090240        -95.712891  \n",
            "\n",
            "[5 rows x 35 columns]\n",
            "   age          workclass  fnlwgt   education  education-num  \\\n",
            "0   39          State-gov   77516   Bachelors             13   \n",
            "1   50   Self-emp-not-inc   83311   Bachelors             13   \n",
            "2   38            Private  215646     HS-grad              9   \n",
            "3   53            Private  234721        11th              7   \n",
            "4   28            Private  338409   Bachelors             13   \n",
            "\n",
            "        marital-status          occupation    relationship    race      sex  \\\n",
            "0        Never-married        Adm-clerical   Not-in-family   White     Male   \n",
            "1   Married-civ-spouse     Exec-managerial         Husband   White     Male   \n",
            "2             Divorced   Handlers-cleaners   Not-in-family   White     Male   \n",
            "3   Married-civ-spouse   Handlers-cleaners         Husband   Black     Male   \n",
            "4   Married-civ-spouse      Prof-specialty            Wife   Black   Female   \n",
            "\n",
            "   capital-gain  capital-loss  hours-per-week         country  salary  \n",
            "0          2174             0              40   United-States       0  \n",
            "1             0             0              13   United-States       0  \n",
            "2             0             0              40   United-States       0  \n",
            "3             0             0              40   United-States       0  \n",
            "4             0             0              40            Cuba       0  \n"
          ]
        }
      ]
    },
    {
      "cell_type": "code",
      "source": [
        "# for first few columns\n",
        "\n",
        "print(df1.columns)\n",
        "print(df2.columns)"
      ],
      "metadata": {
        "colab": {
          "base_uri": "https://localhost:8080/"
        },
        "id": "_y7rDnfKbKjp",
        "outputId": "9a7581fe-db52-4f32-c5df-8d8f243cdfc2"
      },
      "execution_count": 6,
      "outputs": [
        {
          "output_type": "stream",
          "name": "stdout",
          "text": [
            "Index(['rank', 'finalWorth', 'category', 'personName', 'age', 'country',\n",
            "       'city', 'source', 'industries', 'countryOfCitizenship', 'organization',\n",
            "       'selfMade', 'status', 'gender', 'birthDate', 'lastName', 'firstName',\n",
            "       'title', 'date', 'state', 'residenceStateRegion', 'birthYear',\n",
            "       'birthMonth', 'birthDay', 'cpi_country', 'cpi_change_country',\n",
            "       'gdp_country', 'gross_tertiary_education_enrollment',\n",
            "       'gross_primary_education_enrollment_country', 'life_expectancy_country',\n",
            "       'tax_revenue_country_country', 'total_tax_rate_country',\n",
            "       'population_country', 'latitude_country', 'longitude_country'],\n",
            "      dtype='object')\n",
            "Index(['age', 'workclass', 'fnlwgt', 'education', 'education-num',\n",
            "       'marital-status', 'occupation', 'relationship', 'race', 'sex',\n",
            "       'capital-gain', 'capital-loss', 'hours-per-week', 'country', 'salary'],\n",
            "      dtype='object')\n"
          ]
        }
      ]
    },
    {
      "cell_type": "markdown",
      "source": [
        "**Step 2: Data Cleaning & Preprocessing**"
      ],
      "metadata": {
        "id": "zmUeXxrwboXk"
      }
    },
    {
      "cell_type": "markdown",
      "source": [
        "**2.1 Check for Missing Values**"
      ],
      "metadata": {
        "id": "ayn3Z5Q3bvG0"
      }
    },
    {
      "cell_type": "code",
      "source": [
        "print(df1.isnull().sum())\n",
        "print(df2.isnull().sum())"
      ],
      "metadata": {
        "colab": {
          "base_uri": "https://localhost:8080/"
        },
        "id": "ugQnj8u-bRXB",
        "outputId": "4155c066-f96e-4323-f457-e87cd03ef6b5"
      },
      "execution_count": 7,
      "outputs": [
        {
          "output_type": "stream",
          "name": "stdout",
          "text": [
            "rank                                             0\n",
            "finalWorth                                       0\n",
            "category                                         0\n",
            "personName                                       0\n",
            "age                                             65\n",
            "country                                         38\n",
            "city                                            72\n",
            "source                                           0\n",
            "industries                                       0\n",
            "countryOfCitizenship                             0\n",
            "organization                                  2315\n",
            "selfMade                                         0\n",
            "status                                           0\n",
            "gender                                           0\n",
            "birthDate                                       76\n",
            "lastName                                         0\n",
            "firstName                                        3\n",
            "title                                         2301\n",
            "date                                             0\n",
            "state                                         1887\n",
            "residenceStateRegion                          1893\n",
            "birthYear                                       76\n",
            "birthMonth                                      76\n",
            "birthDay                                        76\n",
            "cpi_country                                    184\n",
            "cpi_change_country                             184\n",
            "gdp_country                                    164\n",
            "gross_tertiary_education_enrollment            182\n",
            "gross_primary_education_enrollment_country     181\n",
            "life_expectancy_country                        182\n",
            "tax_revenue_country_country                    183\n",
            "total_tax_rate_country                         182\n",
            "population_country                             164\n",
            "latitude_country                               164\n",
            "longitude_country                              164\n",
            "dtype: int64\n",
            "age               0\n",
            "workclass         0\n",
            "fnlwgt            0\n",
            "education         0\n",
            "education-num     0\n",
            "marital-status    0\n",
            "occupation        0\n",
            "relationship      0\n",
            "race              0\n",
            "sex               0\n",
            "capital-gain      0\n",
            "capital-loss      0\n",
            "hours-per-week    0\n",
            "country           0\n",
            "salary            0\n",
            "dtype: int64\n"
          ]
        }
      ]
    },
    {
      "cell_type": "markdown",
      "source": [
        "**2.2 Drop Unnecessary Columns**"
      ],
      "metadata": {
        "id": "MyDXxsETb4Kg"
      }
    },
    {
      "cell_type": "code",
      "source": [
        "print(df1.columns)"
      ],
      "metadata": {
        "colab": {
          "base_uri": "https://localhost:8080/"
        },
        "id": "yEzAeVhQeV2c",
        "outputId": "97cd5256-50cb-4fa7-b19d-1e1c667cc3ba"
      },
      "execution_count": 12,
      "outputs": [
        {
          "output_type": "stream",
          "name": "stdout",
          "text": [
            "Index(['rank', 'finalWorth', 'category', 'personName', 'age', 'country',\n",
            "       'city', 'source', 'industries', 'countryOfCitizenship', 'organization',\n",
            "       'selfMade', 'status', 'gender', 'birthDate', 'lastName', 'firstName',\n",
            "       'title', 'date', 'state', 'residenceStateRegion', 'birthYear',\n",
            "       'birthMonth', 'birthDay', 'cpi_country', 'cpi_change_country',\n",
            "       'gdp_country', 'gross_tertiary_education_enrollment',\n",
            "       'gross_primary_education_enrollment_country', 'life_expectancy_country',\n",
            "       'tax_revenue_country_country', 'total_tax_rate_country',\n",
            "       'population_country', 'latitude_country', 'longitude_country'],\n",
            "      dtype='object')\n"
          ]
        }
      ]
    },
    {
      "cell_type": "code",
      "source": [
        "df1 = df1[['rank', 'finalWorth', 'category', 'personName', 'source']]"
      ],
      "metadata": {
        "id": "rJBq-v8TbzEA"
      },
      "execution_count": 13,
      "outputs": []
    },
    {
      "cell_type": "code",
      "source": [
        "print(df1.columns)"
      ],
      "metadata": {
        "colab": {
          "base_uri": "https://localhost:8080/"
        },
        "id": "_fBYJnYqb8Nr",
        "outputId": "0bccb5de-cd46-4a99-957a-ab8729f96526"
      },
      "execution_count": 17,
      "outputs": [
        {
          "output_type": "stream",
          "name": "stdout",
          "text": [
            "Index(['rank', 'finalWorth', 'category', 'personName', 'source'], dtype='object')\n"
          ]
        }
      ]
    },
    {
      "cell_type": "code",
      "source": [
        "print(df1.isnull().sum())\n",
        "print(df2.isnull().sum())"
      ],
      "metadata": {
        "colab": {
          "base_uri": "https://localhost:8080/"
        },
        "id": "lKsuJnuofv4y",
        "outputId": "37aafcf5-d750-4255-b434-a6c907d62531"
      },
      "execution_count": 18,
      "outputs": [
        {
          "output_type": "stream",
          "name": "stdout",
          "text": [
            "rank          0\n",
            "finalWorth    0\n",
            "category      0\n",
            "personName    0\n",
            "source        0\n",
            "dtype: int64\n",
            "age               0\n",
            "workclass         0\n",
            "fnlwgt            0\n",
            "education         0\n",
            "education-num     0\n",
            "marital-status    0\n",
            "occupation        0\n",
            "relationship      0\n",
            "race              0\n",
            "sex               0\n",
            "capital-gain      0\n",
            "capital-loss      0\n",
            "hours-per-week    0\n",
            "country           0\n",
            "salary            0\n",
            "dtype: int64\n"
          ]
        }
      ]
    },
    {
      "cell_type": "markdown",
      "source": [
        "**Step 3: Descriptive Statistics**"
      ],
      "metadata": {
        "id": "nDJBNb7qgP9X"
      }
    },
    {
      "cell_type": "markdown",
      "source": [
        "**3.1 Compute Summary Statistics**"
      ],
      "metadata": {
        "id": "4Z73-KeVgT_c"
      }
    },
    {
      "cell_type": "code",
      "source": [
        "print(df1.describe())\n",
        "print(df2.describe())"
      ],
      "metadata": {
        "colab": {
          "base_uri": "https://localhost:8080/"
        },
        "id": "WF67DxtTgKDb",
        "outputId": "ad948b98-c3a3-4573-c705-992228300d33"
      },
      "execution_count": 19,
      "outputs": [
        {
          "output_type": "stream",
          "name": "stdout",
          "text": [
            "              rank     finalWorth\n",
            "count  2640.000000    2640.000000\n",
            "mean   1289.159091    4623.787879\n",
            "std     739.693726    9834.240939\n",
            "min       1.000000    1000.000000\n",
            "25%     659.000000    1500.000000\n",
            "50%    1312.000000    2300.000000\n",
            "75%    1905.000000    4200.000000\n",
            "max    2540.000000  211000.000000\n",
            "                age        fnlwgt  education-num  capital-gain  capital-loss  \\\n",
            "count  32561.000000  3.256100e+04   32561.000000  32561.000000  32561.000000   \n",
            "mean      38.581647  1.897784e+05      10.080679   1077.648844     87.303830   \n",
            "std       13.640433  1.055500e+05       2.572720   7385.292085    402.960219   \n",
            "min       17.000000  1.228500e+04       1.000000      0.000000      0.000000   \n",
            "25%       28.000000  1.178270e+05       9.000000      0.000000      0.000000   \n",
            "50%       37.000000  1.783560e+05      10.000000      0.000000      0.000000   \n",
            "75%       48.000000  2.370510e+05      12.000000      0.000000      0.000000   \n",
            "max       90.000000  1.484705e+06      16.000000  99999.000000   4356.000000   \n",
            "\n",
            "       hours-per-week        salary  \n",
            "count    32561.000000  32561.000000  \n",
            "mean        40.437456      0.240810  \n",
            "std         12.347429      0.427581  \n",
            "min          1.000000      0.000000  \n",
            "25%         40.000000      0.000000  \n",
            "50%         40.000000      0.000000  \n",
            "75%         45.000000      0.000000  \n",
            "max         99.000000      1.000000  \n"
          ]
        }
      ]
    },
    {
      "cell_type": "markdown",
      "source": [
        "**3.2 Find Top Countries with Most Billionaires**"
      ],
      "metadata": {
        "id": "HPhcF0dggYu1"
      }
    },
    {
      "cell_type": "code",
      "source": [
        "# Check if 'Country' or a similar column exists in df2\n",
        "print(df2.columns)"
      ],
      "metadata": {
        "colab": {
          "base_uri": "https://localhost:8080/"
        },
        "id": "xCcjB-5zgXsx",
        "outputId": "f939ce69-6c8c-4fd3-a507-d367cf9c8d84"
      },
      "execution_count": 27,
      "outputs": [
        {
          "output_type": "stream",
          "name": "stdout",
          "text": [
            "Index(['age', 'workclass', 'fnlwgt', 'education', 'education-num',\n",
            "       'marital-status', 'occupation', 'relationship', 'race', 'sex',\n",
            "       'capital-gain', 'capital-loss', 'hours-per-week', 'country', 'salary'],\n",
            "      dtype='object')\n"
          ]
        }
      ]
    },
    {
      "cell_type": "code",
      "source": [
        "print(df1.columns.tolist())"
      ],
      "metadata": {
        "colab": {
          "base_uri": "https://localhost:8080/"
        },
        "id": "sEES_cu_iRFe",
        "outputId": "5798d348-aeda-46eb-84db-f7a33992c10b"
      },
      "execution_count": 28,
      "outputs": [
        {
          "output_type": "stream",
          "name": "stdout",
          "text": [
            "['rank', 'finalWorth', 'category', 'personName', 'source']\n"
          ]
        }
      ]
    },
    {
      "cell_type": "code",
      "source": [
        "df1.columns = df1.columns.str.strip()"
      ],
      "metadata": {
        "id": "oSy3aKvqiV4h"
      },
      "execution_count": 29,
      "outputs": []
    },
    {
      "cell_type": "code",
      "source": [
        "print(df1.columns.tolist())\n",
        "print(df2.columns.tolist())"
      ],
      "metadata": {
        "colab": {
          "base_uri": "https://localhost:8080/"
        },
        "id": "L5vF4rMMiZoG",
        "outputId": "368cac7a-3e60-447c-aca7-b7be3802446a"
      },
      "execution_count": 30,
      "outputs": [
        {
          "output_type": "stream",
          "name": "stdout",
          "text": [
            "['rank', 'finalWorth', 'category', 'personName', 'source']\n",
            "['age', 'workclass', 'fnlwgt', 'education', 'education-num', 'marital-status', 'occupation', 'relationship', 'race', 'sex', 'capital-gain', 'capital-loss', 'hours-per-week', 'country', 'salary']\n"
          ]
        }
      ]
    },
    {
      "cell_type": "code",
      "source": [
        "df1 = pd.read_csv(\"/content/Billionaires Statistics Dataset.csv\")\n",
        "print(df1.head())"
      ],
      "metadata": {
        "colab": {
          "base_uri": "https://localhost:8080/"
        },
        "id": "ZRkaCKIziiGC",
        "outputId": "08f79bc7-311a-4887-caf4-5cf4df6d0b78"
      },
      "execution_count": 31,
      "outputs": [
        {
          "output_type": "stream",
          "name": "stdout",
          "text": [
            "   rank  finalWorth               category                personName   age  \\\n",
            "0     1      211000       Fashion & Retail  Bernard Arnault & family  74.0   \n",
            "1     2      180000             Automotive                 Elon Musk  51.0   \n",
            "2     3      114000             Technology                Jeff Bezos  59.0   \n",
            "3     4      107000             Technology             Larry Ellison  78.0   \n",
            "4     5      106000  Finance & Investments            Warren Buffett  92.0   \n",
            "\n",
            "         country    city              source             industries  \\\n",
            "0         France   Paris                LVMH       Fashion & Retail   \n",
            "1  United States  Austin       Tesla, SpaceX             Automotive   \n",
            "2  United States  Medina              Amazon             Technology   \n",
            "3  United States   Lanai              Oracle             Technology   \n",
            "4  United States   Omaha  Berkshire Hathaway  Finance & Investments   \n",
            "\n",
            "  countryOfCitizenship  ... cpi_change_country           gdp_country  \\\n",
            "0               France  ...                1.1   $2,715,518,274,227    \n",
            "1        United States  ...                7.5  $21,427,700,000,000    \n",
            "2        United States  ...                7.5  $21,427,700,000,000    \n",
            "3        United States  ...                7.5  $21,427,700,000,000    \n",
            "4        United States  ...                7.5  $21,427,700,000,000    \n",
            "\n",
            "  gross_tertiary_education_enrollment  \\\n",
            "0                                65.6   \n",
            "1                                88.2   \n",
            "2                                88.2   \n",
            "3                                88.2   \n",
            "4                                88.2   \n",
            "\n",
            "  gross_primary_education_enrollment_country life_expectancy_country  \\\n",
            "0                                      102.5                    82.5   \n",
            "1                                      101.8                    78.5   \n",
            "2                                      101.8                    78.5   \n",
            "3                                      101.8                    78.5   \n",
            "4                                      101.8                    78.5   \n",
            "\n",
            "  tax_revenue_country_country total_tax_rate_country population_country  \\\n",
            "0                        24.2                   60.7         67059887.0   \n",
            "1                         9.6                   36.6        328239523.0   \n",
            "2                         9.6                   36.6        328239523.0   \n",
            "3                         9.6                   36.6        328239523.0   \n",
            "4                         9.6                   36.6        328239523.0   \n",
            "\n",
            "  latitude_country longitude_country  \n",
            "0        46.227638          2.213749  \n",
            "1        37.090240        -95.712891  \n",
            "2        37.090240        -95.712891  \n",
            "3        37.090240        -95.712891  \n",
            "4        37.090240        -95.712891  \n",
            "\n",
            "[5 rows x 35 columns]\n"
          ]
        }
      ]
    },
    {
      "cell_type": "code",
      "source": [
        "df1.rename(columns=lambda x: x.strip().lower(), inplace=True)"
      ],
      "metadata": {
        "id": "DsChVnYfin2P"
      },
      "execution_count": 32,
      "outputs": []
    },
    {
      "cell_type": "code",
      "source": [
        "top_countries = df1['country'].value_counts().head(10)"
      ],
      "metadata": {
        "id": "A2BLNJkvir3i"
      },
      "execution_count": 33,
      "outputs": []
    },
    {
      "cell_type": "code",
      "source": [
        "industry_counts = df1['industries'].value_counts()\n",
        "print(industry_counts)"
      ],
      "metadata": {
        "colab": {
          "base_uri": "https://localhost:8080/"
        },
        "id": "u93qis1EixvB",
        "outputId": "b1ab9411-dcc3-49f2-d2ee-3b3aaa57ce76"
      },
      "execution_count": 36,
      "outputs": [
        {
          "output_type": "stream",
          "name": "stdout",
          "text": [
            "industries\n",
            "Finance & Investments         372\n",
            "Manufacturing                 324\n",
            "Technology                    314\n",
            "Fashion & Retail              266\n",
            "Food & Beverage               212\n",
            "Healthcare                    201\n",
            "Real Estate                   193\n",
            "Diversified                   187\n",
            "Energy                        100\n",
            "Media & Entertainment          91\n",
            "Metals & Mining                74\n",
            "Automotive                     73\n",
            "Service                        53\n",
            "Construction & Engineering     45\n",
            "Logistics                      40\n",
            "Sports                         39\n",
            "Telecom                        31\n",
            "Gambling & Casinos             25\n",
            "Name: count, dtype: int64\n"
          ]
        }
      ]
    },
    {
      "cell_type": "markdown",
      "source": [
        "**Step 4: Data Visualization**"
      ],
      "metadata": {
        "id": "jwUMbcLSjRDh"
      }
    },
    {
      "cell_type": "markdown",
      "source": [
        "**4.1 Plot Distribution of Billionaires by Country**"
      ],
      "metadata": {
        "id": "kHU3TO3QjT3d"
      }
    },
    {
      "cell_type": "code",
      "source": [
        "plt.figure(figsize=(12,6))\n",
        "sns.barplot(x=top_countries.index, y=top_countries.values)\n",
        "plt.xticks(rotation=45)\n",
        "plt.title(\"Top 10 Countries with Most Billionaires\")\n",
        "plt.show()"
      ],
      "metadata": {
        "colab": {
          "base_uri": "https://localhost:8080/",
          "height": 572
        },
        "id": "IuiICDeojB16",
        "outputId": "393f941a-2cb4-4c17-98ec-481fc7c7df10"
      },
      "execution_count": 37,
      "outputs": [
        {
          "output_type": "display_data",
          "data": {
            "text/plain": [
              "<Figure size 1200x600 with 1 Axes>"
            ],
            "image/png": "[encoded data removed]"
          },
          "metadata": {}
        }
      ]
    },
    {
      "cell_type": "markdown",
      "source": [
        "**4.2 Plot Industry Distribution**"
      ],
      "metadata": {
        "id": "Dk6hy52njcmE"
      }
    },
    {
      "cell_type": "code",
      "source": [
        "plt.figure(figsize=(12,6))\n",
        "industry_counts[:10].plot(kind='bar')\n",
        "plt.title(\"Top 10 Industries with Most Billionaires\")\n",
        "plt.show()"
      ],
      "metadata": {
        "colab": {
          "base_uri": "https://localhost:8080/",
          "height": 634
        },
        "id": "s8IekkDmjZbf",
        "outputId": "725653a6-8220-4905-a15f-3c4c13870451"
      },
      "execution_count": 38,
      "outputs": [
        {
          "output_type": "display_data",
          "data": {
            "text/plain": [
              "<Figure size 1200x600 with 1 Axes>"
            ],
            "image/png": "[encoded data removed]"
          },
          "metadata": {}
        }
      ]
    },
    {
      "cell_type": "markdown",
      "source": [
        "**4.3 Age vs. Net Worth Scatter Plot**"
      ],
      "metadata": {
        "id": "trqSCiwKjiK1"
      }
    },
    {
      "cell_type": "code",
      "source": [
        "plt.figure(figsize=(10,5))\n",
        "# Assuming df1 contains 'age' and 'finalWorth' columns\n",
        "\n",
        "# Convert column names to lowercase for consistency\n",
        "df1.columns = df1.columns.str.lower()\n",
        "\n",
        "# Use the lowercase column name 'finalworth'\n",
        "sns.scatterplot(x=df1['age'], y=df1['finalworth'])\n",
        "plt.title(\"Age vs. Net Worth of Billionaires\")\n",
        "plt.xlabel(\"Age\")\n",
        "plt.ylabel(\"Net Worth\")\n",
        "plt.show()"
      ],
      "metadata": {
        "colab": {
          "base_uri": "https://localhost:8080/",
          "height": 492
        },
        "id": "X2DMbiwTkZBu",
        "outputId": "366e8a77-29f3-4321-90e4-27bc9829dc60"
      },
      "execution_count": 45,
      "outputs": [
        {
          "output_type": "display_data",
          "data": {
            "text/plain": [
              "<Figure size 1000x500 with 1 Axes>"
            ],
            "image/png": "[encoded data removed]"
          },
          "metadata": {}
        }
      ]
    },
    {
      "cell_type": "markdown",
      "source": [
        "**Step 5: Saving my Document to Work**"
      ],
      "metadata": {
        "id": "ps86nnKIklzx"
      }
    },
    {
      "cell_type": "markdown",
      "source": [
        "**5.1 Save Processed Data**"
      ],
      "metadata": {
        "id": "UOWMlGTHkuJ4"
      }
    },
    {
      "cell_type": "code",
      "source": [
        "import os\n",
        "\n",
        "# Create the directory if it doesn't exist\n",
        "os.makedirs('/mnt/data', exist_ok=True)\n",
        "\n",
        "# Now you can save the DataFrame\n",
        "df1.to_csv('/mnt/data/cleaned_billionaires.csv', index=False)"
      ],
      "metadata": {
        "id": "gLAHlvFwk4UH"
      },
      "execution_count": 47,
      "outputs": []
    },
    {
      "cell_type": "code",
      "source": [
        "from google.colab import auth\n",
        "auth.authenticate_user()\n",
        "\n",
        "!git config --global user.email \"kasarlasai235@gmail.com\"\n",
        "!git config --global user.name \"SaiAnirudh659\""
      ],
      "metadata": {
        "id": "hFCiyv89x2xJ"
      },
      "execution_count": 48,
      "outputs": []
    },
    {
      "cell_type": "code",
      "source": [
        "!git clone https://github.com/SaiAnirudh659/Vis"
      ],
      "metadata": {
        "colab": {
          "base_uri": "https://localhost:8080/"
        },
        "id": "rbRV4A4qx9O2",
        "outputId": "e62d890a-a3cd-4412-fa5c-5e8901588b28"
      },
      "execution_count": 49,
      "outputs": [
        {
          "output_type": "stream",
          "name": "stdout",
          "text": [
            "Cloning into 'Vis'...\n",
            "remote: Enumerating objects: 3, done.\u001b[K\n",
            "remote: Counting objects: 100% (3/3), done.\u001b[K\n",
            "remote: Total 3 (delta 0), reused 0 (delta 0), pack-reused 0 (from 0)\u001b[K\n",
            "Receiving objects: 100% (3/3), done.\n"
          ]
        }
      ]
    },
    {
      "cell_type": "code",
      "source": [
        "!mv /mnt/data/ps0.ipynb https://github.com/SaiAnirudh659/Vis/"
      ],
      "metadata": {
        "colab": {
          "base_uri": "https://localhost:8080/"
        },
        "id": "exoA1AZVyqYx",
        "outputId": "085216a3-6008-43a3-8869-b5e5179a4937"
      },
      "execution_count": 51,
      "outputs": [
        {
          "output_type": "stream",
          "name": "stdout",
          "text": [
            "mv: cannot stat '/mnt/data/ps0.ipynb': No such file or directory\n"
          ]
        }
      ]
    },
    {
      "cell_type": "code",
      "source": [
        "!ls /mnt/data/"
      ],
      "metadata": {
        "colab": {
          "base_uri": "https://localhost:8080/"
        },
        "id": "KJUOqU46zHG9",
        "outputId": "5d196def-d967-45fb-fc4f-bbf1d415bd98"
      },
      "execution_count": 52,
      "outputs": [
        {
          "output_type": "stream",
          "name": "stdout",
          "text": [
            "cleaned_billionaires.csv\n"
          ]
        }
      ]
    },
    {
      "cell_type": "code",
      "source": [],
      "metadata": {
        "id": "62U4GHsxzMsY"
      },
      "execution_count": null,
      "outputs": []
    }
  ]
}