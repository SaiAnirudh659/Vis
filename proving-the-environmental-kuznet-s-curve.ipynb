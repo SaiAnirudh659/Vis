{
 "cells": [
  {
   "cell_type": "markdown",
   "metadata": {},
   "source": [
    "# Exploring 'World Development Indicators' Dataset and finding the relationship between CO2 emissions per cpaita and GDP per capita for USA, India and China. \n",
    "\n",
    "> It is an important analysis for countries around the world to understand that their development has an environmental cost and to keep that in mind while planning their robust industrial and urban development projects. \n",
    "\n",
    "We will use the following indicators between the years **1960 - 2011**: \n",
    "* CO2 emissions (metric tons per capita)\n",
    "* GDP per capita (constant 2005 US$)\n",
    "\n",
    "Let's start the analysis! \n"
   ]
  },
  {
   "cell_type": "code",
   "execution_count": 1,
   "metadata": {
    "_cell_guid": "b1076dfc-b9ad-4769-8c92-a6c4dae69d19",
    "_uuid": "8f2839f25d086af736a60e9eeb907d3b93b6e0e5"
   },
   "outputs": [],
   "source": [
    "# Importing the important libraries for this case study\n",
    "%matplotlib inline\n",
    "import numpy as np # linear algebra\n",
    "import pandas as pd # data processing, CSV file I/O (e.g. pd.read_csv)\n",
    "import matplotlib.pyplot as plt \n",
    "\n",
    "import os\n",
    "#print(os.listdir(\"../input\"))\n"
   ]
  },
  {
   "cell_type": "code",
   "execution_count": 2,
   "metadata": {
    "_cell_guid": "79c7e3d0-c299-4dcb-8224-4455121ee9b0",
    "_uuid": "d629ff2d2480ee46fbb7e2d37f6b5fab8052498a"
   },
   "outputs": [],
   "source": [
    "# Importing Data from the indicators file\n",
    "data = pd.read_csv('../input/Indicators.csv')\n"
   ]
  },
  {
   "cell_type": "code",
   "execution_count": 3,
   "metadata": {},
   "outputs": [
    {
     "data": {
      "text/html": [
       "<div>\n",
       "<style scoped>\n",
       "    .dataframe tbody tr th:only-of-type {\n",
       "        vertical-align: middle;\n",
       "    }\n",
       "\n",
       "    .dataframe tbody tr th {\n",
       "        vertical-align: top;\n",
       "    }\n",
       "\n",
       "    .dataframe thead th {\n",
       "        text-align: right;\n",
       "    }\n",
       "</style>\n",
       "<table border=\"1\" class=\"dataframe\">\n",
       "  <thead>\n",
       "    <tr style=\"text-align: right;\">\n",
       "      <th></th>\n",
       "      <th>CountryName</th>\n",
       "      <th>CountryCode</th>\n",
       "      <th>IndicatorName</th>\n",
       "      <th>IndicatorCode</th>\n",
       "      <th>Year</th>\n",
       "      <th>Value</th>\n",
       "    </tr>\n",
       "  </thead>\n",
       "  <tbody>\n",
       "    <tr>\n",
       "      <th>0</th>\n",
       "      <td>Arab World</td>\n",
       "      <td>ARB</td>\n",
       "      <td>Adolescent fertility rate (births per 1,000 wo...</td>\n",
       "      <td>SP.ADO.TFRT</td>\n",
       "      <td>1960</td>\n",
       "      <td>1.335609e+02</td>\n",
       "    </tr>\n",
       "    <tr>\n",
       "      <th>1</th>\n",
       "      <td>Arab World</td>\n",
       "      <td>ARB</td>\n",
       "      <td>Age dependency ratio (% of working-age populat...</td>\n",
       "      <td>SP.POP.DPND</td>\n",
       "      <td>1960</td>\n",
       "      <td>8.779760e+01</td>\n",
       "    </tr>\n",
       "    <tr>\n",
       "      <th>2</th>\n",
       "      <td>Arab World</td>\n",
       "      <td>ARB</td>\n",
       "      <td>Age dependency ratio, old (% of working-age po...</td>\n",
       "      <td>SP.POP.DPND.OL</td>\n",
       "      <td>1960</td>\n",
       "      <td>6.634579e+00</td>\n",
       "    </tr>\n",
       "    <tr>\n",
       "      <th>3</th>\n",
       "      <td>Arab World</td>\n",
       "      <td>ARB</td>\n",
       "      <td>Age dependency ratio, young (% of working-age ...</td>\n",
       "      <td>SP.POP.DPND.YG</td>\n",
       "      <td>1960</td>\n",
       "      <td>8.102333e+01</td>\n",
       "    </tr>\n",
       "    <tr>\n",
       "      <th>4</th>\n",
       "      <td>Arab World</td>\n",
       "      <td>ARB</td>\n",
       "      <td>Arms exports (SIPRI trend indicator values)</td>\n",
       "      <td>MS.MIL.XPRT.KD</td>\n",
       "      <td>1960</td>\n",
       "      <td>3.000000e+06</td>\n",
       "    </tr>\n",
       "    <tr>\n",
       "      <th>5</th>\n",
       "      <td>Arab World</td>\n",
       "      <td>ARB</td>\n",
       "      <td>Arms imports (SIPRI trend indicator values)</td>\n",
       "      <td>MS.MIL.MPRT.KD</td>\n",
       "      <td>1960</td>\n",
       "      <td>5.380000e+08</td>\n",
       "    </tr>\n",
       "    <tr>\n",
       "      <th>6</th>\n",
       "      <td>Arab World</td>\n",
       "      <td>ARB</td>\n",
       "      <td>Birth rate, crude (per 1,000 people)</td>\n",
       "      <td>SP.DYN.CBRT.IN</td>\n",
       "      <td>1960</td>\n",
       "      <td>4.769789e+01</td>\n",
       "    </tr>\n",
       "    <tr>\n",
       "      <th>7</th>\n",
       "      <td>Arab World</td>\n",
       "      <td>ARB</td>\n",
       "      <td>CO2 emissions (kt)</td>\n",
       "      <td>EN.ATM.CO2E.KT</td>\n",
       "      <td>1960</td>\n",
       "      <td>5.956399e+04</td>\n",
       "    </tr>\n",
       "    <tr>\n",
       "      <th>8</th>\n",
       "      <td>Arab World</td>\n",
       "      <td>ARB</td>\n",
       "      <td>CO2 emissions (metric tons per capita)</td>\n",
       "      <td>EN.ATM.CO2E.PC</td>\n",
       "      <td>1960</td>\n",
       "      <td>6.439635e-01</td>\n",
       "    </tr>\n",
       "    <tr>\n",
       "      <th>9</th>\n",
       "      <td>Arab World</td>\n",
       "      <td>ARB</td>\n",
       "      <td>CO2 emissions from gaseous fuel consumption (%...</td>\n",
       "      <td>EN.ATM.CO2E.GF.ZS</td>\n",
       "      <td>1960</td>\n",
       "      <td>5.041292e+00</td>\n",
       "    </tr>\n",
       "  </tbody>\n",
       "</table>\n",
       "</div>"
      ],
      "text/plain": [
       "  CountryName CountryCode      ...       Year         Value\n",
       "0  Arab World         ARB      ...       1960  1.335609e+02\n",
       "1  Arab World         ARB      ...       1960  8.779760e+01\n",
       "2  Arab World         ARB      ...       1960  6.634579e+00\n",
       "3  Arab World         ARB      ...       1960  8.102333e+01\n",
       "4  Arab World         ARB      ...       1960  3.000000e+06\n",
       "5  Arab World         ARB      ...       1960  5.380000e+08\n",
       "6  Arab World         ARB      ...       1960  4.769789e+01\n",
       "7  Arab World         ARB      ...       1960  5.956399e+04\n",
       "8  Arab World         ARB      ...       1960  6.439635e-01\n",
       "9  Arab World         ARB      ...       1960  5.041292e+00\n",
       "\n",
       "[10 rows x 6 columns]"
      ]
     },
     "execution_count": 3,
     "metadata": {},
     "output_type": "execute_result"
    }
   ],
   "source": [
    "data.head(10)"
   ]
  },
  {
   "cell_type": "markdown",
   "metadata": {},
   "source": [
    "> ## Uniqueness and Other Factors\n",
    "The number of unique countries and country codes should be the same. At the same, we need to analyse the number of indicators. "
   ]
  },
  {
   "cell_type": "code",
   "execution_count": 4,
   "metadata": {},
   "outputs": [
    {
     "name": "stdout",
     "output_type": "stream",
     "text": [
      "Countries: 247\n",
      "Country Codes: 247\n",
      "Indicators: 1344\n"
     ]
    }
   ],
   "source": [
    "countries = data['CountryName'].unique().tolist()\n",
    "codes = data['CountryCode'].unique().tolist()\n",
    "indicators = data['IndicatorName'].unique().tolist()\n",
    "print(\"Countries: %d\" % (len(countries))) #Old method of printing\n",
    "print(\"Country Codes: {}\".format(len(codes)))\n",
    "print(\"Indicators: {}\".format(len(indicators)))"
   ]
  },
  {
   "cell_type": "markdown",
   "metadata": {},
   "source": [
    "    The number of years of data that we have in this data set and the time frame"
   ]
  },
  {
   "cell_type": "code",
   "execution_count": 5,
   "metadata": {},
   "outputs": [
    {
     "name": "stdout",
     "output_type": "stream",
     "text": [
      "56\n",
      "Data is available from 1960 to 2015\n"
     ]
    }
   ],
   "source": [
    "years = data['Year'].unique().tolist()\n",
    "print(len(years))\n",
    "print(\"Data is available from {} to {}\".format(min(years), max(years)))"
   ]
  },
  {
   "cell_type": "markdown",
   "metadata": {},
   "source": [
    "Let's look for any null values \n"
   ]
  },
  {
   "cell_type": "code",
   "execution_count": 6,
   "metadata": {},
   "outputs": [
    {
     "name": "stdout",
     "output_type": "stream",
     "text": [
      "False\n",
      "\n",
      "\n",
      "CountryName      0\n",
      "CountryCode      0\n",
      "IndicatorName    0\n",
      "IndicatorCode    0\n",
      "Year             0\n",
      "Value            0\n",
      "dtype: int64\n"
     ]
    }
   ],
   "source": [
    "print(data.isnull().any().any())\n",
    "print(\"\\n\")\n",
    "print(data.isnull().sum())"
   ]
  },
  {
   "cell_type": "markdown",
   "metadata": {},
   "source": [
    "### Preliminary Results: \n",
    "After preliminary examination, we find out that the number of countries is equal to the country codes. There is **no null** data and there are a lot of indicators to choose from. Howevever, our examination will refrain to only two major indicators to find out there correlation for India, China and USA. "
   ]
  },
  {
   "cell_type": "markdown",
   "metadata": {},
   "source": [
    "> ## Collecting First Indicator Data "
   ]
  },
  {
   "cell_type": "markdown",
   "metadata": {},
   "source": [
    "> Lets pick a country and an indicator to explore: CO2 Emissions per capita and the USA"
   ]
  },
  {
   "cell_type": "code",
   "execution_count": 7,
   "metadata": {},
   "outputs": [],
   "source": [
    "first_indicator = 'CO2 emissions \\(metric'\n",
    "country = 'USA'\n",
    "\n",
    "mask1 = data['IndicatorName'].str.contains(first_indicator) \n",
    "mask2 = data['CountryCode'].str.contains(country)\n",
    "\n",
    "# stage is just those indicators matching the USA for country code and CO2 emissions over time.\n",
    "stage_USA = data[mask1 & mask2]"
   ]
  },
  {
   "cell_type": "markdown",
   "metadata": {},
   "source": [
    "Let's plot the graph for CO2 emissions in USA to understand the trendline over years"
   ]
  },
  {
   "cell_type": "code",
   "execution_count": 8,
   "metadata": {},
   "outputs": [
    {
     "data": {
      "text/plain": [
       "[<matplotlib.lines.Line2D at 0x7f3043725d30>]"
      ]
     },
     "execution_count": 8,
     "metadata": {},
     "output_type": "execute_result"
    },
    {
     "data": {
      "image/png": "[encoded data removed]",
      "text/plain": [
       "<Figure size 432x288 with 1 Axes>"
      ]
     },
     "metadata": {},
     "output_type": "display_data"
    }
   ],
   "source": [
    "#Plotting a line graph \n",
    "\n",
    "x_years = stage_USA['Year'].values\n",
    "y_values = stage_USA['Value'].values\n",
    "plt.xlabel('Years')\n",
    "plt.ylabel(stage_USA['IndicatorName'].iloc[0])\n",
    "plt.title('CO2 emissions per capita in USA')\n",
    "#We can make a more intuitive graph by setting the axis values. You are free to comment this out\n",
    "plt.axis([1959, 2011, 0, 25])  #Here, I set the y axis between 0 and 25 and x axis between 1959 to 2011\n",
    "\n",
    "#plot function \n",
    "plt.plot(x_years, y_values)\n"
   ]
  },
  {
   "cell_type": "markdown",
   "metadata": {},
   "source": [
    "Let's collect similar data for India and China and see their trendlines. \n"
   ]
  },
  {
   "cell_type": "code",
   "execution_count": 9,
   "metadata": {},
   "outputs": [],
   "source": [
    "#collecting data for India \n",
    "\n",
    "first_indicator = 'CO2 emissions \\(metric'\n",
    "country = 'India'\n",
    "\n",
    "mask1 = data['IndicatorName'].str.contains(first_indicator) \n",
    "mask2 = data['CountryName'].str.contains(country)  #Notice how we are using Country Name here, rather than the Country Code \n",
    "\n",
    "stage_India = data[mask1 & mask2]"
   ]
  },
  {
   "cell_type": "code",
   "execution_count": 10,
   "metadata": {},
   "outputs": [
    {
     "data": {
      "text/plain": [
       "[<matplotlib.lines.Line2D at 0x7f30426b9d30>]"
      ]
     },
     "execution_count": 10,
     "metadata": {},
     "output_type": "execute_result"
    },
    {
     "data": {
      "image/png": "[encoded data removed]",
      "text/plain": [
       "<Figure size 432x288 with 1 Axes>"
      ]
     },
     "metadata": {},
     "output_type": "display_data"
    }
   ],
   "source": [
    "#Plotting a line graph for India\n",
    "\n",
    "x_years = stage_India['Year'].values\n",
    "y_values = stage_India['Value'].values\n",
    "plt.xlabel('Years')\n",
    "plt.ylabel(stage_India['IndicatorName'].iloc[0])\n",
    "plt.title('CO2 emissions per capita in India')\n",
    "\n",
    "plt.axis([1959, 2011, 0, 25])  \n",
    "#If we are comparing with USA but we can also keep it to scale but since we are taking into account three countries here, I am keeping the scale constant\n",
    "\n",
    "#plot function \n",
    "plt.plot(x_years, y_values)\n"
   ]
  },
  {
   "cell_type": "code",
   "execution_count": 11,
   "metadata": {},
   "outputs": [],
   "source": [
    "#collecting data for China\n",
    "\n",
    "first_indicator = 'CO2 emissions \\(metric'\n",
    "country = 'China'\n",
    "\n",
    "mask1 = data['IndicatorName'].str.contains(first_indicator) \n",
    "mask2 = data['CountryName'].str.contains(country)  \n",
    "\n",
    "\n",
    "stage_China = data[mask1 & mask2]"
   ]
  },
  {
   "cell_type": "code",
   "execution_count": 12,
   "metadata": {},
   "outputs": [
    {
     "data": {
      "text/plain": [
       "[<matplotlib.lines.Line2D at 0x7f304261a978>]"
      ]
     },
     "execution_count": 12,
     "metadata": {},
     "output_type": "execute_result"
    },
    {
     "data": {
      "image/png": "[encoded data removed]",
      "text/plain": [
       "<Figure size 432x288 with 1 Axes>"
      ]
     },
     "metadata": {},
     "output_type": "display_data"
    }
   ],
   "source": [
    "# Plotting a graph for China \n",
    "x_years = stage_China['Year'].values\n",
    "y_values = stage_China['Value'].values\n",
    "\n",
    "plt.xlabel('Years')\n",
    "plt.ylabel(stage_China['IndicatorName'].iloc[0])\n",
    "plt.title('CO2 Emissions per capita in China')\n",
    "\n",
    "plt.axis([1959, 2011, 0, 25])\n",
    "plt.plot(x_years, y_values)\n"
   ]
  },
  {
   "cell_type": "markdown",
   "metadata": {},
   "source": [
    "## ERROR\n",
    "**Here, I noticed a major descrepancy in the China plot where there were multiple issues with the grah and there was inconsistent plotting. Here's how I solved it. **\n"
   ]
  },
  {
   "cell_type": "code",
   "execution_count": 13,
   "metadata": {},
   "outputs": [
    {
     "name": "stdout",
     "output_type": "stream",
     "text": [
      "52\n",
      "52\n",
      "156\n"
     ]
    },
    {
     "data": {
      "text/html": [
       "<div>\n",
       "<style scoped>\n",
       "    .dataframe tbody tr th:only-of-type {\n",
       "        vertical-align: middle;\n",
       "    }\n",
       "\n",
       "    .dataframe tbody tr th {\n",
       "        vertical-align: top;\n",
       "    }\n",
       "\n",
       "    .dataframe thead th {\n",
       "        text-align: right;\n",
       "    }\n",
       "</style>\n",
       "<table border=\"1\" class=\"dataframe\">\n",
       "  <thead>\n",
       "    <tr style=\"text-align: right;\">\n",
       "      <th></th>\n",
       "      <th>CountryName</th>\n",
       "      <th>CountryCode</th>\n",
       "      <th>IndicatorName</th>\n",
       "      <th>IndicatorCode</th>\n",
       "      <th>Year</th>\n",
       "      <th>Value</th>\n",
       "    </tr>\n",
       "  </thead>\n",
       "  <tbody>\n",
       "    <tr>\n",
       "      <th>7160</th>\n",
       "      <td>China</td>\n",
       "      <td>CHN</td>\n",
       "      <td>CO2 emissions (metric tons per capita)</td>\n",
       "      <td>EN.ATM.CO2E.PC</td>\n",
       "      <td>1960</td>\n",
       "      <td>1.170381</td>\n",
       "    </tr>\n",
       "    <tr>\n",
       "      <th>11224</th>\n",
       "      <td>Hong Kong SAR, China</td>\n",
       "      <td>HKG</td>\n",
       "      <td>CO2 emissions (metric tons per capita)</td>\n",
       "      <td>EN.ATM.CO2E.PC</td>\n",
       "      <td>1960</td>\n",
       "      <td>0.960982</td>\n",
       "    </tr>\n",
       "    <tr>\n",
       "      <th>14272</th>\n",
       "      <td>Macao SAR, China</td>\n",
       "      <td>MAC</td>\n",
       "      <td>CO2 emissions (metric tons per capita)</td>\n",
       "      <td>EN.ATM.CO2E.PC</td>\n",
       "      <td>1960</td>\n",
       "      <td>0.299424</td>\n",
       "    </tr>\n",
       "    <tr>\n",
       "      <th>31454</th>\n",
       "      <td>China</td>\n",
       "      <td>CHN</td>\n",
       "      <td>CO2 emissions (metric tons per capita)</td>\n",
       "      <td>EN.ATM.CO2E.PC</td>\n",
       "      <td>1961</td>\n",
       "      <td>0.836047</td>\n",
       "    </tr>\n",
       "    <tr>\n",
       "      <th>36124</th>\n",
       "      <td>Hong Kong SAR, China</td>\n",
       "      <td>HKG</td>\n",
       "      <td>CO2 emissions (metric tons per capita)</td>\n",
       "      <td>EN.ATM.CO2E.PC</td>\n",
       "      <td>1961</td>\n",
       "      <td>1.064878</td>\n",
       "    </tr>\n",
       "    <tr>\n",
       "      <th>39570</th>\n",
       "      <td>Macao SAR, China</td>\n",
       "      <td>MAC</td>\n",
       "      <td>CO2 emissions (metric tons per capita)</td>\n",
       "      <td>EN.ATM.CO2E.PC</td>\n",
       "      <td>1961</td>\n",
       "      <td>0.397825</td>\n",
       "    </tr>\n",
       "    <tr>\n",
       "      <th>58654</th>\n",
       "      <td>China</td>\n",
       "      <td>CHN</td>\n",
       "      <td>CO2 emissions (metric tons per capita)</td>\n",
       "      <td>EN.ATM.CO2E.PC</td>\n",
       "      <td>1962</td>\n",
       "      <td>0.661428</td>\n",
       "    </tr>\n",
       "    <tr>\n",
       "      <th>63649</th>\n",
       "      <td>Hong Kong SAR, China</td>\n",
       "      <td>HKG</td>\n",
       "      <td>CO2 emissions (metric tons per capita)</td>\n",
       "      <td>EN.ATM.CO2E.PC</td>\n",
       "      <td>1962</td>\n",
       "      <td>1.115011</td>\n",
       "    </tr>\n",
       "    <tr>\n",
       "      <th>67276</th>\n",
       "      <td>Macao SAR, China</td>\n",
       "      <td>MAC</td>\n",
       "      <td>CO2 emissions (metric tons per capita)</td>\n",
       "      <td>EN.ATM.CO2E.PC</td>\n",
       "      <td>1962</td>\n",
       "      <td>0.526679</td>\n",
       "    </tr>\n",
       "    <tr>\n",
       "      <th>87039</th>\n",
       "      <td>China</td>\n",
       "      <td>CHN</td>\n",
       "      <td>CO2 emissions (metric tons per capita)</td>\n",
       "      <td>EN.ATM.CO2E.PC</td>\n",
       "      <td>1963</td>\n",
       "      <td>0.640002</td>\n",
       "    </tr>\n",
       "    <tr>\n",
       "      <th>92091</th>\n",
       "      <td>Hong Kong SAR, China</td>\n",
       "      <td>HKG</td>\n",
       "      <td>CO2 emissions (metric tons per capita)</td>\n",
       "      <td>EN.ATM.CO2E.PC</td>\n",
       "      <td>1963</td>\n",
       "      <td>1.242379</td>\n",
       "    </tr>\n",
       "    <tr>\n",
       "      <th>95817</th>\n",
       "      <td>Macao SAR, China</td>\n",
       "      <td>MAC</td>\n",
       "      <td>CO2 emissions (metric tons per capita)</td>\n",
       "      <td>EN.ATM.CO2E.PC</td>\n",
       "      <td>1963</td>\n",
       "      <td>0.563547</td>\n",
       "    </tr>\n",
       "    <tr>\n",
       "      <th>115765</th>\n",
       "      <td>China</td>\n",
       "      <td>CHN</td>\n",
       "      <td>CO2 emissions (metric tons per capita)</td>\n",
       "      <td>EN.ATM.CO2E.PC</td>\n",
       "      <td>1964</td>\n",
       "      <td>0.625646</td>\n",
       "    </tr>\n",
       "    <tr>\n",
       "      <th>120879</th>\n",
       "      <td>Hong Kong SAR, China</td>\n",
       "      <td>HKG</td>\n",
       "      <td>CO2 emissions (metric tons per capita)</td>\n",
       "      <td>EN.ATM.CO2E.PC</td>\n",
       "      <td>1964</td>\n",
       "      <td>1.205383</td>\n",
       "    </tr>\n",
       "    <tr>\n",
       "      <th>124670</th>\n",
       "      <td>Macao SAR, China</td>\n",
       "      <td>MAC</td>\n",
       "      <td>CO2 emissions (metric tons per capita)</td>\n",
       "      <td>EN.ATM.CO2E.PC</td>\n",
       "      <td>1964</td>\n",
       "      <td>0.649772</td>\n",
       "    </tr>\n",
       "  </tbody>\n",
       "</table>\n",
       "</div>"
      ],
      "text/plain": [
       "                 CountryName CountryCode    ...     Year     Value\n",
       "7160                   China         CHN    ...     1960  1.170381\n",
       "11224   Hong Kong SAR, China         HKG    ...     1960  0.960982\n",
       "14272       Macao SAR, China         MAC    ...     1960  0.299424\n",
       "31454                  China         CHN    ...     1961  0.836047\n",
       "36124   Hong Kong SAR, China         HKG    ...     1961  1.064878\n",
       "39570       Macao SAR, China         MAC    ...     1961  0.397825\n",
       "58654                  China         CHN    ...     1962  0.661428\n",
       "63649   Hong Kong SAR, China         HKG    ...     1962  1.115011\n",
       "67276       Macao SAR, China         MAC    ...     1962  0.526679\n",
       "87039                  China         CHN    ...     1963  0.640002\n",
       "92091   Hong Kong SAR, China         HKG    ...     1963  1.242379\n",
       "95817       Macao SAR, China         MAC    ...     1963  0.563547\n",
       "115765                 China         CHN    ...     1964  0.625646\n",
       "120879  Hong Kong SAR, China         HKG    ...     1964  1.205383\n",
       "124670      Macao SAR, China         MAC    ...     1964  0.649772\n",
       "\n",
       "[15 rows x 6 columns]"
      ]
     },
     "execution_count": 13,
     "metadata": {},
     "output_type": "execute_result"
    }
   ],
   "source": [
    "# Let's look at the number of values of the China plot and see where it went wrong. \n",
    "print(len(stage_USA))\n",
    "print(len(stage_India))\n",
    "print(len(stage_China))\n",
    "\n",
    "#As we saw above there are more values in the China plot. Let's see why. \n",
    "stage_China.head(15)"
   ]
  },
  {
   "cell_type": "markdown",
   "metadata": {},
   "source": [
    "As we can see here, the country code for China is CHN. However, they have also included Hong Kong and Macau in the same graph and are grouped by the Country Name China itself. This is why China had more data points. \n",
    "So, we need to correct that. Let's group China by CHN."
   ]
  },
  {
   "cell_type": "code",
   "execution_count": 14,
   "metadata": {},
   "outputs": [
    {
     "data": {
      "text/plain": [
       "52"
      ]
     },
     "execution_count": 14,
     "metadata": {},
     "output_type": "execute_result"
    }
   ],
   "source": [
    "#Collecting Data grouped by CHN \n",
    "first_indicator = 'CO2 emissions \\(metric'\n",
    "country = 'CHN'\n",
    "\n",
    "mask1 = data['IndicatorName'].str.contains(first_indicator) \n",
    "mask2 = data['CountryCode'].str.contains(country)  #changed back to CountryCode\n",
    "\n",
    "\n",
    "stage_China = data[mask1 & mask2]\n",
    "len(stage_China)"
   ]
  },
  {
   "cell_type": "markdown",
   "metadata": {},
   "source": [
    "We now get the same number of data points for China, USA and India. Let's plot the graph. \n"
   ]
  },
  {
   "cell_type": "code",
   "execution_count": 15,
   "metadata": {},
   "outputs": [
    {
     "data": {
      "text/plain": [
       "[<matplotlib.lines.Line2D at 0x7f30425f7208>]"
      ]
     },
     "execution_count": 15,
     "metadata": {},
     "output_type": "execute_result"
    },
    {
     "data": {
      "image/png": "[encoded data removed]",
      "text/plain": [
       "<Figure size 432x288 with 1 Axes>"
      ]
     },
     "metadata": {},
     "output_type": "display_data"
    }
   ],
   "source": [
    "# Plotting a graph for China with the new grouping \n",
    "\n",
    "x_years = stage_China['Year'].values\n",
    "y_values = stage_China['Value'].values\n",
    "\n",
    "plt.xlabel('Years')\n",
    "plt.ylabel(stage_China['IndicatorName'].iloc[0])\n",
    "plt.title('CO2 Emissions per capita in China')\n",
    "\n",
    "plt.axis([1959, 2011, 0, 25])\n",
    "plt.plot(x_years, y_values)\n"
   ]
  },
  {
   "cell_type": "markdown",
   "metadata": {},
   "source": [
    "After plotting the first set of indicators, we have a rough idea of the kind of data we're dealing with. Any Outliers have also been dealt with in this inital data. The first question we may have is why exactly does USA have such high emission values compared to India and China even though all three of them are heavily industrialized. I am writing another notebook on that analysis and will soon update that link here. \n"
   ]
  },
  {
   "cell_type": "markdown",
   "metadata": {},
   "source": [
    "## Collecting the second indicator data"
   ]
  },
  {
   "cell_type": "markdown",
   "metadata": {},
   "source": [
    "Our second indicator is **GDP per capita** \n",
    "This time we will not plot the data as we have already done that once. We will only do the final correlation analysis. "
   ]
  },
  {
   "cell_type": "code",
   "execution_count": 16,
   "metadata": {},
   "outputs": [
    {
     "name": "stdout",
     "output_type": "stream",
     "text": [
      "55\n"
     ]
    },
    {
     "data": {
      "text/html": [
       "<div>\n",
       "<style scoped>\n",
       "    .dataframe tbody tr th:only-of-type {\n",
       "        vertical-align: middle;\n",
       "    }\n",
       "\n",
       "    .dataframe tbody tr th {\n",
       "        vertical-align: top;\n",
       "    }\n",
       "\n",
       "    .dataframe thead th {\n",
       "        text-align: right;\n",
       "    }\n",
       "</style>\n",
       "<table border=\"1\" class=\"dataframe\">\n",
       "  <thead>\n",
       "    <tr style=\"text-align: right;\">\n",
       "      <th></th>\n",
       "      <th>CountryName</th>\n",
       "      <th>CountryCode</th>\n",
       "      <th>IndicatorName</th>\n",
       "      <th>IndicatorCode</th>\n",
       "      <th>Year</th>\n",
       "      <th>Value</th>\n",
       "    </tr>\n",
       "  </thead>\n",
       "  <tbody>\n",
       "    <tr>\n",
       "      <th>22282</th>\n",
       "      <td>United States</td>\n",
       "      <td>USA</td>\n",
       "      <td>GDP per capita (constant 2005 US$)</td>\n",
       "      <td>NY.GDP.PCAP.KD</td>\n",
       "      <td>1960</td>\n",
       "      <td>15482.707760</td>\n",
       "    </tr>\n",
       "    <tr>\n",
       "      <th>48759</th>\n",
       "      <td>United States</td>\n",
       "      <td>USA</td>\n",
       "      <td>GDP per capita (constant 2005 US$)</td>\n",
       "      <td>NY.GDP.PCAP.KD</td>\n",
       "      <td>1961</td>\n",
       "      <td>15578.409657</td>\n",
       "    </tr>\n",
       "    <tr>\n",
       "      <th>77142</th>\n",
       "      <td>United States</td>\n",
       "      <td>USA</td>\n",
       "      <td>GDP per capita (constant 2005 US$)</td>\n",
       "      <td>NY.GDP.PCAP.KD</td>\n",
       "      <td>1962</td>\n",
       "      <td>16276.426685</td>\n",
       "    </tr>\n",
       "    <tr>\n",
       "      <th>105760</th>\n",
       "      <td>United States</td>\n",
       "      <td>USA</td>\n",
       "      <td>GDP per capita (constant 2005 US$)</td>\n",
       "      <td>NY.GDP.PCAP.KD</td>\n",
       "      <td>1963</td>\n",
       "      <td>16749.789436</td>\n",
       "    </tr>\n",
       "    <tr>\n",
       "      <th>134798</th>\n",
       "      <td>United States</td>\n",
       "      <td>USA</td>\n",
       "      <td>GDP per capita (constant 2005 US$)</td>\n",
       "      <td>NY.GDP.PCAP.KD</td>\n",
       "      <td>1964</td>\n",
       "      <td>17476.822248</td>\n",
       "    </tr>\n",
       "  </tbody>\n",
       "</table>\n",
       "</div>"
      ],
      "text/plain": [
       "          CountryName CountryCode      ...       Year         Value\n",
       "22282   United States         USA      ...       1960  15482.707760\n",
       "48759   United States         USA      ...       1961  15578.409657\n",
       "77142   United States         USA      ...       1962  16276.426685\n",
       "105760  United States         USA      ...       1963  16749.789436\n",
       "134798  United States         USA      ...       1964  17476.822248\n",
       "\n",
       "[5 rows x 6 columns]"
      ]
     },
     "execution_count": 16,
     "metadata": {},
     "output_type": "execute_result"
    }
   ],
   "source": [
    "# select GDP Per capita emissions for the United States\n",
    "second_indicator = 'GDP per capita \\(constant 2005'\n",
    "country = 'USA'\n",
    "\n",
    "mask1 = data['IndicatorName'].str.contains(second_indicator) \n",
    "mask2 = data['CountryCode'].str.contains(country)\n",
    "\n",
    "# stage is just those indicators matching the USA for country code and CO2 emissions over time.\n",
    "gdp_stage_USA = data[mask1 & mask2]\n",
    "print(len(gdp_stage_USA))\n",
    "gdp_stage_USA.head()"
   ]
  },
  {
   "cell_type": "code",
   "execution_count": 17,
   "metadata": {},
   "outputs": [
    {
     "name": "stdout",
     "output_type": "stream",
     "text": [
      "55\n"
     ]
    },
    {
     "data": {
      "text/html": [
       "<div>\n",
       "<style scoped>\n",
       "    .dataframe tbody tr th:only-of-type {\n",
       "        vertical-align: middle;\n",
       "    }\n",
       "\n",
       "    .dataframe tbody tr th {\n",
       "        vertical-align: top;\n",
       "    }\n",
       "\n",
       "    .dataframe thead th {\n",
       "        text-align: right;\n",
       "    }\n",
       "</style>\n",
       "<table border=\"1\" class=\"dataframe\">\n",
       "  <thead>\n",
       "    <tr style=\"text-align: right;\">\n",
       "      <th></th>\n",
       "      <th>CountryName</th>\n",
       "      <th>CountryCode</th>\n",
       "      <th>IndicatorName</th>\n",
       "      <th>IndicatorCode</th>\n",
       "      <th>Year</th>\n",
       "      <th>Value</th>\n",
       "    </tr>\n",
       "  </thead>\n",
       "  <tbody>\n",
       "    <tr>\n",
       "      <th>11616</th>\n",
       "      <td>India</td>\n",
       "      <td>IND</td>\n",
       "      <td>GDP per capita (constant 2005 US$)</td>\n",
       "      <td>NY.GDP.PCAP.KD</td>\n",
       "      <td>1960</td>\n",
       "      <td>228.304470</td>\n",
       "    </tr>\n",
       "    <tr>\n",
       "      <th>36555</th>\n",
       "      <td>India</td>\n",
       "      <td>IND</td>\n",
       "      <td>GDP per capita (constant 2005 US$)</td>\n",
       "      <td>NY.GDP.PCAP.KD</td>\n",
       "      <td>1961</td>\n",
       "      <td>232.142053</td>\n",
       "    </tr>\n",
       "    <tr>\n",
       "      <th>64095</th>\n",
       "      <td>India</td>\n",
       "      <td>IND</td>\n",
       "      <td>GDP per capita (constant 2005 US$)</td>\n",
       "      <td>NY.GDP.PCAP.KD</td>\n",
       "      <td>1962</td>\n",
       "      <td>234.166685</td>\n",
       "    </tr>\n",
       "    <tr>\n",
       "      <th>92540</th>\n",
       "      <td>India</td>\n",
       "      <td>IND</td>\n",
       "      <td>GDP per capita (constant 2005 US$)</td>\n",
       "      <td>NY.GDP.PCAP.KD</td>\n",
       "      <td>1963</td>\n",
       "      <td>243.176418</td>\n",
       "    </tr>\n",
       "    <tr>\n",
       "      <th>121337</th>\n",
       "      <td>India</td>\n",
       "      <td>IND</td>\n",
       "      <td>GDP per capita (constant 2005 US$)</td>\n",
       "      <td>NY.GDP.PCAP.KD</td>\n",
       "      <td>1964</td>\n",
       "      <td>255.963668</td>\n",
       "    </tr>\n",
       "  </tbody>\n",
       "</table>\n",
       "</div>"
      ],
      "text/plain": [
       "       CountryName CountryCode     ...      Year       Value\n",
       "11616        India         IND     ...      1960  228.304470\n",
       "36555        India         IND     ...      1961  232.142053\n",
       "64095        India         IND     ...      1962  234.166685\n",
       "92540        India         IND     ...      1963  243.176418\n",
       "121337       India         IND     ...      1964  255.963668\n",
       "\n",
       "[5 rows x 6 columns]"
      ]
     },
     "execution_count": 17,
     "metadata": {},
     "output_type": "execute_result"
    }
   ],
   "source": [
    "# select GDP Per capita emissions for the India\n",
    "second_indicator = 'GDP per capita \\(constant 2005'\n",
    "country = 'India'\n",
    "\n",
    "mask1 = data['IndicatorName'].str.contains(second_indicator) \n",
    "mask2 = data['CountryName'].str.contains(country)\n",
    "\n",
    "# stage is just those indicators matching the USA for country code and CO2 emissions over time.\n",
    "gdp_stage_India = data[mask1 & mask2]\n",
    "print(len(gdp_stage_India))\n",
    "gdp_stage_India.head()"
   ]
  },
  {
   "cell_type": "code",
   "execution_count": 18,
   "metadata": {},
   "outputs": [
    {
     "name": "stdout",
     "output_type": "stream",
     "text": [
      "55\n"
     ]
    },
    {
     "data": {
      "text/html": [
       "<div>\n",
       "<style scoped>\n",
       "    .dataframe tbody tr th:only-of-type {\n",
       "        vertical-align: middle;\n",
       "    }\n",
       "\n",
       "    .dataframe tbody tr th {\n",
       "        vertical-align: top;\n",
       "    }\n",
       "\n",
       "    .dataframe thead th {\n",
       "        text-align: right;\n",
       "    }\n",
       "</style>\n",
       "<table border=\"1\" class=\"dataframe\">\n",
       "  <thead>\n",
       "    <tr style=\"text-align: right;\">\n",
       "      <th></th>\n",
       "      <th>CountryName</th>\n",
       "      <th>CountryCode</th>\n",
       "      <th>IndicatorName</th>\n",
       "      <th>IndicatorCode</th>\n",
       "      <th>Year</th>\n",
       "      <th>Value</th>\n",
       "    </tr>\n",
       "  </thead>\n",
       "  <tbody>\n",
       "    <tr>\n",
       "      <th>7187</th>\n",
       "      <td>China</td>\n",
       "      <td>CHN</td>\n",
       "      <td>GDP per capita (constant 2005 US$)</td>\n",
       "      <td>NY.GDP.PCAP.KD</td>\n",
       "      <td>1960</td>\n",
       "      <td>121.191585</td>\n",
       "    </tr>\n",
       "    <tr>\n",
       "      <th>31484</th>\n",
       "      <td>China</td>\n",
       "      <td>CHN</td>\n",
       "      <td>GDP per capita (constant 2005 US$)</td>\n",
       "      <td>NY.GDP.PCAP.KD</td>\n",
       "      <td>1961</td>\n",
       "      <td>89.005585</td>\n",
       "    </tr>\n",
       "    <tr>\n",
       "      <th>58684</th>\n",
       "      <td>China</td>\n",
       "      <td>CHN</td>\n",
       "      <td>GDP per capita (constant 2005 US$)</td>\n",
       "      <td>NY.GDP.PCAP.KD</td>\n",
       "      <td>1962</td>\n",
       "      <td>83.334735</td>\n",
       "    </tr>\n",
       "    <tr>\n",
       "      <th>87069</th>\n",
       "      <td>China</td>\n",
       "      <td>CHN</td>\n",
       "      <td>GDP per capita (constant 2005 US$)</td>\n",
       "      <td>NY.GDP.PCAP.KD</td>\n",
       "      <td>1963</td>\n",
       "      <td>89.605409</td>\n",
       "    </tr>\n",
       "    <tr>\n",
       "      <th>115795</th>\n",
       "      <td>China</td>\n",
       "      <td>CHN</td>\n",
       "      <td>GDP per capita (constant 2005 US$)</td>\n",
       "      <td>NY.GDP.PCAP.KD</td>\n",
       "      <td>1964</td>\n",
       "      <td>103.571525</td>\n",
       "    </tr>\n",
       "  </tbody>\n",
       "</table>\n",
       "</div>"
      ],
      "text/plain": [
       "       CountryName CountryCode     ...      Year       Value\n",
       "7187         China         CHN     ...      1960  121.191585\n",
       "31484        China         CHN     ...      1961   89.005585\n",
       "58684        China         CHN     ...      1962   83.334735\n",
       "87069        China         CHN     ...      1963   89.605409\n",
       "115795       China         CHN     ...      1964  103.571525\n",
       "\n",
       "[5 rows x 6 columns]"
      ]
     },
     "execution_count": 18,
     "metadata": {},
     "output_type": "execute_result"
    }
   ],
   "source": [
    "# select GDP Per capita emissions for the India\n",
    "second_indicator = 'GDP per capita \\(constant 2005'\n",
    "country = 'CHN'\n",
    "\n",
    "mask1 = data['IndicatorName'].str.contains(second_indicator) \n",
    "mask2 = data['CountryCode'].str.contains(country)\n",
    "\n",
    "# stage is just those indicators matching the USA for country code and CO2 emissions over time.\n",
    "gdp_stage_China = data[mask1 & mask2]\n",
    "print(len(gdp_stage_China))\n",
    "gdp_stage_China.head()"
   ]
  },
  {
   "cell_type": "markdown",
   "metadata": {},
   "source": [
    "## Plotting a scatter plot to find relation between GDP per capita and CO2 emissions per capita\n"
   ]
  },
  {
   "cell_type": "markdown",
   "metadata": {},
   "source": [
    "### IMPORTANT \n",
    "We have the same number of datapoints ( 55 ) for all three countries for this indicator. However, something you might have noticed is that the number of datapoints is different this time. For CO2 emissions, we have 52 datapoints. For GDP per capita, we have 55 datapoints. This will lead to error in the analysis. Hence, we need to correct that. "
   ]
  },
  {
   "cell_type": "code",
   "execution_count": 19,
   "metadata": {},
   "outputs": [
    {
     "name": "stdout",
     "output_type": "stream",
     "text": [
      "GDP Min Year =  1960 max:  2014\n",
      "CO2 Min Year =  1960 max:  2011\n"
     ]
    }
   ],
   "source": [
    "# We'll need to make sure we're looking at the same time frames\n",
    "\n",
    "print(\"GDP Min Year = \", gdp_stage_USA['Year'].min(), \"max: \", gdp_stage_USA['Year'].max())\n",
    "print(\"CO2 Min Year = \", stage_USA['Year'].min(), \"max: \", stage_USA['Year'].max())"
   ]
  },
  {
   "cell_type": "markdown",
   "metadata": {},
   "source": [
    "We have 3 extra years of GDP data, so let's trim those off so the scatterplot has equal length arrays to compare (this is actually required by scatterplot). "
   ]
  },
  {
   "cell_type": "code",
   "execution_count": 20,
   "metadata": {},
   "outputs": [
    {
     "name": "stdout",
     "output_type": "stream",
     "text": [
      "52\n",
      "52\n"
     ]
    }
   ],
   "source": [
    "gdp_stage_trunc_USA = gdp_stage_USA[gdp_stage_USA['Year'] < 2012]\n",
    "print(len(gdp_stage_trunc_USA))\n",
    "print(len(stage_USA))\n",
    "\n",
    "#Let's do it for the other two as well \n",
    "\n",
    "gdp_stage_trunc_India = gdp_stage_India[gdp_stage_India['Year'] < 2012]\n",
    "gdp_stage_trunc_China = gdp_stage_China[gdp_stage_China['Year'] < 2012]\n"
   ]
  },
  {
   "cell_type": "markdown",
   "metadata": {},
   "source": [
    "** Plotting the scatter plot for all the three countries **"
   ]
  },
  {
   "cell_type": "markdown",
   "metadata": {},
   "source": [
    "#### USA"
   ]
  },
  {
   "cell_type": "code",
   "execution_count": 21,
   "metadata": {},
   "outputs": [
    {
     "data": {
      "image/png": "[encoded data removed]",
      "text/plain": [
       "<Figure size 432x288 with 1 Axes>"
      ]
     },
     "metadata": {},
     "output_type": "display_data"
    }
   ],
   "source": [
    "%matplotlib inline\n",
    "\n",
    "#Plotting a subplot \n",
    "fig, axis = plt.subplots()\n",
    "# Grid lines, Xticks, Xlabel, Ylabel\n",
    "\n",
    "axis.yaxis.grid(True)\n",
    "axis.set_title('CO2 Emissions vs. GDP (per capita) for USA',fontsize=10)\n",
    "axis.set_xlabel(gdp_stage_trunc_USA['IndicatorName'].iloc[0],fontsize=10)   \n",
    "axis.set_ylabel(stage_USA['IndicatorName'].iloc[0],fontsize=10)\n",
    "\n",
    "X = gdp_stage_trunc_USA['Value']                   # Obtaining GDP values \n",
    "Y = stage_USA['Value']                             # Obtaining CO2 values\n",
    "\n",
    "axis.scatter(X, Y)\n",
    "plt.show()"
   ]
  },
  {
   "cell_type": "markdown",
   "metadata": {},
   "source": [
    "There seems to be an initial relation but no relation later. It seems like there isn't much correlation between these two factors in USA. We'll analyse this in a while. Let's do this for the other two countries as well."
   ]
  },
  {
   "cell_type": "markdown",
   "metadata": {},
   "source": [
    "#### INDIA"
   ]
  },
  {
   "cell_type": "code",
   "execution_count": 22,
   "metadata": {},
   "outputs": [
    {
     "data": {
      "image/png": "[encoded data removed]",
      "text/plain": [
       "<Figure size 432x288 with 1 Axes>"
      ]
     },
     "metadata": {},
     "output_type": "display_data"
    }
   ],
   "source": [
    "%matplotlib inline\n",
    "\n",
    "#Plotting a subplot\n",
    "fig, axis = plt.subplots()\n",
    "# Grid lines, Xticks, Xlabel, Ylabel\n",
    "\n",
    "axis.yaxis.grid(True)\n",
    "axis.set_title('CO2 Emissions vs. GDP \\(per capita\\) for INDIA',fontsize=10)\n",
    "axis.set_xlabel(gdp_stage_trunc_India['IndicatorName'].iloc[0],fontsize=10)   \n",
    "axis.set_ylabel(stage_India['IndicatorName'].iloc[0],fontsize=10)\n",
    "\n",
    "X = gdp_stage_trunc_India['Value']                   # Obtaining GDP values \n",
    "Y = stage_India['Value']                             # Obtaining CO2 values\n",
    "\n",
    "axis.scatter(X, Y)\n",
    "plt.show()"
   ]
  },
  {
   "cell_type": "markdown",
   "metadata": {},
   "source": [
    "There seems to be a little bit of correlation. "
   ]
  },
  {
   "cell_type": "markdown",
   "metadata": {},
   "source": [
    "#### CHINA\n"
   ]
  },
  {
   "cell_type": "code",
   "execution_count": 23,
   "metadata": {},
   "outputs": [
    {
     "data": {
      "image/png": "[encoded data removed]",
      "text/plain": [
       "<Figure size 432x288 with 1 Axes>"
      ]
     },
     "metadata": {},
     "output_type": "display_data"
    }
   ],
   "source": [
    "%matplotlib inline\n",
    "\n",
    "#Plotting a subplot\n",
    "fig, axis = plt.subplots()\n",
    "# Grid lines, Xticks, Xlabel, Ylabel\n",
    "\n",
    "axis.yaxis.grid(True)\n",
    "axis.set_title('CO2 Emissions vs. GDP \\(per capita\\)',fontsize=10)\n",
    "axis.set_xlabel(gdp_stage_trunc_China['IndicatorName'].iloc[0],fontsize=10)   \n",
    "axis.set_ylabel(stage_China['IndicatorName'].iloc[0],fontsize=10)\n",
    "\n",
    "X = gdp_stage_trunc_China['Value']                   # Obtaining GDP values \n",
    "Y = stage_China['Value']                             # Obtaining CO2 values\n",
    "\n",
    "axis.scatter(X, Y)\n",
    "plt.show()"
   ]
  },
  {
   "cell_type": "markdown",
   "metadata": {},
   "source": [
    "There can be some correlation here. Let's find out. "
   ]
  },
  {
   "cell_type": "markdown",
   "metadata": {},
   "source": [
    "**Now, we have plotted the graphs and we have some rough idea about these graphs but we cannot conclude yet. Let's use the correlation coefficient function and find out the value.** That might be helpful. **"
   ]
  },
  {
   "cell_type": "code",
   "execution_count": 24,
   "metadata": {},
   "outputs": [
    {
     "name": "stdout",
     "output_type": "stream",
     "text": [
      "The correlation value for USA is: 0.07676004947239425\n"
     ]
    }
   ],
   "source": [
    "# Correlation for USA\n",
    "corr_USA = np.corrcoef(gdp_stage_trunc_USA['Value'],stage_USA['Value'])\n",
    "print(\"The correlation value for USA is: {}\".format(corr_USA[1][0]))"
   ]
  },
  {
   "cell_type": "code",
   "execution_count": 25,
   "metadata": {},
   "outputs": [
    {
     "name": "stdout",
     "output_type": "stream",
     "text": [
      "The correlation value for India is: 0.9675375804903926\n"
     ]
    }
   ],
   "source": [
    "corr_India = np.corrcoef(gdp_stage_trunc_India['Value'],stage_India['Value'])\n",
    "print(\"The correlation value for India is: {}\".format(corr_India[1][0]))"
   ]
  },
  {
   "cell_type": "code",
   "execution_count": 26,
   "metadata": {},
   "outputs": [
    {
     "name": "stdout",
     "output_type": "stream",
     "text": [
      "The correlation value for China is: 0.9802166377386855\n"
     ]
    }
   ],
   "source": [
    "corr_China = np.corrcoef(gdp_stage_trunc_China['Value'],stage_China['Value'])\n",
    "print(\"The correlation value for China is: {}\".format(corr_China[1][0]))"
   ]
  },
  {
   "cell_type": "markdown",
   "metadata": {},
   "source": [
    "## Result:- \n",
    "With this, we come to an end of this analysis. We followed a particular methodology and have come to this conclusion. We see that there is a pretty weak correlation between GDP per capita and CO2 emissions in the case of USA i.e. 0.077. However, on the other hand, we have India and China with a correlation coefficient of 0.967 and 0.98 respectively. The first question is obviously - 'Why is there such a relationship?'.\n",
    "\n",
    "On a closer look, we can classify India and China as developing nations ( or atleast for the majority of the timeframe) while US would be considered as a developed nation. This clustering obviously plays an important role here. We can say that as developing countries try to build their economies faster, they may produce large quantities of CO2 while developed nations on the other hand become conscious of their surroundings and try to take care of their CO2 emissions so even though they do see a GDP growth, they do not witness a CO2 emission rise. \n",
    "\n",
    "Some of you may argue that if the above was true then why did USA have higher emissions per capita in the first plots. It is important to note that while USA had higher per capita emissions, it has a much lower population than the other two nations and we need to look at the gross metric tonne production of CO2 instead. \n",
    "\n",
    "All of these ideas are important. There are many indicators that were not considered, for example _  energy access and consumption, industrialization level and population growth. While trying to find these implications is important let's not forget that this was not what we were trying to find initially. \n",
    "\n",
    "**Our goal was to find the relation between GDP per capita and CO2 emissions and the result is:** \n",
    "> \"GDP per capita and CO2 emissions per capita have a weak relationship in the case of developed nations but have a high correlation in the case of developing nations\" \n",
    "\n",
    "\n"
   ]
  },
  {
   "cell_type": "markdown",
   "metadata": {},
   "source": [
    "### Scope for improvement \n",
    "There are many things that can be improved here. I will try to do that but so should you and these are the things you could work on. \n",
    "* Inculcating more indicators to make the analysis more refined and accurate. \n",
    "* Taking more countries in both the clusters. An addition to that would be clustering all the 247 countries into two groups( or more but distinct groups) based on their economic growth and then finding correlation values for all the countries and then drawing conclusions \n",
    "* Finding out what is the reason of this result and do comment about that further. \n",
    "\n",
    "I would request you to write about this work. I want both good and bad reviews to understand where I can improve this project. Thank you!"
   ]
  },
  {
   "cell_type": "markdown",
   "metadata": {},
   "source": [
    "* Presented by:- Prakhar Rathi \n",
    "* Inspired by:- Leo Porter - UC SAN Diego "
   ]
  },
  {
   "cell_type": "code",
   "execution_count": 27,
   "metadata": {},
   "outputs": [],
   "source": []
  }
 ],
 "metadata": {
  "kernelspec": {
   "display_name": "Python 3",
   "language": "python",
   "name": "python3"
  },
  "language_info": {
   "codemirror_mode": {
    "name": "ipython",
    "version": 3
   },
   "file_extension": ".py",
   "mimetype": "text/x-python",
   "name": "python",
   "nbconvert_exporter": "python",
   "pygments_lexer": "ipython3",
   "version": "3.6.4"
  }
 },
 "nbformat": 4,
 "nbformat_minor": 1
}
